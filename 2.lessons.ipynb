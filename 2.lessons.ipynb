{
 "cells": [
  {
   "cell_type": "code",
   "execution_count": null,
   "metadata": {},
   "outputs": [],
   "source": [
    "a = input()\n",
    "b = input()\n",
    "print(\"Как Вас зовут?\", f\"Здравствуйте, {a}!\", \"Как дела?\", sep=\"\\n\")\n",
    "match b:\n",
    "    case \"хорошо\":\n",
    "        print(\"Я за вас рада!\")\n",
    "    case \"плохо\":\n",
    "        print(\"Всё наладится!\")"
   ]
  },
  {
   "cell_type": "code",
   "execution_count": null,
   "metadata": {},
   "outputs": [],
   "source": [
    "print(ord(\"t\"), ord(\"w\"))\n",
    "\n",
    "print(chr(116), chr(119))\n",
    "\n",
    "text = input()\n",
    "if \"добр\" in text:\n",
    "    print(\"Встретилось 'доброе' слово.\")\n",
    "else:\n",
    "    print(\"Добрых слов не найдено.\")\n",
    "\n",
    "color = input()\n",
    "match color:\n",
    "    case 'красный' | 'жёлтый':\n",
    "        print('Стоп.')\n",
    "    case 'зелёный':\n",
    "        print('Можно ехать.')\n",
    "    case _:\n",
    "        print('Некорректное значение.')\n",
    "\n",
    "m = 12\n",
    "n = 19\n",
    "k = 25\n",
    "\n",
    "# максимальное число\n",
    "print(max(m, n, k))\n",
    "\n",
    "line_1 = \"m\"\n",
    "line_2 = \"n\"\n",
    "line_3 = \"k\"\n",
    "\n",
    "# минимальная лексикографически строка\n",
    "print(min(line_1, line_2, line_3))\n",
    "\n",
    "# количество цифр в числе 2 в степени 2022\n",
    "print(len(str(2 ** 2022)))\n",
    "\n",
    "# Функция abs() используется для определения модуля числа.\n",
    "print(abs(100))\n"
   ]
  },
  {
   "cell_type": "code",
   "execution_count": null,
   "metadata": {},
   "outputs": [],
   "source": [
    "a = int(input())\n",
    "b = int(input())\n",
    "c = int(input())\n",
    "if c < a > b:\n",
    "    print(\"Петя\")\n",
    "elif c < b > a:\n",
    "    print(\"Вася\")\n",
    "else:\n",
    "    print(\"Толя\")"
   ]
  },
  {
   "cell_type": "code",
   "execution_count": null,
   "metadata": {},
   "outputs": [],
   "source": [
    "a = int(input())\n",
    "b = int(input())\n",
    "c = int(input())\n",
    "if c < a > b:\n",
    "    if b > c:\n",
    "        print(\"1. Петя\")\n",
    "        print(\"2. Вася\")\n",
    "        print(\"3. Толя\")\n",
    "    else:\n",
    "        print(\"1. Петя\")\n",
    "        print(\"2. Толя\")\n",
    "        print(\"3. Вася\")\n",
    "elif c < b > a:\n",
    "    if c > a:\n",
    "        print(\"1. Вася\")\n",
    "        print(\"2. Толя\")\n",
    "        print(\"3. Петя\")\n",
    "    else:\n",
    "        print(\"1. Вася\")\n",
    "        print(\"2. Петя\")\n",
    "        print(\"3. Толя\")\n",
    "else:\n",
    "    if a > b:\n",
    "        print(\"1. Толя\")\n",
    "        print(\"2. Петя\")\n",
    "        print(\"3. Вася\")\n",
    "    else:\n",
    "        print(\"1. Толя\")\n",
    "        print(\"2. Вася\")\n",
    "        print(\"3. Петя\")\n",
    "\n"
   ]
  },
  {
   "cell_type": "code",
   "execution_count": null,
   "metadata": {},
   "outputs": [],
   "source": [
    "n = int(input())\n",
    "m = int(input())\n",
    "petya = (7+2-3) + n\n",
    "vasya = (6+5-2) + m\n",
    "if petya > vasya:\n",
    "    print(\"Петя\")\n",
    "else:\n",
    "    print(\"Вася\")"
   ]
  },
  {
   "cell_type": "code",
   "execution_count": null,
   "metadata": {},
   "outputs": [],
   "source": [
    "a = int(input())\n",
    "if a % 2 == 0:\n",
    "    print(\"YES\")\n",
    "else:\n",
    "    print(\"NO\")"
   ]
  },
  {
   "cell_type": "code",
   "execution_count": null,
   "metadata": {},
   "outputs": [],
   "source": [
    "print(2020%4)"
   ]
  },
  {
   "cell_type": "code",
   "execution_count": null,
   "metadata": {},
   "outputs": [],
   "source": [
    "a = int(input())\n",
    "a = str(a)\n",
    "b = \"\"\n",
    "for i in range(len(a)):\n",
    "    b = b + a[- i - 1]\n",
    "if b == a:\n",
    "    print(\"YES\")\n",
    "else:\n",
    "    print(\"NO\")"
   ]
  },
  {
   "cell_type": "code",
   "execution_count": null,
   "metadata": {},
   "outputs": [],
   "source": [
    "a = input()\n",
    "if \"зайка\" in a:\n",
    "    print(\"YES\")\n",
    "else:\n",
    "    print(\"NO\")"
   ]
  },
  {
   "cell_type": "code",
   "execution_count": null,
   "metadata": {},
   "outputs": [],
   "source": [
    "a = input()\n",
    "b = input()\n",
    "c = input()\n",
    "if c > a < b:\n",
    "    print(a)\n",
    "elif c > b < a:\n",
    "    print(b)\n",
    "else:\n",
    "    print(c)"
   ]
  },
  {
   "cell_type": "code",
   "execution_count": null,
   "metadata": {},
   "outputs": [],
   "source": [
    "a = input()\n",
    "b = int(str(a[1])) + int(str(a[2]))\n",
    "c = int(str(a[0])) + int(str(a[1]))\n",
    "if b > c:\n",
    "    print(int(str(a[1])) + int(str(a[2])), int(str(a[0])) + int(str(a[1])), sep=\"\")\n",
    "else:\n",
    "    print(int(str(a[0])) + int(str(a[1])), int(str(a[1])) + int(str(a[2])), sep=\"\")"
   ]
  },
  {
   "cell_type": "code",
   "execution_count": null,
   "metadata": {},
   "outputs": [],
   "source": []
  },
  {
   "cell_type": "code",
   "execution_count": null,
   "metadata": {},
   "outputs": [],
   "source": [
    "d = input()\n",
    "a = int(str(d[0]))\n",
    "b = int(str(d[1]))\n",
    "c = int(str(d[2]))\n",
    "x1 = max(a, b, c)\n",
    "x2 = min(a, b, c)\n",
    "x3 = 0\n",
    "if a != x1 and a != x2:\n",
    "    x3 = a\n",
    "elif b != x1 and b != x2:\n",
    "    x3 = b\n",
    "else:\n",
    "    x3 = c\n",
    "if x1 + x2 == x3 * 2:\n",
    "    print(\"YES\")\n",
    "else:\n",
    "    print(\"NO\")"
   ]
  },
  {
   "cell_type": "code",
   "execution_count": null,
   "metadata": {},
   "outputs": [],
   "source": [
    "a = int(input()) \n",
    "b = int(input())\n",
    "c = int(input())\n",
    "if a < b + c and b < c + a and c < a + b:\n",
    "    print(\"YES\")\n",
    "else:\n",
    "    print(\"NO\")"
   ]
  },
  {
   "cell_type": "code",
   "execution_count": null,
   "metadata": {},
   "outputs": [],
   "source": [
    "a = str(input()) # общая цифра у трехзначного числа в одинаковой позиции\n",
    "b = str(input())\n",
    "c = str(input())\n",
    "if a[0] == b[0] and a[0] == c[0]:\n",
    "    print(a[0])\n",
    "elif a[1] == b[1] and a[1] == c[1]:\n",
    "    print(a[1])\n"
   ]
  },
  {
   "cell_type": "code",
   "execution_count": null,
   "metadata": {},
   "outputs": [],
   "source": [
    "d = str(input()) # из трехзначного числа делает два двухзначных мин. и макс.\n",
    "a = int(d[0])\n",
    "b = int(d[1])\n",
    "c = int(d[2])\n",
    "x1 = max(a, b, c)\n",
    "x2 = min(a, b, c)\n",
    "x3 = 0\n",
    "if a != x1 and a != x2:\n",
    "    x3 = a\n",
    "elif b != x1 and b != x2:\n",
    "    x3 = b\n",
    "else:\n",
    "    if str(x2) + str(x2) in d:\n",
    "        x3 = x2\n",
    "    elif str(x2) + str(x1) + str(x2) in d:\n",
    "        x3 = x2\n",
    "    elif str(x1) + str(x1) in d:\n",
    "        x3 = x1\n",
    "    elif str(x1) + str(x2) + str(x1) in d:\n",
    "        x3 = x1\n",
    "    else:\n",
    "        x3 = c\n",
    "if x2 == 0: \n",
    "    print(str(x3) + str(x2), \" \", str(x1) + str(x3), sep=\"\")\n",
    "else:\n",
    "    print(str(x2) + str(x3), \" \", str(x1) + str(x3), sep=\"\")"
   ]
  },
  {
   "cell_type": "code",
   "execution_count": null,
   "metadata": {},
   "outputs": [],
   "source": [
    "a = input() # На вход два двухзначных числа, на выходе трехзначное число 1 и 3 цифра мин и макс из двухзначных, а в серелине сумма оставшихся без учета переноса разряда\n",
    "b = input()\n",
    "x1 = max(int(str(a[0])), int(str(a[1])), int(str(b[0])), int(str(b[1])))\n",
    "x2 = min(int(str(a[0])), int(str(a[1])), int(str(b[0])), int(str(b[1])))\n",
    "c = a + b\n",
    "d = 0\n",
    "y1 = (c.find(str(x1)))\n",
    "c1 = c[:y1] + c[y1 + 1:]\n",
    "y2 = (c1.find(str(x2)))\n",
    "c = c1[:y2] + c1[y2 + 1:]\n",
    "d = str(int(c[0]) + int(c[1]))\n",
    "print(str(x1), str(d[-1]), str(x2), sep=\"\")"
   ]
  },
  {
   "cell_type": "code",
   "execution_count": null,
   "metadata": {},
   "outputs": [],
   "source": [
    "def g:\n",
    "for i in range(len(c)):\n",
    "    if c[i] == str(x1):\n",
    "        c = \n",
    "\n",
    "        \n",
    "for i in range(len(c)):\n",
    "    if c[i] != str(x1) and c[i] != str(x2): # для 1234\n",
    "        k = k + c[i]"
   ]
  },
  {
   "cell_type": "code",
   "execution_count": null,
   "metadata": {},
   "outputs": [],
   "source": [
    "a = input().split() # Сумма числе записанных через пробел\n",
    "num_list = list(map(int, a))\n",
    "print(sum(num_list))"
   ]
  },
  {
   "cell_type": "code",
   "execution_count": null,
   "metadata": {},
   "outputs": [],
   "source": [
    "f = open(\"C:/Users/user/Desktop/input.txt\", \"r\") # Сумма числе записанных через пробел, записанных в файле на раб.столе выводит ответ в виде первой строки в файле оутпут на раб.столе\n",
    "a = str(*f).split()\n",
    "print(a)\n",
    "num_list = list(map(int, a))\n",
    "print(num_list)\n",
    "k = (sum(num_list))\n",
    "print(k)\n",
    "d = open(\"C:/Users/user/Desktop/output.txt\" , \"w\")\n",
    "d.write(str(k))\n",
    "d.close()"
   ]
  },
  {
   "cell_type": "code",
   "execution_count": null,
   "metadata": {},
   "outputs": [],
   "source": [
    "a = input() # Ищет кол-во каждого символа первой строки в каждом символе второй строки и выдает сумму, без повторений в первой строке\n",
    "b = input()\n",
    "d = 0\n",
    "a1 = \"\"\n",
    "for z in range(len(a)):\n",
    "    if a[z] != a[z-1]:\n",
    "        a1 = a1 + a[z]\n",
    "    elif len(a) == 1:\n",
    "        a1 = a[z]\n",
    "for i in range(len(a1)):\n",
    "    for g in range(len(b)):\n",
    "        if a1[i] == b[g]:\n",
    "            d = d + 1\n",
    "print(d)"
   ]
  },
  {
   "cell_type": "code",
   "execution_count": null,
   "metadata": {},
   "outputs": [],
   "source": [
    "a = int(input()) # Петя У кого больше тот на первом, месте втором и третьем\n",
    "b = int(input()) # Вася\n",
    "c = int(input()) # Толя\n",
    "a1 = \"Петя\"\n",
    "a2 = \"Вася\"\n",
    "a3 = \"Толя\"\n",
    "if c < a > b:\n",
    "    if b > c:\n",
    "        a1 = \"Петя\"\n",
    "        a2 = \"Вася\"\n",
    "        a3 = \"Толя\"\n",
    "    else:\n",
    "        a1 = \"Петя\"\n",
    "        a2 = \"Толя\"\n",
    "        a3 = \"Вася\"\n",
    "elif c < b > a:\n",
    "    if c > a:\n",
    "        a1 = \"Вася\"\n",
    "        a2 = \"Толя\"\n",
    "        a3 = \"Петя\"\n",
    "    else:\n",
    "        a1 = \"Вася\"\n",
    "        a2 = \"Петя\"\n",
    "        a3 = \"Толя\"\n",
    "else:\n",
    "    if a > b:\n",
    "        a1 = \"Толя\"\n",
    "        a2 = \"Петя\"\n",
    "        a3 = \"Вася\"\n",
    "    else:\n",
    "        a1 = \"Толя\"\n",
    "        a2 = \"Вася\"\n",
    "        a3 = \"Петя\"\n",
    "for i in range(4):\n",
    "    if i == 0:\n",
    "        print(f\"          {a1}          \")\n",
    "    elif i == 1:\n",
    "        print(f\"  {a2}                  \")\n",
    "    elif i == 2:\n",
    "        print(f\"                  {a3}  \")\n",
    "    else:\n",
    "        print(f\"   II      I      III   \")\n"
   ]
  },
  {
   "cell_type": "code",
   "execution_count": null,
   "metadata": {},
   "outputs": [],
   "source": [
    "    def game(word):\n",
    "        D = 0\n",
    "        x = 0\n",
    "        x2 = 0\n",
    "        result = ''\n",
    "        if word == 'ax**2 + bx + c = 0':\n",
    "            a = float(input())\n",
    "            b = float(input())\n",
    "            c = float(input())\n",
    "            D = (b**2)-(4*a*c)\n",
    "            if D == 0:\n",
    "                result = \"No solution\"\n",
    "            elif D < 0:\n",
    "                x = -b/(2*a)\n",
    "                result = x\n",
    "            elif D > 0:\n",
    "                x = (-b+(D**0.5))/(2*a)\n",
    "                x2 = (-b-(D**0.5))/(2*a)\n",
    "                if x > x2:\n",
    "                    result = x2, x\n",
    "                else:\n",
    "                    result = x, x2\n",
    "        elif word == 'ax**2 = 0':\n",
    "            result = (f\"Единственный корень уравнения: x={x}\")\n",
    "        elif word == 'ax**2 + c = 0':\n",
    "            print(\"Введите значение переменных a, c\")\n",
    "            print(\"Переменная a\")\n",
    "            a = float(input())\n",
    "            print(\"Переменная c\")\n",
    "            c = float(input())\n",
    "            if -c/a < 0:\n",
    "                result = \"Действительных корней нет\"\n",
    "            elif -c/a > 0:\n",
    "                x = (-c/a)**0.5\n",
    "                x2 = -((-c/a)**0.5)\n",
    "                result = (f\"Корни уравнения:\\n 1. {x}\\n 2. {x2}\")\n",
    "        elif word == 'ax**2 + bx = 0':\n",
    "            print(\"Введите значение переменных a, b\")\n",
    "            print(\"Переменная a\")\n",
    "            a = float(input())\n",
    "            print(\"Переменная b\")\n",
    "            b = float(input())\n",
    "            x2 = -b/a\n",
    "            result = (f\"Корни уравнения:\\n 1. {x}\\n 2. {x2}\")\n",
    "        return result"
   ]
  },
  {
   "cell_type": "code",
   "execution_count": null,
   "metadata": {},
   "outputs": [],
   "source": [
    "D = 0\n",
    "x = 0\n",
    "x2 = 0\n",
    "result = ''\n",
    "a = float(input())\n",
    "b = float(input())\n",
    "c = float(input())\n",
    "\n",
    "\n",
    "def toFixed(z, digits=0):\n",
    "    return f\"{z:.{digits}f}\"\n",
    "\n",
    "\n",
    "D = (b**2) - (4 * a * c)\n",
    "if a == 0 and b == 0 and c == 0:\n",
    "    print(\"Infinite solutions\")\n",
    "elif D == 0:\n",
    "    x = -b / (2 * a)\n",
    "    z = x\n",
    "    x = toFixed(z, 2)\n",
    "    result = x\n",
    "elif D < 0:\n",
    "    result = \"No solution\"\n",
    "elif D > 0:\n",
    "    x = (-b + (D**0.5)) / (2 * a)\n",
    "    x2 = (-b - (D**0.5)) / (2 * a)\n",
    "    if x > x2:\n",
    "        x = str(x)\n",
    "        x2 = str(x2)\n",
    "        x4 = int(x2[int(str(x2).find('.')) + 3])\n",
    "        x3 = int(x[int(str(x).find('.')) + 3])\n",
    "        print(x4)\n",
    "        print(x3)\n",
    "        a1 = str(x2[:int(str(x2).find('.'))]) + \".\" + str(x2[int(str(x2).find('.')) + 1:int(str(x2).find('.')) + 3])\n",
    "        a2 = str(x[:int(str(x).find('.'))]) + \".\" + str(x[int(str(x).find('.')) + 1:int(str(x).find('.')) + 3])\n",
    "        if x4 >= 5:\n",
    "            a1 = float(a1) + 0.01\n",
    "        if x3 >= 5:\n",
    "            a2 = float(a2) + 0.01 \n",
    "        result = f\"{float(a1)} {float(a2)}\"\n",
    "    else:\n",
    "        x = str(x)\n",
    "        x2 = str(x2)\n",
    "        x4 = int(x2[int(str(x2).find('.')) + 3])\n",
    "        x3 = int(x[int(str(x).find('.')) + 3])\n",
    "        b1 = str(x[:int(str(x).find('.'))]) + \".\" + str(x[int(str(x).find('.')) + 1:int(str(x2).find('.')) + 3])\n",
    "        b2 = str(x2[:int(str(x2).find('.'))]) + \".\" + str(x2[int(str(x2).find('.') + 1):int(str(x).find('.')) + 3])\n",
    "        if x3 >= 5:\n",
    "            b1 = float(b1) + 0.01\n",
    "        if x4 >= 5:\n",
    "            b2 = float(b2) + 0.01 \n",
    "        result = f\"{float(b1)} {float(b2)}\"\n",
    "print(result)"
   ]
  },
  {
   "cell_type": "code",
   "execution_count": null,
   "metadata": {},
   "outputs": [],
   "source": [
    "a = int(input())\n",
    "b = int(input())\n",
    "c = int(input())\n",
    "k = max(a, b, c)\n",
    "if a <= c >= b:\n",
    "    if a**2 + b**2 == c**2:\n",
    "        print(\"100%\")\n",
    "    elif a**2 + b**2 < c**2:\n",
    "        print(\"велика\")\n",
    "    else:\n",
    "        print(\"крайне мала\")\n",
    "elif a <= b >= c:\n",
    "    if a**2 + c**2 == b**2:\n",
    "        print(\"100%\")\n",
    "    elif a**2 + c**2 < b**2:\n",
    "        print(\"велика\")\n",
    "    else:\n",
    "        print(\"крайне мала\")\n",
    "elif c <= a >= b:\n",
    "    if b**2 + c**2 == a**2:\n",
    "        print(\"100%\")\n",
    "    elif b**2 + c**2 < a**2:\n",
    "        print(\"велика\")\n",
    "    else:\n",
    "        print(\"крайне мала\")"
   ]
  },
  {
   "cell_type": "code",
   "execution_count": null,
   "metadata": {},
   "outputs": [],
   "source": [
    "text = \"\"\n",
    "c = \"\"\n",
    "for i in range(3):\n",
    "    text = input()\n",
    "    if \"зайка\" in text:\n",
    "        if len(c) == 0 or c > text:\n",
    "            c = text\n",
    "print(c, str(len(c)))"
   ]
  },
  {
   "cell_type": "code",
   "execution_count": null,
   "metadata": {},
   "outputs": [],
   "source": [
    "year = int(input())\n",
    "if year % 400 == 0:\n",
    "    print(\"YES\")\n",
    "else:\n",
    "    if year % 100 == 0:\n",
    "        print(\"NO\")\n",
    "    else:\n",
    "        if year % 4 == 0:\n",
    "            print(\"YES\")\n",
    "        else:\n",
    "            print(\"NO\")"
   ]
  },
  {
   "cell_type": "code",
   "execution_count": null,
   "metadata": {},
   "outputs": [],
   "source": [
    "m = 12\n",
    "n = 19\n",
    "k = 25\n",
    "\n",
    "# максимальное число\n",
    "print(max(m, n, k))\n",
    "\n",
    "line_1 = \"m\"\n",
    "line_2 = \"n\"\n",
    "line_3 = \"k\"\n",
    "\n",
    "# минимальная лексикографически строка\n",
    "print(min(line_1, line_2, line_3))\n",
    "\n",
    "# количество цифр в числе 2 в степени 2022\n",
    "print(len(str(2 ** 2022)))"
   ]
  },
  {
   "cell_type": "code",
   "execution_count": null,
   "metadata": {},
   "outputs": [],
   "source": [
    "# A решена\n",
    "\n",
    "print(\"Как Вас зовут?\")\n",
    "name = input()\n",
    "feel = input()\n",
    "print(f'Здравствуйте, {name}!')\n",
    "print('Как дела?')\n",
    "if feel == 'хорошо':\n",
    "    print('Я за вас рада!')\n",
    "elif feel == 'плохо':\n",
    "    print('Всё наладится!')"
   ]
  },
  {
   "cell_type": "code",
   "execution_count": null,
   "metadata": {},
   "outputs": [],
   "source": [
    "# B решена\n",
    "\n",
    "petya = int(input())\n",
    "vasya = int(input())\n",
    "if petya > vasya:\n",
    "    print(\"Петя\")\n",
    "else:\n",
    "    print(\"Вася\")"
   ]
  },
  {
   "cell_type": "code",
   "execution_count": null,
   "metadata": {},
   "outputs": [],
   "source": [
    "# C решена\n",
    "\n",
    "petya = int(input())\n",
    "vasya = int(input())\n",
    "tolya = int(input())\n",
    "if tolya < petya > vasya:\n",
    "    print(\"Петя\")\n",
    "elif tolya < vasya > petya:\n",
    "    print(\"Вася\")\n",
    "elif petya < tolya > vasya:\n",
    "    print(\"Толя\")"
   ]
  },
  {
   "cell_type": "code",
   "execution_count": null,
   "metadata": {},
   "outputs": [],
   "source": [
    "# D решена\n",
    "\n",
    "petya = int(input())\n",
    "vasya = int(input())\n",
    "tolya = int(input())\n",
    "spisok = {petya: \"Петя\", vasya: \"Вася\", tolya: \"Толя\"}\n",
    "spisok_num = sorted(spisok.keys())\n",
    "spisok_num = list(reversed(spisok_num))\n",
    "num = 1\n",
    "for i in spisok_num:\n",
    "    print(f'{num}. {spisok.get(i)}')\n",
    "    num = num + 1 "
   ]
  },
  {
   "cell_type": "code",
   "execution_count": null,
   "metadata": {},
   "outputs": [],
   "source": [
    "# E решена\n",
    "\n",
    "n = int(input())\n",
    "m = int(input())\n",
    "petya = 7 - 3 + 2 + n\n",
    "vasya = 6 + 3 + 5 - 2 + m\n",
    "tolya = - 2 - 5\n",
    "gena = 2\n",
    "dima = - n - m\n",
    "maximum = max(petya, vasya, tolya, gena, dima)\n",
    "if maximum == petya:\n",
    "    print('Петя')\n",
    "if maximum == vasya:\n",
    "    print('Вася')\n",
    "if maximum == tolya:\n",
    "    print('Толя')\n",
    "if maximum == gena:\n",
    "    print('Гена')\n",
    "if maximum == dima:\n",
    "    print('Дима')"
   ]
  },
  {
   "cell_type": "code",
   "execution_count": null,
   "metadata": {},
   "outputs": [],
   "source": [
    "# F решена\n",
    "\n",
    "year = int(input())\n",
    "if (year % 400) == 0 or (year % 100) != 0:\n",
    "    if year % 4 == 0:\n",
    "        print(\"YES\")\n",
    "    else:\n",
    "        print(\"NO\")\n",
    "else:\n",
    "    print(\"NO\")"
   ]
  },
  {
   "cell_type": "code",
   "execution_count": null,
   "metadata": {},
   "outputs": [],
   "source": [
    "# G решена\n",
    "\n",
    "number = str(input())\n",
    "number_rev = \"\".join([number[q] for q in range(-1, - len(number) - 1, -1)])\n",
    "if number_rev == number:\n",
    "    print(\"YES\")\n",
    "else:\n",
    "    print(\"NO\")"
   ]
  },
  {
   "cell_type": "code",
   "execution_count": null,
   "metadata": {},
   "outputs": [],
   "source": [
    "# H решена\n",
    "\n",
    "text = str(input())\n",
    "if 'зайка' in text:\n",
    "    print(\"YES\")\n",
    "else:\n",
    "    print(\"NO\")"
   ]
  },
  {
   "cell_type": "code",
   "execution_count": null,
   "metadata": {},
   "outputs": [],
   "source": [
    "# I решена\n",
    "\n",
    "name = list()\n",
    "for i in range(3):\n",
    "    name.append(input())\n",
    "print(min(name))"
   ]
  },
  {
   "cell_type": "code",
   "execution_count": null,
   "metadata": {},
   "outputs": [],
   "source": [
    "# J решена\n",
    "\n",
    "i = str(input())\n",
    "first_number = int(i[1]) + int(i[2])\n",
    "second_number = int(i[0]) + int(i[1])\n",
    "result = ''.join(str(q) for q in sorted([first_number, second_number], reverse=True))\n",
    "print(result)"
   ]
  },
  {
   "cell_type": "code",
   "execution_count": null,
   "metadata": {},
   "outputs": [],
   "source": [
    "# K решена\n",
    "\n",
    "number = str(input())\n",
    "list_number = [int(q) for q in list(number)]\n",
    "minimum = min(list_number)\n",
    "list_number.remove(minimum)\n",
    "maximum = max(list_number)\n",
    "list_number.remove(maximum)\n",
    "if maximum + minimum == list_number[0] * 2:\n",
    "    print('YES')\n",
    "else:\n",
    "    print(\"NO\")"
   ]
  },
  {
   "cell_type": "code",
   "execution_count": null,
   "metadata": {},
   "outputs": [],
   "source": [
    "# L решена\n",
    "\n",
    "x = [int(input()) for q in range(3)]\n",
    "ze = 0\n",
    "for i in range(len(x)):\n",
    "    z = x.copy()\n",
    "    num = z.pop(i)\n",
    "    if num < sum(z):\n",
    "        ze = ze + 1\n",
    "        if ze == 3:\n",
    "            print(\"YES\")\n",
    "    else:\n",
    "        print(\"NO\")"
   ]
  },
  {
   "cell_type": "code",
   "execution_count": null,
   "metadata": {},
   "outputs": [],
   "source": [
    "# M решена\n",
    "num = [str(input()) for q in range(3)]\n",
    "if num[0][0] == num[1][0] == num[2][0]:\n",
    "    print(int(num[0][0]))\n",
    "else:\n",
    "    print(int(num[0][1]))\n"
   ]
  },
  {
   "cell_type": "code",
   "execution_count": null,
   "metadata": {},
   "outputs": [],
   "source": [
    "# N Решена\n",
    "number = sorted([int(q) for q in str(input())])\n",
    "number = [str(q) for q in number]\n",
    "if number[0] != \"0\":\n",
    "    print(number[0] + number[1], number[2] + number[1])\n",
    "else:\n",
    "    print(number[1] + number[0], number[2] + number[1])"
   ]
  },
  {
   "cell_type": "code",
   "execution_count": null,
   "metadata": {},
   "outputs": [],
   "source": [
    "# O решена\n",
    "number = sorted([int(q) for q in ''.join(sorted([str(input()) for q in range(2)]))])\n",
    "print(str(number[3]) + f'{(number[1] + number[2]) % 10}' + str(number[0]))"
   ]
  },
  {
   "cell_type": "code",
   "execution_count": null,
   "metadata": {},
   "outputs": [],
   "source": [
    "# P решена\n",
    "\n",
    "petya = int(input())\n",
    "vasya = int(input())\n",
    "tolya = int(input())\n",
    "spisok = {petya: \"Петя\", vasya: \"Вася\", tolya: \"Толя\"}\n",
    "spisok_num = sorted(spisok.keys())\n",
    "spisok_num = list(reversed(spisok_num))\n",
    "print(f'{\" \" * 8}{spisok.get(spisok_num[0]): ^8}{\" \" * 8}')\n",
    "print(f'{spisok.get(spisok_num[1]): ^8}{\" \" * 16}')\n",
    "print(f'{\" \" * 16}{spisok.get(spisok_num[2]): ^8}')\n",
    "print('   II      I      III   ')"
   ]
  },
  {
   "cell_type": "code",
   "execution_count": 90,
   "metadata": {},
   "outputs": [
    {
     "ename": "ZeroDivisionError",
     "evalue": "float division by zero",
     "output_type": "error",
     "traceback": [
      "\u001b[1;31m---------------------------------------------------------------------------\u001b[0m",
      "\u001b[1;31mZeroDivisionError\u001b[0m                         Traceback (most recent call last)",
      "Cell \u001b[1;32mIn[90], line 17\u001b[0m\n\u001b[0;32m     15\u001b[0m     \u001b[38;5;28mprint\u001b[39m(\u001b[38;5;241m0.00\u001b[39m)\n\u001b[0;32m     16\u001b[0m \u001b[38;5;28;01melif\u001b[39;00m disc \u001b[38;5;241m==\u001b[39m \u001b[38;5;241m0\u001b[39m:\n\u001b[1;32m---> 17\u001b[0m     x \u001b[38;5;241m=\u001b[39m \u001b[43m(\u001b[49m\u001b[38;5;241;43m-\u001b[39;49m\u001b[43m \u001b[49m\u001b[43mb\u001b[49m\u001b[43m)\u001b[49m\u001b[43m \u001b[49m\u001b[38;5;241;43m/\u001b[39;49m\u001b[43m \u001b[49m\u001b[43m(\u001b[49m\u001b[38;5;241;43m2\u001b[39;49m\u001b[43m \u001b[49m\u001b[38;5;241;43m*\u001b[39;49m\u001b[43m \u001b[49m\u001b[43ma\u001b[49m\u001b[43m)\u001b[49m\n\u001b[0;32m     18\u001b[0m     \u001b[38;5;28mprint\u001b[39m(\u001b[38;5;124mf\u001b[39m\u001b[38;5;124m'\u001b[39m\u001b[38;5;132;01m{\u001b[39;00mx\u001b[38;5;132;01m:\u001b[39;00m\u001b[38;5;124m.2f\u001b[39m\u001b[38;5;132;01m}\u001b[39;00m\u001b[38;5;124m'\u001b[39m)\n\u001b[0;32m     19\u001b[0m \u001b[38;5;28;01melse\u001b[39;00m:\n",
      "\u001b[1;31mZeroDivisionError\u001b[0m: float division by zero"
     ]
    }
   ],
   "source": [
    "# Q решено\n",
    "\n",
    "a = float(input())\n",
    "b = float(input())\n",
    "c = float(input())\n",
    "disc = (b ** 2) - (4 * a * c)\n",
    "if disc < 0:\n",
    "    print('No solution')\n",
    "elif a == 0 and b != 0 and c != 0:\n",
    "    x1 = -(c / b)   \n",
    "    print(x1)\n",
    "elif a == 0 and b == 0 and c == 0:\n",
    "    print('Infinite solutions')\n",
    "elif c == 0 and b == 0:\n",
    "    print(0.00)\n",
    "elif a == 0 and b == 0:\n",
    "    print('No solution')\n",
    "else:\n",
    "    if disc == 0:\n",
    "        x1 = (-b) / (2 * a)\n",
    "        print(x1)\n",
    "    else:\n",
    "        x_1 = (- b + (disc ** 0.5)) / (2 * a)\n",
    "        x_2 = (- b - (disc ** 0.5)) / (2 * a)\n",
    "        print(min(x_1, x_2), max(x_1, x_2))"
   ]
  },
  {
   "cell_type": "code",
   "execution_count": 97,
   "metadata": {},
   "outputs": [
    {
     "name": "stdout",
     "output_type": "stream",
     "text": [
      "велика\n"
     ]
    }
   ],
   "source": [
    "# R решена\n",
    "\n",
    "number = [int(input()) for q in range(3)]\n",
    "number = sorted(number)\n",
    "if number[2] ** 2 > (number[0] ** 2) + (number[1] ** 2):\n",
    "    print('велика')\n",
    "elif number[2] ** 2 == (number[0] ** 2) + (number[1] ** 2):\n",
    "    print('100%')\n",
    "elif number[2] ** 2 < (number[0] ** 2) + (number[1] ** 2):\n",
    "    print('крайне мала')\n"
   ]
  },
  {
   "cell_type": "code",
   "execution_count": 105,
   "metadata": {},
   "outputs": [
    {
     "name": "stdout",
     "output_type": "stream",
     "text": [
      "березка зайка 13\n"
     ]
    }
   ],
   "source": [
    "# T решена\n",
    "\n",
    "text = sorted([str(input()) for q in range(3)])\n",
    "for i in text:\n",
    "    if 'зайка' in i:\n",
    "        print(i, len(i))\n",
    "        break"
   ]
  },
  {
   "cell_type": "code",
   "execution_count": null,
   "metadata": {},
   "outputs": [],
   "source": []
  }
 ],
 "metadata": {
  "kernelspec": {
   "display_name": "base",
   "language": "python",
   "name": "python3"
  },
  "language_info": {
   "codemirror_mode": {
    "name": "ipython",
    "version": 3
   },
   "file_extension": ".py",
   "mimetype": "text/x-python",
   "name": "python",
   "nbconvert_exporter": "python",
   "pygments_lexer": "ipython3",
   "version": "3.11.9"
  },
  "orig_nbformat": 4
 },
 "nbformat": 4,
 "nbformat_minor": 2
}
