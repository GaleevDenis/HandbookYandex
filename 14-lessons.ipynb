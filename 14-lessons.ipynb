{
 "cells": [
  {
   "cell_type": "code",
   "execution_count": 60,
   "metadata": {},
   "outputs": [
    {
     "ename": "TypeError",
     "evalue": "'int' object is not subscriptable",
     "output_type": "error",
     "traceback": [
      "\u001b[1;31m---------------------------------------------------------------------------\u001b[0m",
      "\u001b[1;31mTypeError\u001b[0m                                 Traceback (most recent call last)",
      "\u001b[1;32mc:\\Users\\user\\YandexDisk\\Обучение it python\\Хендбук от яндекс\\14-lessons.ipynb Ячейка 1\u001b[0m line \u001b[0;36m2\n\u001b[0;32m     <a href='vscode-notebook-cell:/c%3A/Users/user/YandexDisk/%D0%9E%D0%B1%D1%83%D1%87%D0%B5%D0%BD%D0%B8%D0%B5%20it%20python/%D0%A5%D0%B5%D0%BD%D0%B4%D0%B1%D1%83%D0%BA%20%D0%BE%D1%82%20%D1%8F%D0%BD%D0%B4%D0%B5%D0%BA%D1%81/14-lessons.ipynb#W0sZmlsZQ%3D%3D?line=21'>22</a>\u001b[0m         \u001b[39msuper\u001b[39m()\u001b[39m.\u001b[39m\u001b[39m__init__\u001b[39m(x\u001b[39m=\u001b[39mnew[\u001b[39m0\u001b[39m][\u001b[39m0\u001b[39m], y\u001b[39m=\u001b[39mnew[\u001b[39m0\u001b[39m][\u001b[39m1\u001b[39m])\n\u001b[0;32m     <a href='vscode-notebook-cell:/c%3A/Users/user/YandexDisk/%D0%9E%D0%B1%D1%83%D1%87%D0%B5%D0%BD%D0%B8%D0%B5%20it%20python/%D0%A5%D0%B5%D0%BD%D0%B4%D0%B1%D1%83%D0%BA%20%D0%BE%D1%82%20%D1%8F%D0%BD%D0%B4%D0%B5%D0%BA%D1%81/14-lessons.ipynb#W0sZmlsZQ%3D%3D?line=23'>24</a>\u001b[0m first_point \u001b[39m=\u001b[39m PatchedPoint((\u001b[39m2\u001b[39m, \u001b[39m-\u001b[39m\u001b[39m7\u001b[39m))\n\u001b[1;32m---> <a href='vscode-notebook-cell:/c%3A/Users/user/YandexDisk/%D0%9E%D0%B1%D1%83%D1%87%D0%B5%D0%BD%D0%B8%D0%B5%20it%20python/%D0%A5%D0%B5%D0%BD%D0%B4%D0%B1%D1%83%D0%BA%20%D0%BE%D1%82%20%D1%8F%D0%BD%D0%B4%D0%B5%D0%BA%D1%81/14-lessons.ipynb#W0sZmlsZQ%3D%3D?line=24'>25</a>\u001b[0m second_point \u001b[39m=\u001b[39m PatchedPoint(\u001b[39m7\u001b[39;49m, \u001b[39m9\u001b[39;49m)\n\u001b[0;32m     <a href='vscode-notebook-cell:/c%3A/Users/user/YandexDisk/%D0%9E%D0%B1%D1%83%D1%87%D0%B5%D0%BD%D0%B8%D0%B5%20it%20python/%D0%A5%D0%B5%D0%BD%D0%B4%D0%B1%D1%83%D0%BA%20%D0%BE%D1%82%20%D1%8F%D0%BD%D0%B4%D0%B5%D0%BA%D1%81/14-lessons.ipynb#W0sZmlsZQ%3D%3D?line=25'>26</a>\u001b[0m \u001b[39mprint\u001b[39m(first_point\u001b[39m.\u001b[39mlength(second_point))\n\u001b[0;32m     <a href='vscode-notebook-cell:/c%3A/Users/user/YandexDisk/%D0%9E%D0%B1%D1%83%D1%87%D0%B5%D0%BD%D0%B8%D0%B5%20it%20python/%D0%A5%D0%B5%D0%BD%D0%B4%D0%B1%D1%83%D0%BA%20%D0%BE%D1%82%20%D1%8F%D0%BD%D0%B4%D0%B5%D0%BA%D1%81/14-lessons.ipynb#W0sZmlsZQ%3D%3D?line=26'>27</a>\u001b[0m \u001b[39mprint\u001b[39m(second_point\u001b[39m.\u001b[39mlength(first_point))\n",
      "\u001b[1;32mc:\\Users\\user\\YandexDisk\\Обучение it python\\Хендбук от яндекс\\14-lessons.ipynb Ячейка 1\u001b[0m line \u001b[0;36m2\n\u001b[0;32m     <a href='vscode-notebook-cell:/c%3A/Users/user/YandexDisk/%D0%9E%D0%B1%D1%83%D1%87%D0%B5%D0%BD%D0%B8%D0%B5%20it%20python/%D0%A5%D0%B5%D0%BD%D0%B4%D0%B1%D1%83%D0%BA%20%D0%BE%D1%82%20%D1%8F%D0%BD%D0%B4%D0%B5%D0%BA%D1%81/14-lessons.ipynb#W0sZmlsZQ%3D%3D?line=20'>21</a>\u001b[0m \u001b[39mdef\u001b[39;00m \u001b[39m__init__\u001b[39m(\u001b[39mself\u001b[39m, \u001b[39m*\u001b[39mnew):\n\u001b[1;32m---> <a href='vscode-notebook-cell:/c%3A/Users/user/YandexDisk/%D0%9E%D0%B1%D1%83%D1%87%D0%B5%D0%BD%D0%B8%D0%B5%20it%20python/%D0%A5%D0%B5%D0%BD%D0%B4%D0%B1%D1%83%D0%BA%20%D0%BE%D1%82%20%D1%8F%D0%BD%D0%B4%D0%B5%D0%BA%D1%81/14-lessons.ipynb#W0sZmlsZQ%3D%3D?line=21'>22</a>\u001b[0m     \u001b[39msuper\u001b[39m()\u001b[39m.\u001b[39m\u001b[39m__init__\u001b[39m(x\u001b[39m=\u001b[39mnew[\u001b[39m0\u001b[39;49m][\u001b[39m0\u001b[39;49m], y\u001b[39m=\u001b[39mnew[\u001b[39m0\u001b[39m][\u001b[39m1\u001b[39m])\n",
      "\u001b[1;31mTypeError\u001b[0m: 'int' object is not subscriptable"
     ]
    }
   ],
   "source": [
    "# A\n",
    "\n",
    "class Point:\n",
    "    \n",
    "    def __init__(self, x=0, y=0):\n",
    "        self.x = x\n",
    "        self.y = y\n",
    "\n",
    "    def move(self, move_x, move_y):\n",
    "        self.x = self.x + move_x\n",
    "        self.y = self.y + move_y\n",
    "        \n",
    "    def length(self, second_point):\n",
    "        range_x = abs(self.x - second_point.x)\n",
    "        range_y = abs(self.y - second_point.y)\n",
    "        range = round((range_x ** 2 + range_y ** 2) ** 0.5, 2)\n",
    "        return range\n",
    "    \n",
    "class PatchedPoint(Point):\n",
    "    \n",
    "    def __init__(self, *new):\n",
    "        super().__init__(x=new[0][0], y=new[0][1])\n",
    "        \n",
    "first_point = PatchedPoint((2, -7))\n",
    "second_point = PatchedPoint(7, 9)\n",
    "print(first_point.length(second_point))\n",
    "print(second_point.length(first_point))"
   ]
  },
  {
   "cell_type": "code",
   "execution_count": null,
   "metadata": {},
   "outputs": [],
   "source": []
  }
 ],
 "metadata": {
  "kernelspec": {
   "display_name": "Python 3",
   "language": "python",
   "name": "python3"
  },
  "language_info": {
   "codemirror_mode": {
    "name": "ipython",
    "version": 3
   },
   "file_extension": ".py",
   "mimetype": "text/x-python",
   "name": "python",
   "nbconvert_exporter": "python",
   "pygments_lexer": "ipython3",
   "version": "3.9.13"
  }
 },
 "nbformat": 4,
 "nbformat_minor": 2
}
