{
 "cells": [
  {
   "cell_type": "code",
   "execution_count": null,
   "metadata": {},
   "outputs": [],
   "source": [
    "saved_pwd = \"right_password\"\n",
    "while input(\"Введите пароль для входа: \") != saved_pwd:\n",
    "    pass\n",
    "print(\"Пароль верный. Вход разрешен.\")"
   ]
  },
  {
   "cell_type": "code",
   "execution_count": null,
   "metadata": {},
   "outputs": [],
   "source": [
    "name = input(\"Введите имя: \")\n",
    "while name != \"СТОП\":\n",
    "    print(f\"Привет, {name}\")\n",
    "    name = input(\"Введите имя: \")\n",
    "print(\"Программа завершена\")"
   ]
  },
  {
   "cell_type": "code",
   "execution_count": null,
   "metadata": {},
   "outputs": [],
   "source": [
    "while (name := input(\"Введите имя: \")) != \"СТОП\":\n",
    "    print(f\"Привет, {name}\")\n",
    "print(\"Программа завершена\")"
   ]
  },
  {
   "cell_type": "code",
   "execution_count": null,
   "metadata": {},
   "outputs": [],
   "source": [
    "range(k, n, s) # возвращает диапазон целых чисел от k до n - 1 с шагом s. "
   ]
  },
  {
   "cell_type": "code",
   "execution_count": null,
   "metadata": {},
   "outputs": [],
   "source": [
    "while (number := input()) != \"Три!\": # Пока не введено три, пишет режим ожидания\n",
    "    print(\"Режим ожидания...\")\n",
    "else:\n",
    "    print(\"Ёлочка, гори!\")"
   ]
  },
  {
   "cell_type": "code",
   "execution_count": null,
   "metadata": {},
   "outputs": [],
   "source": [
    "k = 0 # считает строки в которых есть зайка, до строки приехали\n",
    "while (stop := input()) != \"Приехали!\":\n",
    "    if stop.count(\"зайка\") > 0:\n",
    "        k = k + 1\n",
    "print(k)"
   ]
  },
  {
   "cell_type": "code",
   "execution_count": null,
   "metadata": {},
   "outputs": [],
   "source": [
    "a = int(input()) # считает цифры от а до б(включительно) через 1\n",
    "b = int(input())\n",
    "k = \"\"\n",
    "if a > b:\n",
    "    for i in range(a, b - 1, -1):\n",
    "        k = k + \" \" + str(i)\n",
    "else:\n",
    "    for i in range(a, b + 1):\n",
    "        k = k + \" \" + str(i)\n",
    "print(k[1:])"
   ]
  },
  {
   "cell_type": "code",
   "execution_count": null,
   "metadata": {},
   "outputs": [],
   "source": [
    "k = 0 # сумма цена на товары если товар >= 500 то cкидка 10% на этот товар, до 0\n",
    "while (price := float(input())) != 0:\n",
    "    if price >= 500:\n",
    "        k = k + price * 0.9\n",
    "    else:\n",
    "        k = k + price\n",
    "print(k)"
   ]
  },
  {
   "cell_type": "code",
   "execution_count": null,
   "metadata": {},
   "outputs": [],
   "source": [
    "a = int(input()) # поиск НОД(наибольший общий делитель) двух чисел\n",
    "b = int(input())\n",
    "k = 0\n",
    "if a > b:\n",
    "    while a % b != 0:\n",
    "        k = b\n",
    "        b = a % b\n",
    "        a = k\n",
    "    print(b)\n",
    "else:\n",
    "    while b % a != 0:\n",
    "        k = a\n",
    "        a = b % a\n",
    "        b = k\n",
    "    print(a)"
   ]
  },
  {
   "cell_type": "code",
   "execution_count": null,
   "metadata": {},
   "outputs": [],
   "source": [
    "a = int(input()) # поиск НОК(наибольший общий делитель) двух чисел\n",
    "b = int(input())\n",
    "a1 = a\n",
    "b1 = b\n",
    "k = 0\n",
    "if a > b:\n",
    "    while a % b != 0:\n",
    "        k = b\n",
    "        b = a % b\n",
    "        a = k\n",
    "    k = (a1 * b1) / b\n",
    "    print(int(k))\n",
    "else:\n",
    "    while b % a != 0:\n",
    "        k = a\n",
    "        a = b % a\n",
    "        b = k\n",
    "    k = (a1 * b1) / a\n",
    "    print(int(k))"
   ]
  },
  {
   "cell_type": "code",
   "execution_count": null,
   "metadata": {},
   "outputs": [],
   "source": [
    "a = input() # введенная информация повторяется b раз\n",
    "b = int(input())\n",
    "for i in range(b - 1):\n",
    "    print(a, sep=\"/n\")\n",
    "print(a)"
   ]
  },
  {
   "cell_type": "code",
   "execution_count": null,
   "metadata": {},
   "outputs": [],
   "source": [
    "a = int(input()) # факториал натурального числа\n",
    "k = 1\n",
    "for i in range(1, a + 1):\n",
    "    k = k * i\n",
    "print(k)"
   ]
  },
  {
   "cell_type": "code",
   "execution_count": null,
   "metadata": {},
   "outputs": [],
   "source": [
    "x = 0 # нахождение координаты на плоскости\n",
    "y = 0\n",
    "while (napr := input()) != \"СТОП\":\n",
    "    k = int(input())\n",
    "    if napr == \"СЕВЕР\":\n",
    "        y = y + k\n",
    "    elif napr == \"ЮГ\":\n",
    "        y = y - k\n",
    "    elif napr == \"ВОСТОК\":\n",
    "        x = x + k\n",
    "    elif napr == \"ЗАПАД\":\n",
    "        x = x - k\n",
    "print(y)\n",
    "print(x)"
   ]
  },
  {
   "cell_type": "code",
   "execution_count": null,
   "metadata": {},
   "outputs": [],
   "source": [
    "a = str(input()) # сумма всех цифр в числе\n",
    "k = 0\n",
    "for i in range(len(a)):\n",
    "    k = k + int(a[i])\n",
    "print(k)"
   ]
  },
  {
   "cell_type": "code",
   "execution_count": null,
   "metadata": {},
   "outputs": [],
   "source": [
    "a = str(input()) # макс цифра в числе\n",
    "k = 0\n",
    "for i in range(len(a)):\n",
    "    if k < int(a[i]):\n",
    "        k = int(a[i])\n",
    "print(k)"
   ]
  },
  {
   "cell_type": "code",
   "execution_count": null,
   "metadata": {},
   "outputs": [],
   "source": [
    "a = int(input()) # нахождение min имени\n",
    "k = \"\"\n",
    "for i in range(a):\n",
    "    b = input()\n",
    "    if len(k) == 0 or k > b:\n",
    "        k = b\n",
    "print(k)"
   ]
  },
  {
   "cell_type": "code",
   "execution_count": null,
   "metadata": {},
   "outputs": [],
   "source": [
    "a = int(input())\n",
    "if a == 1:\n",
    "    print(\"NO\")\n",
    "elif a == 2 or a == 3 or a == 5 or a == 7:\n",
    "    print(\"YES\")\n",
    "elif a % 2 != 0 and a % 3 != 0:\n",
    "    print(\"YES\")\n",
    "else:\n",
    "    print(\"NO\")"
   ]
  },
  {
   "cell_type": "code",
   "execution_count": null,
   "metadata": {},
   "outputs": [],
   "source": [
    "a = int(input())\n",
    "k = 0\n",
    "for i in range(a):\n",
    "    b = input()\n",
    "    if b.count(\"зайка\") >= 1:\n",
    "        k = k + 1\n",
    "print(k)"
   ]
  },
  {
   "cell_type": "code",
   "execution_count": null,
   "metadata": {},
   "outputs": [],
   "source": [
    "a = str(input()) #Проверка на паллиндром\n",
    "k = 0\n",
    "for i in range(1, len(a) + 1):\n",
    "    if a[i - 1] == a[-i]:\n",
    "        k = k + 1\n",
    "if k == len(a):\n",
    "    print(\"YES\")\n",
    "else:\n",
    "    print(\"NO\")"
   ]
  },
  {
   "cell_type": "code",
   "execution_count": null,
   "metadata": {},
   "outputs": [],
   "source": [
    "a = str(input())\n",
    "k = \"\"\n",
    "for i in range(len(a)):\n",
    "    if int(a[i]) % 2 != 0:\n",
    "        k = k + str(a[i])\n",
    "print(k)"
   ]
  },
  {
   "cell_type": "code",
   "execution_count": null,
   "metadata": {},
   "outputs": [],
   "source": [
    "a = int(input())\n",
    "while a % 2 != 0"
   ]
  },
  {
   "cell_type": "code",
   "execution_count": null,
   "metadata": {},
   "outputs": [],
   "source": [
    "a = int(input()) # Выводит математическое выражение — произведение простых неубывающих чисел, которое в результате даёт исходное.\n",
    "k = 0\n",
    "d = 2\n",
    "e = 1\n",
    "z = \"\"\n",
    "while a / e != 1:\n",
    "    if a % d != 0:\n",
    "        d = d + 1\n",
    "        e = d\n",
    "    else:\n",
    "        a = a / d\n",
    "        e = d\n",
    "        z = z + str(e) + \" * \"\n",
    "print(z + str(e))"
   ]
  },
  {
   "cell_type": "code",
   "execution_count": null,
   "metadata": {},
   "outputs": [],
   "source": [
    "print(5/3)"
   ]
  },
  {
   "cell_type": "code",
   "execution_count": null,
   "metadata": {},
   "outputs": [],
   "source": [
    "d = 500 # Бинарная сортировка На каждую попытку пользователь отвечает одной из фраз: Больше. Меньше. Угадал! от 1 до 1000ё\n",
    "w = 1\n",
    "z = 1000\n",
    "p = 0\n",
    "print(d)\n",
    "while (k := input()) != \"Угадал!\":\n",
    "    match k:\n",
    "        case \"Больше\":\n",
    "            w = d # Нижний ограничитель\n",
    "            p = (z - w) // 2\n",
    "            d = z - p\n",
    "            print(d)\n",
    "        case \"Меньше\":\n",
    "            z = d # Верхний ограничитель\n",
    "            p = (z - w) // 2\n",
    "            d = w + p\n",
    "            print(d)"
   ]
  },
  {
   "cell_type": "code",
   "execution_count": null,
   "metadata": {},
   "outputs": [],
   "source": [
    "# A решена\n",
    "\n",
    "while (number := str(input())) != 'Три!':\n",
    "    print('Режим ожидания...')\n",
    "print('Ёлочка, гори!')"
   ]
  },
  {
   "cell_type": "code",
   "execution_count": null,
   "metadata": {},
   "outputs": [],
   "source": [
    "# B решена\n",
    "\n",
    "number = 0\n",
    "while (text := str(input())) != 'Приехали!':\n",
    "    if 'зайка' in text:\n",
    "        number = number + 1\n",
    "print(number)"
   ]
  },
  {
   "cell_type": "code",
   "execution_count": null,
   "metadata": {},
   "outputs": [],
   "source": [
    "# C решена\n",
    "\n",
    "a = int(input())\n",
    "b = int(input())\n",
    "text = []\n",
    "for i in range(a, b + 1):\n",
    "    text.append(str(i))\n",
    "print(\" \".join(text))"
   ]
  },
  {
   "cell_type": "code",
   "execution_count": null,
   "metadata": {},
   "outputs": [],
   "source": [
    "# D решена\n",
    "\n",
    "a = int(input())\n",
    "b = int(input())\n",
    "text = []\n",
    "if a < b:\n",
    "    for i in range(a, b + 1):\n",
    "        text.append(str(i))\n",
    "else:\n",
    "    for i in range(a, b - 1, -1):\n",
    "        text.append(str(i))\n",
    "print(\" \".join(text))"
   ]
  },
  {
   "cell_type": "code",
   "execution_count": null,
   "metadata": {},
   "outputs": [],
   "source": [
    "# E решена\n",
    "\n",
    "sum_price = 0.0\n",
    "while (price := float(input())) != 0.0:\n",
    "    if price >= 500.0:\n",
    "        sum_price = sum_price + price * 0.9\n",
    "    else:\n",
    "        sum_price = sum_price + price\n",
    "print(sum_price)"
   ]
  },
  {
   "cell_type": "code",
   "execution_count": 48,
   "metadata": {},
   "outputs": [
    {
     "name": "stdout",
     "output_type": "stream",
     "text": [
      "1\n"
     ]
    }
   ],
   "source": [
    "# F решена\n",
    "\n",
    "a = int(input())\n",
    "b = int(input())\n",
    "while a != 0 and b != 0:\n",
    "    if a > b:\n",
    "        a = a % b\n",
    "    elif a < b:\n",
    "        b = b % a\n",
    "print(max(a, b))"
   ]
  },
  {
   "cell_type": "code",
   "execution_count": 46,
   "metadata": {},
   "outputs": [
    {
     "ename": "ZeroDivisionError",
     "evalue": "integer modulo by zero",
     "output_type": "error",
     "traceback": [
      "\u001b[1;31m---------------------------------------------------------------------------\u001b[0m",
      "\u001b[1;31mZeroDivisionError\u001b[0m                         Traceback (most recent call last)",
      "Cell \u001b[1;32mIn[46], line 1\u001b[0m\n\u001b[1;32m----> 1\u001b[0m a \u001b[38;5;241m=\u001b[39m \u001b[38;5;241;43m5\u001b[39;49m\u001b[43m \u001b[49m\u001b[38;5;241;43m%\u001b[39;49m\u001b[43m \u001b[49m\u001b[38;5;241;43m0\u001b[39;49m\n",
      "\u001b[1;31mZeroDivisionError\u001b[0m: integer modulo by zero"
     ]
    }
   ],
   "source": []
  },
  {
   "cell_type": "code",
   "execution_count": null,
   "metadata": {},
   "outputs": [],
   "source": []
  }
 ],
 "metadata": {
  "kernelspec": {
   "display_name": "base",
   "language": "python",
   "name": "python3"
  },
  "language_info": {
   "codemirror_mode": {
    "name": "ipython",
    "version": 3
   },
   "file_extension": ".py",
   "mimetype": "text/x-python",
   "name": "python",
   "nbconvert_exporter": "python",
   "pygments_lexer": "ipython3",
   "version": "3.11.9"
  },
  "orig_nbformat": 4
 },
 "nbformat": 4,
 "nbformat_minor": 2
}
