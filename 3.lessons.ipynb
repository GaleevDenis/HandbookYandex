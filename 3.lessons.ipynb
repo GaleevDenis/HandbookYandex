{
 "cells": [
  {
   "cell_type": "code",
   "execution_count": 1,
   "metadata": {},
   "outputs": [
    {
     "name": "stdout",
     "output_type": "stream",
     "text": [
      "Пароль верный. Вход разрешен.\n"
     ]
    }
   ],
   "source": [
    "saved_pwd = \"right_password\"\n",
    "while input(\"Введите пароль для входа: \") != saved_pwd:\n",
    "    pass\n",
    "print(\"Пароль верный. Вход разрешен.\")"
   ]
  },
  {
   "cell_type": "code",
   "execution_count": null,
   "metadata": {},
   "outputs": [],
   "source": [
    "name = input(\"Введите имя: \")\n",
    "while name != \"СТОП\":\n",
    "    print(f\"Привет, {name}\")\n",
    "    name = input(\"Введите имя: \")\n",
    "print(\"Программа завершена\")"
   ]
  },
  {
   "cell_type": "code",
   "execution_count": null,
   "metadata": {},
   "outputs": [],
   "source": [
    "while (name := input(\"Введите имя: \")) != \"СТОП\":\n",
    "    print(f\"Привет, {name}\")\n",
    "print(\"Программа завершена\")"
   ]
  },
  {
   "cell_type": "code",
   "execution_count": null,
   "metadata": {},
   "outputs": [],
   "source": [
    "range(k, n, s) # возвращает диапазон целых чисел от k до n - 1 с шагом s. "
   ]
  },
  {
   "cell_type": "code",
   "execution_count": null,
   "metadata": {},
   "outputs": [],
   "source": [
    "while (number := input()) != \"Три!\": # Пока не введено три, пишет режим ожидания\n",
    "    print(\"Режим ожидания...\")\n",
    "else:\n",
    "    print(\"Ёлочка, гори!\")"
   ]
  },
  {
   "cell_type": "code",
   "execution_count": null,
   "metadata": {},
   "outputs": [],
   "source": [
    "k = 0 # считает строки в которых есть зайка, до строки приехали\n",
    "while (stop := input()) != \"Приехали!\":\n",
    "    if stop.count(\"зайка\") > 0:\n",
    "        k = k + 1\n",
    "print(k)"
   ]
  },
  {
   "cell_type": "code",
   "execution_count": null,
   "metadata": {},
   "outputs": [],
   "source": [
    "a = int(input()) # считает цифры от а до б(включительно) через 1\n",
    "b = int(input())\n",
    "k = \"\"\n",
    "if a > b:\n",
    "    for i in range(a, b - 1, -1):\n",
    "        k = k + \" \" + str(i)\n",
    "else:\n",
    "    for i in range(a, b + 1):\n",
    "        k = k + \" \" + str(i)\n",
    "print(k[1:])"
   ]
  },
  {
   "cell_type": "code",
   "execution_count": null,
   "metadata": {},
   "outputs": [],
   "source": [
    "k = 0 # сумма цена на товары если товар >= 500 то cкидка 10% на этот товар, до 0\n",
    "while (price := float(input())) != 0:\n",
    "    if price >= 500:\n",
    "        k = k + price * 0.9\n",
    "    else:\n",
    "        k = k + price\n",
    "print(k)"
   ]
  },
  {
   "cell_type": "code",
   "execution_count": null,
   "metadata": {},
   "outputs": [],
   "source": [
    "a = int(input()) # поиск НОД(наибольший общий делитель) двух чисел\n",
    "b = int(input())\n",
    "k = 0\n",
    "if a > b:\n",
    "    while a % b != 0:\n",
    "        k = b\n",
    "        b = a % b\n",
    "        a = k\n",
    "    print(b)\n",
    "else:\n",
    "    while b % a != 0:\n",
    "        k = a\n",
    "        a = b % a\n",
    "        b = k\n",
    "    print(a)"
   ]
  },
  {
   "cell_type": "code",
   "execution_count": null,
   "metadata": {},
   "outputs": [],
   "source": [
    "a = int(input()) # поиск НОК(наибольший общий делитель) двух чисел\n",
    "b = int(input())\n",
    "a1 = a\n",
    "b1 = b\n",
    "k = 0\n",
    "if a > b:\n",
    "    while a % b != 0:\n",
    "        k = b\n",
    "        b = a % b\n",
    "        a = k\n",
    "    k = (a1 * b1) / b\n",
    "    print(int(k))\n",
    "else:\n",
    "    while b % a != 0:\n",
    "        k = a\n",
    "        a = b % a\n",
    "        b = k\n",
    "    k = (a1 * b1) / a\n",
    "    print(int(k))"
   ]
  },
  {
   "cell_type": "code",
   "execution_count": null,
   "metadata": {},
   "outputs": [],
   "source": [
    "a = input() # введенная информация повторяется b раз\n",
    "b = int(input())\n",
    "for i in range(b - 1):\n",
    "    print(a, sep=\"/n\")\n",
    "print(a)"
   ]
  },
  {
   "cell_type": "code",
   "execution_count": null,
   "metadata": {},
   "outputs": [],
   "source": [
    "a = int(input()) # факториал натурального числа\n",
    "k = 1\n",
    "for i in range(1, a + 1):\n",
    "    k = k * i\n",
    "print(k)"
   ]
  },
  {
   "cell_type": "code",
   "execution_count": null,
   "metadata": {},
   "outputs": [],
   "source": [
    "x = 0 # нахождение координаты на плоскости\n",
    "y = 0\n",
    "while (napr := input()) != \"СТОП\":\n",
    "    k = int(input())\n",
    "    if napr == \"СЕВЕР\":\n",
    "        y = y + k\n",
    "    elif napr == \"ЮГ\":\n",
    "        y = y - k\n",
    "    elif napr == \"ВОСТОК\":\n",
    "        x = x + k\n",
    "    elif napr == \"ЗАПАД\":\n",
    "        x = x - k\n",
    "print(y)\n",
    "print(x)"
   ]
  },
  {
   "cell_type": "code",
   "execution_count": null,
   "metadata": {},
   "outputs": [],
   "source": [
    "a = str(input()) # сумма всех цифр в числе\n",
    "k = 0\n",
    "for i in range(len(a)):\n",
    "    k = k + int(a[i])\n",
    "print(k)"
   ]
  },
  {
   "cell_type": "code",
   "execution_count": null,
   "metadata": {},
   "outputs": [],
   "source": [
    "a = str(input()) # макс цифра в числе\n",
    "k = 0\n",
    "for i in range(len(a)):\n",
    "    if k < int(a[i]):\n",
    "        k = int(a[i])\n",
    "print(k)"
   ]
  },
  {
   "cell_type": "code",
   "execution_count": null,
   "metadata": {},
   "outputs": [],
   "source": [
    "a = int(input()) # нахождение min имени\n",
    "k = \"\"\n",
    "for i in range(a):\n",
    "    b = input()\n",
    "    if len(k) == 0 or k > b:\n",
    "        k = b\n",
    "print(k)"
   ]
  },
  {
   "cell_type": "code",
   "execution_count": null,
   "metadata": {},
   "outputs": [],
   "source": [
    "a = int(input())\n",
    "if a == 1:\n",
    "    print(\"NO\")\n",
    "elif a == 2 or a == 3 or a == 5 or a == 7:\n",
    "    print(\"YES\")\n",
    "elif a % 2 != 0 and a % 3 != 0:\n",
    "    print(\"YES\")\n",
    "else:\n",
    "    print(\"NO\")"
   ]
  },
  {
   "cell_type": "code",
   "execution_count": null,
   "metadata": {},
   "outputs": [],
   "source": [
    "a = int(input())\n",
    "k = 0\n",
    "for i in range(a):\n",
    "    b = input()\n",
    "    if b.count(\"зайка\") >= 1:\n",
    "        k = k + 1\n",
    "print(k)"
   ]
  },
  {
   "cell_type": "code",
   "execution_count": null,
   "metadata": {},
   "outputs": [],
   "source": [
    "a = str(input()) #Проверка на паллиндром\n",
    "k = 0\n",
    "for i in range(1, len(a) + 1):\n",
    "    if a[i - 1] == a[-i]:\n",
    "        k = k + 1\n",
    "if k == len(a):\n",
    "    print(\"YES\")\n",
    "else:\n",
    "    print(\"NO\")"
   ]
  },
  {
   "cell_type": "code",
   "execution_count": null,
   "metadata": {},
   "outputs": [],
   "source": [
    "a = str(input())\n",
    "k = \"\"\n",
    "for i in range(len(a)):\n",
    "    if int(a[i]) % 2 != 0:\n",
    "        k = k + str(a[i])\n",
    "print(k)"
   ]
  },
  {
   "cell_type": "code",
   "execution_count": null,
   "metadata": {},
   "outputs": [],
   "source": [
    "a = int(input())\n",
    "while a % 2 != 0"
   ]
  },
  {
   "cell_type": "code",
   "execution_count": null,
   "metadata": {},
   "outputs": [],
   "source": [
    "a = int(input()) # Выводит математическое выражение — произведение простых неубывающих чисел, которое в результате даёт исходное.\n",
    "k = 0\n",
    "d = 2\n",
    "e = 1\n",
    "z = \"\"\n",
    "while a / e != 1:\n",
    "    if a % d != 0:\n",
    "        d = d + 1\n",
    "        e = d\n",
    "    else:\n",
    "        a = a / d\n",
    "        e = d\n",
    "        z = z + str(e) + \" * \"\n",
    "print(z + str(e))"
   ]
  },
  {
   "cell_type": "code",
   "execution_count": null,
   "metadata": {},
   "outputs": [],
   "source": [
    "print(5/3)"
   ]
  },
  {
   "cell_type": "code",
   "execution_count": 7,
   "metadata": {},
   "outputs": [
    {
     "name": "stdout",
     "output_type": "stream",
     "text": [
      "500\n",
      "750\n",
      "875\n",
      "938\n",
      "969\n",
      "985\n",
      "993\n",
      "997\n",
      "999\n",
      "1000\n"
     ]
    },
    {
     "ename": "KeyboardInterrupt",
     "evalue": "Interrupted by user",
     "output_type": "error",
     "traceback": [
      "\u001b[1;31m---------------------------------------------------------------------------\u001b[0m",
      "\u001b[1;31mKeyboardInterrupt\u001b[0m                         Traceback (most recent call last)",
      "Cell \u001b[1;32mIn[7], line 6\u001b[0m\n\u001b[0;32m      4\u001b[0m p \u001b[39m=\u001b[39m \u001b[39m0\u001b[39m\n\u001b[0;32m      5\u001b[0m \u001b[39mprint\u001b[39m(d)\n\u001b[1;32m----> 6\u001b[0m \u001b[39mwhile\u001b[39;00m (k \u001b[39m:=\u001b[39m \u001b[39minput\u001b[39;49m()) \u001b[39m!=\u001b[39m \u001b[39m\"\u001b[39m\u001b[39mУгадал!\u001b[39m\u001b[39m\"\u001b[39m:\n\u001b[0;32m      7\u001b[0m     \u001b[39mmatch\u001b[39;00m k:\n\u001b[0;32m      8\u001b[0m         \u001b[39mcase\u001b[39;00m \u001b[39m\"\u001b[39m\u001b[39mБольше\u001b[39m\u001b[39m\"\u001b[39m:\n\u001b[0;32m      9\u001b[0m             w \u001b[39m=\u001b[39m d \u001b[39m# Нижний ограничитель\u001b[39;00m\n\u001b[1;32m   (...)\u001b[0m\n\u001b[0;32m     16\u001b[0m             d \u001b[39m=\u001b[39m w \u001b[39m+\u001b[39m p\n\u001b[0;32m     17\u001b[0m             \u001b[39mprint\u001b[39m(d)\n",
      "File \u001b[1;32mc:\\ProgramData\\anaconda3\\lib\\site-packages\\ipykernel\\kernelbase.py:1175\u001b[0m, in \u001b[0;36mKernel.raw_input\u001b[1;34m(self, prompt)\u001b[0m\n\u001b[0;32m   1171\u001b[0m \u001b[39mif\u001b[39;00m \u001b[39mnot\u001b[39;00m \u001b[39mself\u001b[39m\u001b[39m.\u001b[39m_allow_stdin:\n\u001b[0;32m   1172\u001b[0m     \u001b[39mraise\u001b[39;00m StdinNotImplementedError(\n\u001b[0;32m   1173\u001b[0m         \u001b[39m\"\u001b[39m\u001b[39mraw_input was called, but this frontend does not support input requests.\u001b[39m\u001b[39m\"\u001b[39m\n\u001b[0;32m   1174\u001b[0m     )\n\u001b[1;32m-> 1175\u001b[0m \u001b[39mreturn\u001b[39;00m \u001b[39mself\u001b[39;49m\u001b[39m.\u001b[39;49m_input_request(\n\u001b[0;32m   1176\u001b[0m     \u001b[39mstr\u001b[39;49m(prompt),\n\u001b[0;32m   1177\u001b[0m     \u001b[39mself\u001b[39;49m\u001b[39m.\u001b[39;49m_parent_ident[\u001b[39m\"\u001b[39;49m\u001b[39mshell\u001b[39;49m\u001b[39m\"\u001b[39;49m],\n\u001b[0;32m   1178\u001b[0m     \u001b[39mself\u001b[39;49m\u001b[39m.\u001b[39;49mget_parent(\u001b[39m\"\u001b[39;49m\u001b[39mshell\u001b[39;49m\u001b[39m\"\u001b[39;49m),\n\u001b[0;32m   1179\u001b[0m     password\u001b[39m=\u001b[39;49m\u001b[39mFalse\u001b[39;49;00m,\n\u001b[0;32m   1180\u001b[0m )\n",
      "File \u001b[1;32mc:\\ProgramData\\anaconda3\\lib\\site-packages\\ipykernel\\kernelbase.py:1217\u001b[0m, in \u001b[0;36mKernel._input_request\u001b[1;34m(self, prompt, ident, parent, password)\u001b[0m\n\u001b[0;32m   1214\u001b[0m             \u001b[39mbreak\u001b[39;00m\n\u001b[0;32m   1215\u001b[0m \u001b[39mexcept\u001b[39;00m \u001b[39mKeyboardInterrupt\u001b[39;00m:\n\u001b[0;32m   1216\u001b[0m     \u001b[39m# re-raise KeyboardInterrupt, to truncate traceback\u001b[39;00m\n\u001b[1;32m-> 1217\u001b[0m     \u001b[39mraise\u001b[39;00m \u001b[39mKeyboardInterrupt\u001b[39;00m(\u001b[39m\"\u001b[39m\u001b[39mInterrupted by user\u001b[39m\u001b[39m\"\u001b[39m) \u001b[39mfrom\u001b[39;00m \u001b[39mNone\u001b[39m\n\u001b[0;32m   1218\u001b[0m \u001b[39mexcept\u001b[39;00m \u001b[39mException\u001b[39;00m:\n\u001b[0;32m   1219\u001b[0m     \u001b[39mself\u001b[39m\u001b[39m.\u001b[39mlog\u001b[39m.\u001b[39mwarning(\u001b[39m\"\u001b[39m\u001b[39mInvalid Message:\u001b[39m\u001b[39m\"\u001b[39m, exc_info\u001b[39m=\u001b[39m\u001b[39mTrue\u001b[39;00m)\n",
      "\u001b[1;31mKeyboardInterrupt\u001b[0m: Interrupted by user"
     ]
    }
   ],
   "source": [
    "d = 500 # Бинарная сортировка На каждую попытку пользователь отвечает одной из фраз: Больше. Меньше. Угадал! от 1 до 1000ё\n",
    "w = 1\n",
    "z = 1000\n",
    "p = 0\n",
    "print(d)\n",
    "while (k := input()) != \"Угадал!\":\n",
    "    match k:\n",
    "        case \"Больше\":\n",
    "            w = d # Нижний ограничитель\n",
    "            p = (z - w) // 2\n",
    "            d = z - p\n",
    "            print(d)\n",
    "        case \"Меньше\":\n",
    "            z = d # Верхний ограничитель\n",
    "            p = (z - w) // 2\n",
    "            d = w + p\n",
    "            print(d)"
   ]
  },
  {
   "cell_type": "code",
   "execution_count": null,
   "metadata": {},
   "outputs": [],
   "source": []
  },
  {
   "cell_type": "code",
   "execution_count": null,
   "metadata": {},
   "outputs": [],
   "source": []
  }
 ],
 "metadata": {
  "kernelspec": {
   "display_name": "base",
   "language": "python",
   "name": "python3"
  },
  "language_info": {
   "codemirror_mode": {
    "name": "ipython",
    "version": 3
   },
   "file_extension": ".py",
   "mimetype": "text/x-python",
   "name": "python",
   "nbconvert_exporter": "python",
   "pygments_lexer": "ipython3",
   "version": "3.11.9"
  },
  "orig_nbformat": 4
 },
 "nbformat": 4,
 "nbformat_minor": 2
}
