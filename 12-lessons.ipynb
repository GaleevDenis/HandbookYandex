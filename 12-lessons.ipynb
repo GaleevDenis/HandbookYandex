{
 "cells": [
  {
   "cell_type": "code",
   "execution_count": null,
   "metadata": {},
   "outputs": [],
   "source": [
    "def fact(n):\n",
    "    if n == 0:  # 0! = 1\n",
    "        return 1\n",
    "    return fact(n - 1) * n  # n! = (n - 1)! * n\n",
    "\n",
    "\n",
    "print(fact(5))"
   ]
  },
  {
   "cell_type": "code",
   "execution_count": null,
   "metadata": {},
   "outputs": [],
   "source": [
    "# Декоратор принимает функцию f как аргумент\n",
    "def count(f):\n",
    "    total = 0\n",
    "\n",
    "    # Объявляем функцию, которая расширяет функционал f\n",
    "    def decorated(*args, **kwargs):\n",
    "        # Переменная total объявлена нелокальной для доступа из внутренней функции\n",
    "        nonlocal total\n",
    "        total += 1\n",
    "        # Возвращаем значение исходной функции и дополнительно total\n",
    "        return f(*args, **kwargs), total\n",
    "    # Возвращаем новую функцию как объект\n",
    "    return decorated\n",
    "\n",
    "\n",
    "@count\n",
    "def hello(name):\n",
    "    return f\"Привет, {name}!\"\n",
    "\n",
    "\n",
    "print(hello(\"Пользователь_1\"))\n",
    "print(hello(\"Пользователь_2\"))"
   ]
  },
  {
   "cell_type": "code",
   "execution_count": null,
   "metadata": {},
   "outputs": [],
   "source": [
    "def f(num):\n",
    "    if num == 1:\n",
    "        return 1 ** 2\n",
    "    else:\n",
    "        return f(num-1) + num ** 2\n",
    "    \n",
    "f(5)"
   ]
  },
  {
   "cell_type": "code",
   "execution_count": null,
   "metadata": {},
   "outputs": [],
   "source": [
    "from timeit import timeit\n",
    "\n",
    "\n",
    "def fib(n):\n",
    "    if n not in cash:\n",
    "        cash[n] = fib(n - 1) + fib(n - 2)\n",
    "    return cash[n]\n",
    "\n",
    "\n",
    "cash = {0: 1, 1: 1}\n",
    "print(f\"Среднее время вычисления: \"\n",
    "      f\"{round(timeit('fib(1000)', number=10, globals=globals()) / 10, 6)} с.\")"
   ]
  },
  {
   "cell_type": "code",
   "execution_count": null,
   "metadata": {},
   "outputs": [],
   "source": [
    "def fib(n):\n",
    "    if n in (0, 1):\n",
    "        return 1\n",
    "    return fib(n - 1) + fib(n - 2)\n",
    "\n",
    "\n",
    "print(fib(35))"
   ]
  },
  {
   "cell_type": "code",
   "execution_count": null,
   "metadata": {},
   "outputs": [],
   "source": [
    "# A\n",
    "\n",
    "def recursive_sum(*arg): # (1, 2, 3)\n",
    "    if len(arg) == 1:\n",
    "        return int(arg[0])\n",
    "    else:\n",
    "        return recursive_sum(*list(arg[:len(arg) - 1])) + int(arg[-1])\n",
    "\n",
    "result = recursive_sum(1, 2, 3)\n",
    "print(result)"
   ]
  },
  {
   "cell_type": "code",
   "execution_count": null,
   "metadata": {},
   "outputs": [],
   "source": []
  },
  {
   "cell_type": "code",
   "execution_count": null,
   "metadata": {},
   "outputs": [],
   "source": [
    "# B\n",
    "\n",
    "\n",
    "def recursive_digit_sum(arg):\n",
    "    l_arg = str(arg)\n",
    "    if len(l_arg) == 1:\n",
    "        return int(l_arg)\n",
    "    else:\n",
    "        return recursive_digit_sum(int(l_arg[:len(l_arg) - 1])) + int(l_arg[-1])\n",
    "    \n",
    "result = recursive_digit_sum(123)\n",
    "print(result)"
   ]
  },
  {
   "cell_type": "code",
   "execution_count": null,
   "metadata": {},
   "outputs": [],
   "source": [
    "# C усложнил слишком xD\n",
    "\n",
    "def make_equation(*arg):\n",
    "    total = 0\n",
    "    \n",
    "    \n",
    "    def make_equation_sum(arg):\n",
    "        nonlocal total \n",
    "        if len(arg) == 1:\n",
    "            return total * \"(\" + str(arg[0])\n",
    "        else:\n",
    "            total += 1\n",
    "            return make_equation_sum(arg[:len(arg) - 1]) + str(f') * x + {arg[-1]}')\n",
    "    \n",
    "        \n",
    "    return make_equation_sum(arg)\n",
    "\n",
    "    \n",
    "result = make_equation(3, 2, 1)\n",
    "print(result)"
   ]
  },
  {
   "cell_type": "code",
   "execution_count": null,
   "metadata": {},
   "outputs": [],
   "source": [
    "# C Решил\n",
    "\n",
    "def make_equation(*arg):\n",
    "    if len(arg) == 1:\n",
    "        return str(arg[0])\n",
    "    else:\n",
    "        return \"(\" + make_equation(*list(arg[:len(arg) - 1])) + str(f') * x + {arg[-1]}')\n",
    "    \n",
    "result = make_equation(3, 2, 1)\n",
    "print(result)"
   ]
  },
  {
   "cell_type": "code",
   "execution_count": null,
   "metadata": {},
   "outputs": [],
   "source": [
    "# D Не решена\n",
    "def answer(f):\n",
    "    \n",
    "    def answer_max(*args, **kwargs):\n",
    "        return f\"Результат функции: {f(*args, **kwargs)}\"\n",
    "    return answer_max\n",
    "\n",
    "\n",
    "@answer\n",
    "def a_plus_b(a, b):\n",
    "    return a + b\n",
    "\n",
    "\n",
    "print(a_plus_b(3, 5))\n",
    "print(a_plus_b(7, 9))"
   ]
  },
  {
   "cell_type": "code",
   "execution_count": null,
   "metadata": {},
   "outputs": [],
   "source": [
    "# E Решена\n",
    "\n",
    "\n",
    "def result_accumulator(f):\n",
    "    listik = list()\n",
    "    listik_2 = list()\n",
    "    a = \"\"\n",
    "    \n",
    "    def decorator(*args, method=\"accumulate\"):\n",
    "        nonlocal listik\n",
    "        nonlocal listik_2\n",
    "        nonlocal a\n",
    "        if method == \"accumulate\":\n",
    "            a = f(*args)\n",
    "            listik.append(a)\n",
    "        else:\n",
    "            a = f(*args)\n",
    "            listik.append(a)\n",
    "            listik_2 = listik\n",
    "            listik = list()\n",
    "            return listik_2\n",
    "    return decorator\n",
    "\n",
    "           \n",
    "@result_accumulator\n",
    "def get_letters(text: str) -> str:\n",
    "    return ''.join(sorted(set(filter(str.isalpha, text.lower()))))\n",
    "\n",
    "\n",
    "print(get_letters('Hello, world!'))\n",
    "print(get_letters('Декораторы это круто =)'))\n",
    "print(get_letters('Ехали медведи на велосипеде', method='drop'))"
   ]
  },
  {
   "cell_type": "code",
   "execution_count": 33,
   "metadata": {},
   "outputs": [
    {
     "name": "stdout",
     "output_type": "stream",
     "text": [
      "[1, 2, 3]\n"
     ]
    }
   ],
   "source": [
    "# F Решено\n",
    "\n",
    "def merge_sort(spisok, spisok_new=[], spisok_target=[]):\n",
    "    if spisok_target == []:\n",
    "        spisok_target += [len(spisok)]\n",
    "    if len(spisok) == 1:\n",
    "        spisok_new += spisok\n",
    "    elif len(spisok) == 2:\n",
    "        merge_sort([spisok[0]])\n",
    "        merge_sort([spisok[1]])\n",
    "    else:\n",
    "        merge_sort(spisok[:len(spisok) // 2])\n",
    "        merge_sort(spisok[len(spisok) // 2:])\n",
    "        spisok_new.sort()\n",
    "        return spisok_new\n",
    "    \n",
    "\n",
    "result = merge_sort([3, 2, 1])\n",
    "print(result)"
   ]
  },
  {
   "cell_type": "code",
   "execution_count": 38,
   "metadata": {},
   "outputs": [
    {
     "name": "stdout",
     "output_type": "stream",
     "text": [
      "Обнаружены различные типы данных\n",
      "Fail\n",
      "Обнаружены различные типы данных\n",
      "Fail\n",
      "2\n"
     ]
    }
   ],
   "source": [
    "# G Решена\n",
    "\n",
    "\n",
    "def same_type(f):\n",
    "    tips = []\n",
    "    \n",
    "    def decorator(*args):\n",
    "        nonlocal tips\n",
    "        for i in args:\n",
    "            if tips == [] or type(i) in tips:\n",
    "                tips.append(type(i))\n",
    "            else:\n",
    "                return \"Обнаружены различные типы данных\\nFail\"\n",
    "        return f(*args) \n",
    "    return decorator\n",
    "\n",
    "@same_type\n",
    "def a_plus_b(a, b):\n",
    "    return a + b\n",
    "\n",
    "\n",
    "print(a_plus_b(3, 5.2) or 'Fail')\n",
    "print(a_plus_b(7, '9') or 'Fail')\n",
    "print(a_plus_b(-3, 5) or 'Fail')"
   ]
  },
  {
   "cell_type": "code",
   "execution_count": 47,
   "metadata": {},
   "outputs": [
    {
     "name": "stdout",
     "output_type": "stream",
     "text": [
      "0, 1, 1, 2, 3, 5, 8, 13, 21, 34\n"
     ]
    }
   ],
   "source": [
    "# H Решена\n",
    "\n",
    "\n",
    "def fibonacci(n):\n",
    "    n_1, n_2 = 1, 0\n",
    "    for i in range(n):\n",
    "        n_1, n_2 = n_2, n_1 + n_2\n",
    "        yield n_1\n",
    "print(*fibonacci(10), sep=', ')"
   ]
  },
  {
   "cell_type": "code",
   "execution_count": 123,
   "metadata": {},
   "outputs": [
    {
     "name": "stdout",
     "output_type": "stream",
     "text": [
      "1 2 3 4 1 2 3 4 1 2 3 4 1 2 3\n"
     ]
    }
   ],
   "source": [
    "# I Решена\n",
    "\n",
    "def cycle(listik):\n",
    "    num = 0\n",
    "    x = False\n",
    "    while x is False:\n",
    "        for z in range(len(listik)):\n",
    "            num = listik[z]\n",
    "            yield num\n",
    "print(*(x for _, x in zip(range(15), cycle([1, 2, 3, 4]))))"
   ]
  },
  {
   "cell_type": "code",
   "execution_count": 136,
   "metadata": {},
   "outputs": [
    {
     "name": "stdout",
     "output_type": "stream",
     "text": [
      "[1, 2, 3]\n"
     ]
    }
   ],
   "source": [
    "# J Решена\n",
    "\n",
    "\n",
    "def make_linear(lists, lists_new=[]):\n",
    "    for i in lists:\n",
    "        if type(i) is list:\n",
    "            make_linear(i)\n",
    "        else:\n",
    "            lists_new.append(i)\n",
    "    return lists_new\n",
    "\n",
    "result = make_linear([1, 2, [3]])\n",
    "print(result)"
   ]
  },
  {
   "cell_type": "code",
   "execution_count": null,
   "metadata": {},
   "outputs": [],
   "source": []
  }
 ],
 "metadata": {
  "kernelspec": {
   "display_name": "Python 3",
   "language": "python",
   "name": "python3"
  },
  "language_info": {
   "codemirror_mode": {
    "name": "ipython",
    "version": 3
   },
   "file_extension": ".py",
   "mimetype": "text/x-python",
   "name": "python",
   "nbconvert_exporter": "python",
   "pygments_lexer": "ipython3",
   "version": "3.10.9"
  },
  "orig_nbformat": 4
 },
 "nbformat": 4,
 "nbformat_minor": 2
}
