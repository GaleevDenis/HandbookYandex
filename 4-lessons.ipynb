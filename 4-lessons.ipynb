{
 "cells": [
  {
   "cell_type": "code",
   "execution_count": null,
   "metadata": {},
   "outputs": [],
   "source": [
    "a = int(input()) # Таблица умножения\n",
    "k = 0\n",
    "for i in range(1, a+1):\n",
    "    d = \"\"\n",
    "    for j in range(1, a+1):\n",
    "        k = i * j\n",
    "        d = d + str(k) + \" \"\n",
    "    print(d)"
   ]
  },
  {
   "cell_type": "code",
   "execution_count": null,
   "metadata": {},
   "outputs": [],
   "source": [
    "a =int(input()) # Таблица умножения\n",
    "for i in range(1, a + 1):\n",
    "    for j in range(1, a + 1):\n",
    "        print(f\"{j} * {i} = {j * i}\")"
   ]
  },
  {
   "cell_type": "code",
   "execution_count": null,
   "metadata": {},
   "outputs": [],
   "source": [
    "a = int(input())\n",
    "k = 1\n",
    "for n in range(k):\n",
    "    for i in range(1, a+1):\n",
    "        print(i)\n",
    "    k = k + 1"
   ]
  },
  {
   "cell_type": "code",
   "execution_count": null,
   "metadata": {},
   "outputs": [],
   "source": [
    "a = int(input())\n",
    "k = 1\n",
    "z = \"\"\n",
    "d = \"\"\n",
    "for i in range(1, a+1):\n",
    "    z = z + str(i)\n",
    "    d = z\n",
    "    if len(z) <= len(d) + 1:\n",
    "        print(z)"
   ]
  },
  {
   "cell_type": "code",
   "execution_count": null,
   "metadata": {},
   "outputs": [],
   "source": [
    "a = int(input()) # Программа считает сумму всех цифр по отдельности в числе, a = колличество введеных чисел\n",
    "z = 0\n",
    "for i in range(a):\n",
    "    k = int(input())\n",
    "    for n in range(len(str(k))):\n",
    "        k = str(k)\n",
    "        z = z + int(str(k[n]))\n",
    "print(z)\n"
   ]
  },
  {
   "cell_type": "code",
   "execution_count": null,
   "metadata": {},
   "outputs": [],
   "source": [
    "a = int(input()) # Ищет зайку в строках до слова ВСЁ в колличестве а раз, выводит сумму в скольки повторений до слова ВСЁ встречалась зайка  \n",
    "k = 0\n",
    "flag = False\n",
    "for i in range(a):\n",
    "    while (b := input()) != \"ВСЁ\":\n",
    "        if b == \"зайка\" and flag is False:\n",
    "            k = k + 1\n",
    "            flag = True\n",
    "        else:\n",
    "            pass\n",
    "    else:\n",
    "        flag = False\n",
    "print(k)"
   ]
  },
  {
   "cell_type": "code",
   "execution_count": null,
   "metadata": {},
   "outputs": [],
   "source": [
    "z = int(input()) # поиск НОД(наибольший общий делитель) z - чисел\n",
    "a = int(input()) \n",
    "k = 0\n",
    "for i in range(z-1):\n",
    "    b = int(input())\n",
    "    if a > b:\n",
    "        while a % b != 0:\n",
    "            k = b\n",
    "            b = a % b\n",
    "            a = k\n",
    "        a = b\n",
    "    else:\n",
    "        while b % a != 0:\n",
    "            k = a\n",
    "            a = b % a\n",
    "            b = k\n",
    "        a = a\n",
    "print(a)"
   ]
  },
  {
   "cell_type": "code",
   "execution_count": null,
   "metadata": {},
   "outputs": [],
   "source": [
    "a = int(input()) # Отсчет времени для велогонщиков в колличестве a участников\n",
    "k = 0\n",
    "for i in range(1, a + 1):\n",
    "    for n in range(3 + k, 0, -1):\n",
    "        print(f\"До старта {n} секунд(ы)\")\n",
    "    print(f\"Старт {i}!!!\")\n",
    "    k = k + 1"
   ]
  },
  {
   "cell_type": "code",
   "execution_count": null,
   "metadata": {},
   "outputs": [],
   "source": [
    "a = int(input()) # a - колличестве детей в группе. Далее вводится имя ребенка и его число. чья сумма чисел в цифре больше тот и победил выводится имя\n",
    "flag = False\n",
    "k = 0\n",
    "e = \"\"\n",
    "for i in range(a):\n",
    "    d = 0\n",
    "    b = input()\n",
    "    c = str(input())\n",
    "    for n in range(len(c)):\n",
    "        d = d + int(c[n])\n",
    "    if flag is False or d >= k:\n",
    "        k = d\n",
    "        e = b\n",
    "        flag = True\n",
    "print(e)"
   ]
  },
  {
   "cell_type": "code",
   "execution_count": null,
   "metadata": {},
   "outputs": [],
   "source": [
    "a = int(input()) # a - кол-во детей. Напишите программу, которая строит число, состоящее из максимальных цифр каждого ребёнка.\n",
    "d = \"\"\n",
    "for i in range(a):\n",
    "    c = int(0)\n",
    "    b = str(input())\n",
    "    for n in range(len(b)):\n",
    "        if int(b[n]) > int(c):\n",
    "            c = b[n]\n",
    "    d = d + c\n",
    "print(int(d))"
   ]
  },
  {
   "cell_type": "code",
   "execution_count": null,
   "metadata": {},
   "outputs": [],
   "source": [
    "num = int(input())\n",
    "a = int(0)\n",
    "b = int(0)\n",
    "c = int(0)\n",
    "print(f\"А Б В\")\n",
    "sum = num\n",
    "while sum != 0:\n",
    "    while a != 1:\n",
    "        a = a + 1\n",
    "        sum = sum - 1\n",
    "    while b != 1:\n",
    "        b = b + 1\n",
    "        sum = sum - 1\n",
    "    c = c + 1\n",
    "    sum = sum - 1\n",
    "print(f\"{a} {b} {c}\")\n",
    "while a == 1 and c != 1:\n",
    "    c = c - 1\n",
    "    b = b + 1\n",
    "    print(f\"{a} {b} {c}\")\n",
    "while b != 1:\n",
    "    b = b - 1\n",
    "    c = c + 1\n",
    "    if b == 2:\n",
    "        b = b - 1\n",
    "        a = a + 1\n",
    "    print(f\"{a} {b} {c}\")\n",
    "while c != 1:\n",
    "    c = c - 1\n",
    "    b = b + 1\n",
    "    print(f\"{a} {b} {c}\")\n"
   ]
  },
  {
   "cell_type": "code",
   "execution_count": null,
   "metadata": {},
   "outputs": [],
   "source": [
    "a = int(input())\n",
    "k = 0\n",
    "for i in range(a):\n",
    "    b = int(input())\n",
    "    if b > 1:\n",
    "        if b == 2 or b == 3 or b == 5 or b == 7:\n",
    "            k = k + 1\n",
    "        elif b % 2 != 0:\n",
    "            if b % 3 != 0:\n",
    "                if b % 4 != 0:\n",
    "                    if b % 5 != 0:\n",
    "                        if b % 6 != 0:\n",
    "                            k = k + 1\n",
    "print(k)"
   ]
  },
  {
   "cell_type": "code",
   "execution_count": null,
   "metadata": {},
   "outputs": [],
   "source": [
    "a = int(input())\n",
    "b = int(input())\n",
    "c = (a * b) + 1\n",
    "z = 0\n",
    "g = \" \"\n",
    "for i in range(a):\n",
    "    k = \"\"\n",
    "    for d in range(b):\n",
    "        c = c - 1 \n",
    "        k = f\"{k} {str(c)}\"\n",
    "    if len(k) > z:\n",
    "        z = len(k)\n",
    "    k1 = 0\n",
    "    k2 = k\n",
    "    l = \"\"\n",
    "    while len(k) < z:\n",
    "        k1 = k2.rfind(\" \")\n",
    "        l = \" \" + k2[k1:] + l\n",
    "        k = k2[0:k1] + l\n",
    "        if len(k) < z:\n",
    "            k2 = k[0:k1]\n",
    "    print(k)"
   ]
  },
  {
   "cell_type": "code",
   "execution_count": null,
   "metadata": {},
   "outputs": [],
   "source": [
    "k = \"Какдела фыв\"\n",
    "k1 = k.rfind(\" \")\n",
    "k = k[0:k1] + \" \" + k[k1:]\n",
    "print(k)"
   ]
  },
  {
   "cell_type": "code",
   "execution_count": null,
   "metadata": {},
   "outputs": [],
   "source": [
    "k = \"12 11 10 9 8 7\"\n",
    "z = \"18 17 16 15 14 13\"\n",
    "z = len(z)\n",
    "d1 = \"\"\n",
    "k1 = 0\n",
    "k2 = k\n",
    "l = \"\"\n",
    "while len(k) < z:\n",
    "    k1 = k2.rfind(\" \")\n",
    "    l = \" \" + k2[k1:] + l\n",
    "    k = k2[0:k1] + l\n",
    "    if len(k) < z:\n",
    "        k2 = k[0:k1]\n",
    "print(k)"
   ]
  },
  {
   "cell_type": "code",
   "execution_count": null,
   "metadata": {},
   "outputs": [],
   "source": [
    "a = int(input())\n",
    "b = int(input())\n",
    "c = (a * b) + 1\n",
    "z = 0\n",
    "g = \" \"\n",
    "for i in range(a):\n",
    "    k = \"\"\n",
    "    for d in range(b):\n",
    "        c = c - 1 \n",
    "        k = f\"{k} {str(c)}\"\n",
    "    if len(k) > z:\n",
    "        z = len(k)\n",
    "    k1 = 0\n",
    "    k2 = k\n",
    "    l = \"\"\n",
    "    while len(k) < z:\n",
    "        k1 = k2.rfind(\" \")\n",
    "        l = \" \" + k2[k1:] + l\n",
    "        k = k2[0:k1] + l\n",
    "        if len(k) < z:\n",
    "            k2 = k[0:k1]\n",
    "    print(k)"
   ]
  },
  {
   "cell_type": "code",
   "execution_count": null,
   "metadata": {},
   "outputs": [],
   "source": [
    "a = 4\n",
    "b = 6\n",
    "c = 0\n",
    "z = 0\n",
    "g = \"\"\n",
    "z2 = 0\n",
    "for z1 in range(b): # находим макс длину строки\n",
    "    z2 = (a * b) - z1\n",
    "    g = f\"{str(z2)} {g}\"\n",
    "g = len(g)\n",
    "print(g)\n",
    "for i in range(a): # начинаем переборк столбцов\n",
    "    k = \"\"\n",
    "    for d in range(b): # начинаем перебор значений в строке \n",
    "        k = f\"{str(c)} {int(c+1)}\" # нужно сделать перебор с 1 по 6\n",
    "        c = c + 1\n",
    "    k1 = 0\n",
    "    k2 = k\n",
    "    l = \"\" # тут k = 1_2_3_4_5_6\n",
    "    print(k)"
   ]
  },
  {
   "cell_type": "code",
   "execution_count": null,
   "metadata": {},
   "outputs": [],
   "source": [
    "a = \"7 8 9 10  11  12\"\n",
    "b = a.replace(\" \", \"  \")\n",
    "print(b)"
   ]
  },
  {
   "cell_type": "code",
   "execution_count": null,
   "metadata": {},
   "outputs": [],
   "source": [
    "while len(k) < g: # len(k) = 11 < 18\n",
    "        k1 = k2.rfind(\" \") # ищем индекс \" \" в строке справа 10\n",
    "        l = k2[k1:] + l \n",
    "        print(k1, l, len(l), sep=\"\\n\")\n",
    "        if len(l) % 2 == 0:\n",
    "            l = \" \" + l\n",
    "        elif len(l) % 3 == 0:\n",
    "            l = k2[k1:] + l\n",
    "        k = k2[0:k1]\n",
    "        if len(k) < g:\n",
    "            k2 = k[0:k1]\n",
    "        elif len(k) >=g:\n",
    "            k = k2 \n",
    "            print(k2)"
   ]
  },
  {
   "cell_type": "code",
   "execution_count": null,
   "metadata": {},
   "outputs": [],
   "source": [
    "a = int(input())\n",
    "k = 0\n",
    "b = 1\n",
    "while k != a:\n",
    "    z = \"\"\n",
    "    for s in range(b):\n",
    "        if k == a:\n",
    "            break\n",
    "        k = k + 1\n",
    "        z = f\"{z} {str(k)}\"\n",
    "    b = b + 1\n",
    "    print(z[1:])"
   ]
  },
  {
   "cell_type": "code",
   "execution_count": null,
   "metadata": {},
   "outputs": [],
   "source": [
    "# M\n",
    "stolb = int(input())\n",
    "strok = int(input())\n",
    "z = len(str(stolb * strok))\n",
    "for i in range(1, stolb + 1):\n",
    "    start = int(i)\n",
    "    linia_vivoda = str(i)\n",
    "    while len(linia_vivoda) != z:\n",
    "        linia_vivoda = \" \" + linia_vivoda\n",
    "    for b in range(1, strok, 1):\n",
    "        k = str(start + stolb)\n",
    "        while z != len(k):\n",
    "            k = \" \" + k\n",
    "        linia_vivoda = linia_vivoda + \" \" + k\n",
    "        start = start + stolb\n",
    "    print(linia_vivoda)"
   ]
  },
  {
   "cell_type": "code",
   "execution_count": null,
   "metadata": {},
   "outputs": [],
   "source": []
  },
  {
   "cell_type": "code",
   "execution_count": null,
   "metadata": {},
   "outputs": [],
   "source": [
    "# N\n",
    "stolb = int(input())\n",
    "strok = int(input())\n",
    "z = len(str(stolb * strok))\n",
    "k = 1\n",
    "for i in range(1, stolb + 1):\n",
    "    linia_vivoda = str(k)\n",
    "    while len(linia_vivoda) != z:\n",
    "        linia_vivoda = \" \" + linia_vivoda\n",
    "    for b in range(1, strok):\n",
    "        k = k + 1\n",
    "        while z != len(str(k)):\n",
    "            k = \" \" + str(k)\n",
    "        if i % 2 == 0:\n",
    "            linia_vivoda = str(k) + \" \" + str(linia_vivoda)\n",
    "            k = int(k)\n",
    "        else:\n",
    "            linia_vivoda = str(linia_vivoda) + \" \" + str(k)\n",
    "        k = int(k)\n",
    "    print(linia_vivoda)\n",
    "    k = k + 1"
   ]
  },
  {
   "cell_type": "code",
   "execution_count": null,
   "metadata": {},
   "outputs": [],
   "source": [
    "# N reverse\n",
    "stolb = int(input())\n",
    "strok = int(input())\n",
    "z = len(str(stolb * strok))\n",
    "k = 1\n",
    "for i in range(1, stolb + 1):\n",
    "    linia_vivoda = str(k)\n",
    "    while len(linia_vivoda) != z:\n",
    "        linia_vivoda = \" \" + linia_vivoda\n",
    "    for b in range(1, strok):\n",
    "        k = k + 1\n",
    "        while z != len(str(k)):\n",
    "            k = \" \" + str(k)\n",
    "        linia_vivoda = str(linia_vivoda) + \" \" + str(k)\n",
    "        k = int(k)\n",
    "    print(linia_vivoda)\n",
    "    k = k + 1"
   ]
  },
  {
   "cell_type": "code",
   "execution_count": null,
   "metadata": {},
   "outputs": [],
   "source": [
    "# O\n",
    "stolb = int(input())\n",
    "strok = int(input())\n",
    "z = len(str(stolb * strok))\n",
    "for i in range(1, stolb + 1):\n",
    "    start = int(i)\n",
    "    linia_vivoda = str(i)\n",
    "    while len(linia_vivoda) != z:\n",
    "        linia_vivoda = \" \" + linia_vivoda\n",
    "    for b in range(1, strok, 1):\n",
    "        k = str(start + stolb)\n",
    "        while z != len(k):\n",
    "            k = \" \" + k\n",
    "        linia_vivoda = linia_vivoda + \" \" + k\n",
    "        start = start + stolb\n",
    "    print(linia_vivoda)"
   ]
  },
  {
   "cell_type": "code",
   "execution_count": null,
   "metadata": {},
   "outputs": [],
   "source": [
    "# P\n",
    "razmer = int(input())\n",
    "stolb = int(input())\n",
    "z = len(str(razmer * razmer))\n",
    "k = 1\n",
    "for i in range(1, razmer + 1):\n",
    "    linia_vivoda = str(i)\n",
    "    while len(linia_vivoda) != z:\n",
    "        linia_vivoda = \" \" + linia_vivoda\n",
    "    linia_vivoda = \" \" + linia_vivoda\n",
    "    while len(linia_vivoda) != stolb:\n",
    "        linia_vivoda = linia_vivoda + \" \"\n",
    "    for b in range(1, razmer):\n",
    "        k = i * (b + 1)\n",
    "        while z != len(str(k)):\n",
    "            k = \" \" + str(k)\n",
    "        k = \" \" + str(k)\n",
    "        while len(str(k)) != stolb:\n",
    "            k = k + \" \" \n",
    "        linia_vivoda = str(linia_vivoda) + \"|\" + str(k)\n",
    "        k = int(k)\n",
    "    print(linia_vivoda)\n",
    "    if k != razmer * razmer:\n",
    "        print(\"-\" * (len(linia_vivoda)))"
   ]
  },
  {
   "cell_type": "code",
   "execution_count": null,
   "metadata": {},
   "outputs": [],
   "source": [
    "# P 2 versia\n",
    "razmer = int(input())\n",
    "stolb = int(input())\n",
    "z = len(str(razmer * razmer))\n",
    "k = 1\n",
    "for i in range(1, razmer + 1):\n",
    "    linia_vivoda = str(i)\n",
    "    if len(linia_vivoda) != z:\n",
    "        while len(linia_vivoda) != z:\n",
    "            linia_vivoda = \" \" + linia_vivoda\n",
    "        if stolb % 2 == 0 and len(linia_vivoda) % 2 == 0:\n",
    "            while len(linia_vivoda) != stolb:\n",
    "                linia_vivoda = \" \" + linia_vivoda + \" \"\n",
    "        elif stolb == 1:\n",
    "            pass\n",
    "        else:\n",
    "            linia_vivoda = \" \" + linia_vivoda\n",
    "            while len(linia_vivoda) != stolb:\n",
    "                linia_vivoda = linia_vivoda + \" \" \n",
    "    else:\n",
    "        if stolb % 2 == 0:\n",
    "            linia_vivoda = \" \" + linia_vivoda\n",
    "            while len(linia_vivoda) != stolb:\n",
    "                linia_vivoda = \" \" + linia_vivoda + \" \"\n",
    "        else:\n",
    "            while len(linia_vivoda) != stolb:\n",
    "                linia_vivoda = \" \" + linia_vivoda + \" \"    \n",
    "    for b in range(1, razmer):\n",
    "        k = i * (b + 1)\n",
    "        if z != len(str(k)):\n",
    "            while z != len(str(k)):\n",
    "                k = \" \" + str(k)\n",
    "            if stolb % 2 == 0:\n",
    "                while len(str(k)) != stolb:\n",
    "                    k = \" \" + str(k) + \" \"\n",
    "            elif stolb == 1:\n",
    "                pass\n",
    "            else:\n",
    "                k = \" \" + str(k)\n",
    "                while len(k) != stolb:\n",
    "                    k = str(k) + \" \"\n",
    "        else:\n",
    "            if stolb % 2 == 0:\n",
    "                while len(str(k)) != stolb:\n",
    "                    k = \" \" + str(k) + \" \"\n",
    "            elif stolb == 1:\n",
    "                pass\n",
    "            else:\n",
    "                k = \" \" + str(k)\n",
    "                while len(str(k)) != stolb:\n",
    "                    k = \" \" + str(k) + \" \"\n",
    "        linia_vivoda = str(linia_vivoda) + \"|\" + str(k)\n",
    "        k = int(k)\n",
    "    print(linia_vivoda)\n",
    "    if k != razmer * razmer:\n",
    "        print(\"-\" * (len(linia_vivoda)))"
   ]
  },
  {
   "cell_type": "code",
   "execution_count": null,
   "metadata": {},
   "outputs": [],
   "source": [
    "# p 2.5 version\n",
    "razmer = int(input())\n",
    "stolb = int(input())\n",
    "z = len(str(razmer * razmer))\n",
    "k = 1\n",
    "for i in range(1, razmer + 1):\n",
    "    linia_vivoda = str(i)\n",
    "    while len(linia_vivoda) != z:\n",
    "        linia_vivoda = \" \" + linia_vivoda\n",
    "    if stolb % 2 == 0 and len(linia_vivoda) % 2 == 0:\n",
    "        while len(linia_vivoda) != stolb:\n",
    "            linia_vivoda = \" \" + linia_vivoda + \" \"\n",
    "    elif stolb == 1:\n",
    "        pass\n",
    "    else:\n",
    "        linia_vivoda = \" \" + linia_vivoda\n",
    "        while len(linia_vivoda) != stolb:\n",
    "            linia_vivoda = linia_vivoda + \" \" \n",
    "    for b in range(1, razmer):\n",
    "        k = i * (b + 1)\n",
    "        while z != len(str(k)):\n",
    "            k = \" \" + str(k)\n",
    "        if stolb % 2 == 0 and len(str(k)) % 2 == 0:\n",
    "            while len(str(k)) != stolb:\n",
    "                k = \" \" + str(k) + \" \" \n",
    "        elif stolb == 1:\n",
    "            pass\n",
    "        else:\n",
    "            k = \" \" + str(k)\n",
    "            while len(k) != stolb:\n",
    "                k = str(k) + \" \"\n",
    "        linia_vivoda = str(linia_vivoda) + \"|\" + str(k)\n",
    "        k = int(k)\n",
    "    print(linia_vivoda)\n",
    "    if k != razmer * razmer:\n",
    "        print(\"-\" * (len(linia_vivoda)))"
   ]
  },
  {
   "cell_type": "code",
   "execution_count": null,
   "metadata": {},
   "outputs": [],
   "source": []
  },
  {
   "cell_type": "code",
   "execution_count": null,
   "metadata": {},
   "outputs": [],
   "source": [
    "# J решена\n",
    "a = int(0)\n",
    "b = int(0)\n",
    "c = int(0)\n",
    "print(f\"А Б В\")\n",
    "sum = int(input())\n",
    "while sum != 0:\n",
    "    while a != 1:\n",
    "        a = a + 1\n",
    "        sum = sum - 1\n",
    "    while b != 1:\n",
    "        b = b + 1\n",
    "        sum = sum - 1\n",
    "    c = c + 1\n",
    "    sum = sum - 1\n",
    "print(f\"{a} {b} {c}\")\n",
    "while c != 1:\n",
    "    c = c - 1\n",
    "    b = b + 1\n",
    "    print(f\"{a} {b} {c}\")\n",
    "    if c == 1:\n",
    "        b = b - 1\n",
    "        a = a + 1\n",
    "        b, c = c, b\n",
    "        print(f\"{a} {b} {c}\")"
   ]
  },
  {
   "cell_type": "code",
   "execution_count": null,
   "metadata": {},
   "outputs": [],
   "source": [
    "# S не сделал\n",
    "vsego = int(input())\n",
    "z = vsego\n",
    "if z % 2 != 0:\n",
    "    z = z + 1 \n",
    "for a in range(1, vsego + 1):\n",
    "    k = 0\n",
    "    d = 0\n",
    "    s = \"\"\n",
    "    for b in range(1, vsego + 1):\n",
    "        for c in range(0, z //2):\n",
    "            d = b + k + c\n",
    "            s = s + str(d)\n",
    "            d = 0\n",
    "            k = k - 1\n",
    "    print(s)"
   ]
  },
  {
   "cell_type": "code",
   "execution_count": null,
   "metadata": {},
   "outputs": [],
   "source": [
    "for i in range(26):\n",
    "    for j in range(26):\n",
    "        print(f\"{chr(ord('a') + i)}{chr(ord('a') + j)}\")"
   ]
  },
  {
   "cell_type": "code",
   "execution_count": null,
   "metadata": {},
   "outputs": [],
   "source": [
    "# A решена\n",
    "\n",
    "number = int(input())\n",
    "for i in range(1, number + 1):\n",
    "    stroka = ''\n",
    "    for j in range(1, number + 1):\n",
    "        stroka = stroka + str(i * j) + \" \"\n",
    "    print(stroka)"
   ]
  },
  {
   "cell_type": "code",
   "execution_count": null,
   "metadata": {},
   "outputs": [],
   "source": [
    "# B решена\n",
    "\n",
    "number = int(input())\n",
    "for i in range(1, number + 1):\n",
    "    for j in range(1, number + 1):\n",
    "        print(f'{j} * {i} = {i * j}')"
   ]
  },
  {
   "cell_type": "code",
   "execution_count": null,
   "metadata": {},
   "outputs": [],
   "source": [
    "# C решена\n",
    "\n",
    "number = int(input())\n",
    "number_count = 1\n",
    "number_str = ''\n",
    "k = 0\n",
    "for i in range(1, number + 1):\n",
    "    if k != number_count:\n",
    "        number_str = number_str + str(i) + ' '\n",
    "        k += 1\n",
    "    if k == number_count:\n",
    "        k = 0\n",
    "        print(number_str)\n",
    "        number_str = ''\n",
    "        number_count += 1\n",
    "else:\n",
    "    print(number_str)"
   ]
  },
  {
   "cell_type": "code",
   "execution_count": null,
   "metadata": {},
   "outputs": [],
   "source": [
    "# D решена\n",
    "\n",
    "number = int(input())\n",
    "sum_num = 0\n",
    "for i in range(number):\n",
    "    z = str(input())\n",
    "    for j in z:\n",
    "        sum_num = sum_num + int(j)\n",
    "else:\n",
    "    print(sum_num)"
   ]
  },
  {
   "cell_type": "code",
   "execution_count": null,
   "metadata": {},
   "outputs": [],
   "source": [
    "# E решена\n",
    "\n",
    "number = int(input())\n",
    "rabbits_count = 0\n",
    "flag = False\n",
    "for i in range(number):\n",
    "    while (text := str(input())) != \"ВСЁ\":\n",
    "        if text == 'зайка' and flag is False:\n",
    "            rabbits_count += 1\n",
    "            flag = True\n",
    "    flag = False\n",
    "else:\n",
    "    print(rabbits_count)"
   ]
  },
  {
   "cell_type": "code",
   "execution_count": null,
   "metadata": {},
   "outputs": [],
   "source": [
    "# F не решена\n",
    "\n",
    "repeat = int(input())\n",
    "a = int(input())\n",
    "\n",
    "for i in range(repeat - 1):\n",
    "    b = int(input())\n",
    "    while a != 0 and b != 0:\n",
    "        if a > b:\n",
    "            b = a % b\n",
    "        elif a < b:\n",
    "            a = b % a\n",
    "    if a > b:\n",
    "        a = b\n",
    "    else:\n",
    "        a = a\n",
    "print(a)"
   ]
  },
  {
   "cell_type": "code",
   "execution_count": null,
   "metadata": {},
   "outputs": [],
   "source": [
    "# G решена\n",
    "\n",
    "player = int(input())\n",
    "time = 3\n",
    "for i in range(1, player + 1):\n",
    "    for j in range(time, 0, -1):\n",
    "        print(f'До старта {j} секунд(ы)')\n",
    "    else:\n",
    "        time += 1\n",
    "    print(f'Старт {i}!!!')"
   ]
  },
  {
   "cell_type": "code",
   "execution_count": 79,
   "metadata": {},
   "outputs": [
    {
     "name": "stdout",
     "output_type": "stream",
     "text": [
      "Боря\n"
     ]
    }
   ],
   "source": [
    "# H решена\n",
    "\n",
    "players = int(input())\n",
    "name = ''\n",
    "number_2 = 0\n",
    "for i in range(players):\n",
    "    name_2 = str(input())\n",
    "    if ((number := sum([int(q) for q in (' '.join(str(input())).split())])) >= number_2) or number_2 == 0:\n",
    "        number_2 = number\n",
    "        name = name_2\n",
    "print(name)"
   ]
  },
  {
   "cell_type": "code",
   "execution_count": 11,
   "metadata": {},
   "outputs": [
    {
     "name": "stdout",
     "output_type": "stream",
     "text": [
      "34\n"
     ]
    }
   ],
   "source": [
    "# I решена\n",
    "\n",
    "children = int(input())\n",
    "number_max = ''\n",
    "for i in range(children):\n",
    "    number_max += str(max([int(q) for q in (' ').join(str(input())).split()]))\n",
    "print(number_max)"
   ]
  },
  {
   "cell_type": "code",
   "execution_count": 8,
   "metadata": {},
   "outputs": [
    {
     "name": "stdout",
     "output_type": "stream",
     "text": [
      "3\n"
     ]
    }
   ],
   "source": [
    "# J не решена\n",
    "\n"
   ]
  },
  {
   "cell_type": "code",
   "execution_count": 15,
   "metadata": {},
   "outputs": [
    {
     "name": "stdout",
     "output_type": "stream",
     "text": [
      "0\n"
     ]
    }
   ],
   "source": [
    "# K не решена\n",
    "\n",
    "n = int(input())\n",
    "sum_num = 0\n",
    "for i in range(n):\n",
    "    number = int(input())\n",
    "    if number != 1:\n",
    "        if (number == 2) or (number % 2 != 0):\n",
    "            if (number == 3) or (number % 3 != 0):\n",
    "                if (number == 5) or (number % 5 != 0):\n",
    "                    if (number == 7) or (number % 7 != 0):\n",
    "                        sum_num += 1\n",
    "                    else:\n",
    "                        continue\n",
    "                else:\n",
    "                    continue\n",
    "            else:\n",
    "                continue\n",
    "        else:\n",
    "            continue\n",
    "    else:\n",
    "        continue\n",
    "print(sum_num)"
   ]
  },
  {
   "cell_type": "code",
   "execution_count": 33,
   "metadata": {},
   "outputs": [
    {
     "name": "stdout",
     "output_type": "stream",
     "text": [
      " 1  2  3  4  5  6\n",
      " 7  8  9 10 11 12\n",
      "13 14 15 16 17 18\n",
      "19 20 21 22 23 24\n"
     ]
    }
   ],
   "source": [
    "# L решена\n",
    "\n",
    "height = int(input())\n",
    "width = int(input())\n",
    "repeat = 0\n",
    "for i in range(1, height + 1):\n",
    "    sum_string = ''\n",
    "    for j in range(1, width + 1):\n",
    "        sum_string += f'{repeat + j}'.rjust(len(str(height * width) + \" \"))\n",
    "    repeat = i * width\n",
    "    print(sum_string[1:])"
   ]
  },
  {
   "cell_type": "code",
   "execution_count": 1,
   "metadata": {},
   "outputs": [
    {
     "name": "stdout",
     "output_type": "stream",
     "text": [
      " 1  5  9 13 17 21\n",
      " 2  6 10 14 18 22\n",
      " 3  7 11 15 19 23\n",
      " 4  8 12 16 20 24\n"
     ]
    }
   ],
   "source": [
    "# M решена\n",
    "\n",
    "height = int(input())\n",
    "width = int(input())\n",
    "for i in range(1, height + 1):\n",
    "    sum_string = ''\n",
    "    for j in range(width):\n",
    "        sum_string += f'{(height * j) + i}'.rjust(len(str(height * width) + \" \"))\n",
    "    print(sum_string[1:])"
   ]
  },
  {
   "cell_type": "code",
   "execution_count": 28,
   "metadata": {},
   "outputs": [
    {
     "name": "stdout",
     "output_type": "stream",
     "text": [
      " 1  2  3  4  5  6\n",
      "12 11 10  9  8  7\n",
      "13 14 15 16 17 18\n",
      "24 23 22 21 20 19\n"
     ]
    }
   ],
   "source": [
    "# N решена\n",
    "\n",
    "height = int(input())\n",
    "width = int(input())\n",
    "repeat = 0\n",
    "for i in range(1, height + 1):\n",
    "    sum_string = ''\n",
    "    if i % 2 != 0:\n",
    "        for j in range(1, width + 1):\n",
    "            sum_string += f'{repeat + j}'.rjust(len(str(height * width) + \" \"))\n",
    "    else:\n",
    "        for j in range(width, 0, -1):\n",
    "            sum_string += f'{repeat + j}'.rjust(len(str(height * width) + \" \"))\n",
    "    repeat = i * width\n",
    "    print(sum_string[1:])"
   ]
  },
  {
   "cell_type": "code",
   "execution_count": 26,
   "metadata": {},
   "outputs": [
    {
     "name": "stdout",
     "output_type": "stream",
     "text": [
      " 1 16 17 32 33 48 49 64 65 80 81 96\n",
      " 2 15 18 31 34 47 50 63 66 79 82 95\n",
      " 3 14 19 30 35 46 51 62 67 78 83 94\n",
      " 4 13 20 29 36 45 52 61 68 77 84 93\n",
      " 5 12 21 28 37 44 53 60 69 76 85 92\n",
      " 6 11 22 27 38 43 54 59 70 75 86 91\n",
      " 7 10 23 26 39 42 55 58 71 74 87 90\n",
      " 8  9 24 25 40 41 56 57 72 73 88 89\n"
     ]
    }
   ],
   "source": [
    "# O решена\n",
    "\n",
    "height = int(input())\n",
    "width = int(input())\n",
    "listing = []\n",
    "\n",
    "for k in range(height):\n",
    "    listing.append([])\n",
    "\n",
    "for i in range(1, width + 1):\n",
    "    if i % 2 != 0:\n",
    "        for j in range(1, height + 1):\n",
    "            listing[j - 1].append(f'{((i - 1) * height) + j}'.rjust(len(str(height * width) + \" \")))\n",
    "    else:\n",
    "        for j in range(1, height + 1):\n",
    "            listing[-j].append(f'{((i - 1) * height) + j}'.rjust(len(str(height * width) + \" \")))\n",
    "    \n",
    "for z in listing:\n",
    "    print((\"\".join(z))[1:])"
   ]
  },
  {
   "cell_type": "code",
   "execution_count": 99,
   "metadata": {},
   "outputs": [
    {
     "name": "stdout",
     "output_type": "stream",
     "text": [
      " 1  | 2  | 3  | 4  \n",
      "-------------------\n",
      " 2  | 4  | 6  | 8  \n",
      "-------------------\n",
      " 3  | 6  | 9  | 12 \n",
      "-------------------\n",
      " 4  | 8  | 12 | 16 \n"
     ]
    }
   ],
   "source": [
    "# P решена\n",
    "\n",
    "height = int(input())\n",
    "width = int(input())\n",
    "for i in range(1, height + 1):\n",
    "    sum_string = ''\n",
    "    for j in range(1, height + 1):\n",
    "        if len(str(i * j)) % 2 != 0:\n",
    "            sum_string += f'{i * j}'.center(width) + '|'\n",
    "        else:\n",
    "            if width % 2 != 0:\n",
    "                sum_string += f'{i * j} '.center(width) + '|'\n",
    "            else:\n",
    "                sum_string += f'{i * j}'.center(width) + '|'\n",
    "    print(sum_string[:-1])\n",
    "    if i != height:\n",
    "        print('-' * len(sum_string[:-1]))"
   ]
  },
  {
   "cell_type": "code",
   "execution_count": 109,
   "metadata": {},
   "outputs": [
    {
     "name": "stdout",
     "output_type": "stream",
     "text": [
      "1\n"
     ]
    }
   ],
   "source": [
    "# Q решена\n",
    "\n",
    "counted = 0\n",
    "for i in range(int(input())):\n",
    "    number = str(input())\n",
    "    rev_number = number[::-1]\n",
    "    if number == rev_number:\n",
    "        counted += 1\n",
    "print(counted)"
   ]
  },
  {
   "cell_type": "code",
   "execution_count": 164,
   "metadata": {},
   "outputs": [
    {
     "name": "stdout",
     "output_type": "stream",
     "text": [
      "     1     \n",
      "    2 3    \n",
      "   4 5 6   \n",
      " 7 8 9 10  \n",
      "11 12 13 14\n"
     ]
    }
   ],
   "source": [
    "# R решена\n",
    "\n",
    "number = int(input())\n",
    "listing = []\n",
    "counted = 1\n",
    "current_num = 1\n",
    "while current_num != number + 1:\n",
    "    listing.append('')\n",
    "    for i in range(1, counted + 1):\n",
    "        listing[counted - 1] += ' ' + str(current_num)\n",
    "        current_num += 1\n",
    "        if current_num == number + 1:\n",
    "            break\n",
    "    listing[counted - 1] = listing[counted - 1][1:]\n",
    "    counted += 1\n",
    "for j in range(len(listing)):\n",
    "    if len(listing[j]) % 2 != 0:\n",
    "        listing[j] = listing[j].center(len(listing[-1]))\n",
    "    else:\n",
    "        if len(listing[-1]) % 2 != 0:\n",
    "            listing[j] = (listing[j] + \" \").center(len(listing[-1]))\n",
    "        else:\n",
    "            listing[j] = listing[j].center(len(listing[-1]))\n",
    "    listing[j] = listing[j].center(len(listing[-1]))\n",
    "    print(listing[j])"
   ]
  },
  {
   "cell_type": "code",
   "execution_count": 161,
   "metadata": {},
   "outputs": [
    {
     "name": "stdout",
     "output_type": "stream",
     "text": [
      "11\n",
      "8\n"
     ]
    }
   ],
   "source": [
    "# S решена\n",
    "\n"
   ]
  },
  {
   "cell_type": "code",
   "execution_count": null,
   "metadata": {},
   "outputs": [],
   "source": []
  }
 ],
 "metadata": {
  "kernelspec": {
   "display_name": "base",
   "language": "python",
   "name": "python3"
  },
  "language_info": {
   "codemirror_mode": {
    "name": "ipython",
    "version": 3
   },
   "file_extension": ".py",
   "mimetype": "text/x-python",
   "name": "python",
   "nbconvert_exporter": "python",
   "pygments_lexer": "ipython3",
   "version": "3.11.9"
  },
  "orig_nbformat": 4
 },
 "nbformat": 4,
 "nbformat_minor": 2
}
