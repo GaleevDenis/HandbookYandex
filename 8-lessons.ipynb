{
 "cells": [
  {
   "cell_type": "markdown",
   "metadata": {},
   "source": [
    "Если теперь нам потребуется в этой библиотеке какая-то функция, например product(), то для её вызова нужно написать название библиотеки, поставить точку и написать название функции:"
   ]
  },
  {
   "cell_type": "code",
   "execution_count": null,
   "metadata": {},
   "outputs": [],
   "source": [
    "import itertools\n",
    "\n",
    "print(itertools.product(\"ABC\", repeat=2))"
   ]
  },
  {
   "cell_type": "markdown",
   "metadata": {},
   "source": [
    "Можно импортировать функции из библиотек так, как если бы они стали частью нашей программы. Тогда следует указать ключевое слово from, затем название библиотеки, а после — import и через запятую указать названия функций, которые будут импортированы в нашу программу. При таком импорте вызов функций библиотеки осуществляется без указания названия библиотеки:"
   ]
  },
  {
   "cell_type": "markdown",
   "metadata": {},
   "source": [
    "Вовзвращает итератор product"
   ]
  },
  {
   "cell_type": "code",
   "execution_count": null,
   "metadata": {},
   "outputs": [],
   "source": [
    "from itertools import product\n",
    "\n",
    "print(product(\"ABC\", repeat=2))\n",
    "print(list(product(\"ABC\", repeat=2)))"
   ]
  },
  {
   "cell_type": "markdown",
   "metadata": {},
   "source": [
    "Функции, возвращающие бесконечные итераторы\n",
    "\n",
    "count(start, step) — принимает на вход начальное значение (start, по умолчанию равно 0) и шаг (step, по умолчанию равен 1) бесконечно увеличивающейся числовой последовательности. В качестве значений аргументов можно использовать вещественные числа (float). Затем функция возвращает итератор, значения которого являются выходной последовательностью. Выведем числа от 0 до 1 с шагом 0.1. Так как возвращаемый итератор бесконечный, применим break для остановки цикла:"
   ]
  },
  {
   "cell_type": "code",
   "execution_count": null,
   "metadata": {},
   "outputs": [],
   "source": [
    "from itertools import count\n",
    "\n",
    "for valve in count (0, 0.1):\n",
    "    if valve <= 1:\n",
    "        print(round(valve, 1))\n",
    "    else:\n",
    "        break\n"
   ]
  },
  {
   "cell_type": "markdown",
   "metadata": {},
   "source": [
    "cycle(iterable) — принимает на вход итерируемый объект, а возвращает итератор, который бесконечно циклически перебирает значения коллекции. Напишем программу, которая выводит строку длиной 10 символов, циклически перебирая символы входной строки ABC:"
   ]
  },
  {
   "cell_type": "code",
   "execution_count": null,
   "metadata": {},
   "outputs": [],
   "source": [
    "from itertools import cycle\n",
    "\n",
    "max_len = 10\n",
    "s = \"\"\n",
    "for letter in cycle(\"ABC\"):\n",
    "    if len(s) < 10:\n",
    "        s += letter\n",
    "    else:\n",
    "        break\n",
    "print(s)"
   ]
  },
  {
   "cell_type": "markdown",
   "metadata": {},
   "source": [
    "repeat(object, times) — возвращает итератор, повторяющий значение object (по умолчанию бесконечное количество раз — либо равно значению times). Напишем программу, которая создаст список из пяти строк ABC и выведет его на экран:"
   ]
  },
  {
   "cell_type": "code",
   "execution_count": null,
   "metadata": {},
   "outputs": [],
   "source": [
    "from itertools import repeat\n",
    "\n",
    "result = list(repeat(\"ABC\", 5))\n",
    "print(result)"
   ]
  },
  {
   "cell_type": "markdown",
   "metadata": {},
   "source": [
    "Функции, выполняющиеся до кратчайшей входной последовательности\n",
    "\n",
    "accumulate(iterable) — возвращает итератор, состоящий из накопленных сумм элементов входной последовательности. Например,"
   ]
  },
  {
   "cell_type": "code",
   "execution_count": null,
   "metadata": {},
   "outputs": [],
   "source": [
    "from itertools import accumulate\n",
    "\n",
    "for valve in accumulate([1, 2, 3, 4, 5]):\n",
    "    print(valve)"
   ]
  },
  {
   "cell_type": "markdown",
   "metadata": {},
   "source": [
    "chain(i_1, i_2, ..., i_n) — возвращает итератор, состоящий из элементов первого итерируемого объекта i_1, затем из второго i_2 и так далее до i_n. Пример:"
   ]
  },
  {
   "cell_type": "code",
   "execution_count": null,
   "metadata": {},
   "outputs": [],
   "source": [
    "from itertools import chain\n",
    "\n",
    "valves = list(chain(\"АБВ\", \"ГДЕЁ\", \"ЖЗИЙК\"))\n",
    "print(valves)"
   ]
  },
  {
   "cell_type": "markdown",
   "metadata": {},
   "source": [
    "chain.from_iterable(iterable) — аналогична chain, но аргументом является один итерируемый объект, состоящий из итерируемых элементов. Пример:"
   ]
  },
  {
   "cell_type": "code",
   "execution_count": null,
   "metadata": {},
   "outputs": [],
   "source": [
    "from itertools import chain\n",
    "\n",
    "valves = list(chain.from_iterable([\"АБВ\", \"ГДЕЁ\", \"ЖЗИЙК\"]))\n",
    "print(valves)"
   ]
  },
  {
   "cell_type": "markdown",
   "metadata": {},
   "source": [
    "Функции для комбинаторики\n",
    "\n",
    "product(i_1, i_2, ..., i_n, repeat) — возвращает итератор, значениями которого выступают элементы декартова произведения итерируемых объектов i_1, i_2, ..., i_n. Аргумент repeat определяет, сколько раз повторять в выходных комбинациях элементы каждого итерируемого объекта (значение по умолчанию 1). Элементами полученного итератора будут все возможные упорядоченные наборы элементов исходных итерируемых объектов. Пример:"
   ]
  },
  {
   "cell_type": "code",
   "execution_count": null,
   "metadata": {},
   "outputs": [],
   "source": [
    "from itertools import product\n",
    "\n",
    "valves = list(product([1, 2 ,3], \"asd\"))\n",
    "print(valves)"
   ]
  },
  {
   "cell_type": "code",
   "execution_count": null,
   "metadata": {},
   "outputs": [],
   "source": [
    "from itertools import product\n",
    "\n",
    "values = list(product([1, 2, 3], \"АБВГ\", repeat=1))\n",
    "print(values)"
   ]
  },
  {
   "cell_type": "markdown",
   "metadata": {},
   "source": [
    "permutations(iterable, r) — возвращает итератор, значениями которого являются перестановки без повторений из элементов итерируемого объекта iterable. Если значение r не задано, элементы итератора имеют ту же длину, что и iterable. Иначе длина равна r. Пример:"
   ]
  },
  {
   "cell_type": "code",
   "execution_count": null,
   "metadata": {},
   "outputs": [],
   "source": [
    "from itertools import permutations\n",
    "\n",
    "valves = list(permutations(\"АБВ\", r = 2))\n",
    "print(valves)"
   ]
  },
  {
   "cell_type": "markdown",
   "metadata": {},
   "source": [
    "combinations(iterable, r) — возвращает итератор, значениями которого выступают сочетания (без повторений) длиной r элементов итерируемого объекта iterable. Пример:"
   ]
  },
  {
   "cell_type": "code",
   "execution_count": null,
   "metadata": {},
   "outputs": [],
   "source": [
    "from itertools import combinations\n",
    "\n",
    "valves = list(combinations(\"АБВ\", 2))\n",
    "print(valves)"
   ]
  },
  {
   "cell_type": "markdown",
   "metadata": {},
   "source": [
    "combinations_with_replacement(iterable, r) — возвращает итератор, значениями которого выступают сочетания (с повторениями) длиной r элементов итерируемого объекта iterable. Пример:"
   ]
  },
  {
   "cell_type": "code",
   "execution_count": null,
   "metadata": {},
   "outputs": [],
   "source": [
    "from itertools import combinations_with_replacement\n",
    "\n",
    "values = list(combinations_with_replacement(\"АБВ\", 2))\n",
    "print(values)"
   ]
  },
  {
   "cell_type": "markdown",
   "metadata": {},
   "source": [
    "С одной из них мы познакомились ранее — функцией enumerate(). Она принимает на вход коллекцию, а возвращает итератор, значениями которого будут кортежи пар вида (номер элемента, значение элемента из коллекции). Можно дополнительно передать начало отсчёта номеров элементов (по умолчанию отсчёт идёт с 0). Пример:"
   ]
  },
  {
   "cell_type": "code",
   "execution_count": null,
   "metadata": {},
   "outputs": [],
   "source": [
    "for index, valve in enumerate(\"ABC\", 1):\n",
    "    print(index, valve)\n",
    "    \n",
    "kes = list(enumerate(\"ABC\", 1))\n",
    "print(kes)"
   ]
  },
  {
   "cell_type": "markdown",
   "metadata": {},
   "source": [
    "Ещё одной полезной функцией является zip(). Эта функция принимает на вход коллекции, а возвращает итератор, значениями которого выступают кортежи, состоящие из элементов, имеющих одинаковые индексы, обрабатываемых коллекций. Пример:"
   ]
  },
  {
   "cell_type": "code",
   "execution_count": null,
   "metadata": {},
   "outputs": [],
   "source": [
    "print(list(zip(\"ABC\", [1, 2, 3])))"
   ]
  },
  {
   "cell_type": "markdown",
   "metadata": {},
   "source": [
    "Коллекции могут иметь разное количество элементов, в таком случае zip() по умолчанию вернёт результат по самой короткой из них. Пример:"
   ]
  },
  {
   "cell_type": "code",
   "execution_count": null,
   "metadata": {},
   "outputs": [],
   "source": [
    "print(list(zip(\"ABCDE\", [1, 2, 3])))"
   ]
  },
  {
   "cell_type": "markdown",
   "metadata": {},
   "source": [
    "Если в функции zip() задать значение аргумента strict=True, то в случае разной длины коллекций будет вызываться исключение ValueError:"
   ]
  },
  {
   "cell_type": "code",
   "execution_count": null,
   "metadata": {},
   "outputs": [],
   "source": [
    "print(list(zip(\"ABCDE\", [1, 2, 3], strict=True)))"
   ]
  },
  {
   "cell_type": "code",
   "execution_count": null,
   "metadata": {},
   "outputs": [],
   "source": [
    "#A решена\n",
    "\n",
    "for index, valve in enumerate(str(input()).split(), 1):\n",
    "    print(str(index) + \".\", valve)"
   ]
  },
  {
   "cell_type": "code",
   "execution_count": null,
   "metadata": {},
   "outputs": [],
   "source": [
    "# B решена\n",
    "\n",
    "kes = [str(qwe) + \" - \" + str(ter) for (qwe, ter) in list(zip(str(input()).split(\", \"), str(input()).split(\", \")))]\n",
    "for i in kes:\n",
    "    print(i)"
   ]
  },
  {
   "cell_type": "code",
   "execution_count": null,
   "metadata": {},
   "outputs": [],
   "source": [
    "# С Решена\n",
    "\n",
    "from itertools import count\n",
    "\n",
    "a = str(input()).split()\n",
    "\n",
    "for i in count(float(a[0]), float(a[2])):\n",
    "    if i <= float(a[1]):\n",
    "        print(i)\n",
    "    else:\n",
    "        break"
   ]
  },
  {
   "cell_type": "code",
   "execution_count": null,
   "metadata": {},
   "outputs": [],
   "source": [
    "# D Решена\n",
    "\n",
    "from itertools import accumulate\n",
    "\n",
    "for i in accumulate([str(q) + \" \" for q in str(input()).split()]):\n",
    "    print(i)"
   ]
  },
  {
   "cell_type": "code",
   "execution_count": null,
   "metadata": {},
   "outputs": [],
   "source": [
    "# E Решена\n",
    "\n",
    "for index, valve in enumerate(sorted(str(input()).split(\", \") + str(input()).split(\", \") + str(input()).split(\", \")), 1):\n",
    "    print(str(index) + \".\", valve)"
   ]
  },
  {
   "cell_type": "code",
   "execution_count": null,
   "metadata": {},
   "outputs": [],
   "source": [
    "# F Решена\n",
    "\n",
    "from itertools import product\n",
    "\n",
    "a = str(input())\n",
    "mast = [\"пик\", \"треф\", \"бубен\", \"червей\"]\n",
    "mast.remove(a)\n",
    "values = list(product([2, 3, 4, 5, 6, 7, 8, 9, 10, \"валет\", \"дама\", \"король\", \"туз\"], mast, repeat=1))\n",
    "for index, valve in values:\n",
    "    print(index, valve)"
   ]
  },
  {
   "cell_type": "code",
   "execution_count": null,
   "metadata": {},
   "outputs": [],
   "source": [
    "# G\n",
    "\n",
    "from itertools import combinations\n",
    "\n",
    "a = int(input())\n",
    "b = []\n",
    "for c in range(a):\n",
    "    b.append(str(input()))\n",
    "for index, valve in combinations(b, r=2):\n",
    "    print(index, \"-\", valve)"
   ]
  },
  {
   "cell_type": "code",
   "execution_count": null,
   "metadata": {},
   "outputs": [],
   "source": [
    "# H Решена\n",
    "\n",
    "from itertools import cycle\n",
    "\n",
    "b = []\n",
    "for i in range(int(input())):\n",
    "    b.append(str(input()))\n",
    "d = int(input())\n",
    "for c in cycle(b):\n",
    "    if d > 0:\n",
    "        print(c)\n",
    "        d -= 1\n",
    "    else:\n",
    "        break"
   ]
  },
  {
   "cell_type": "code",
   "execution_count": null,
   "metadata": {},
   "outputs": [],
   "source": [
    "# I Решена\n",
    "import itertools\n",
    "\n",
    "a = int(input())\n",
    "q = str()\n",
    "r = a\n",
    "for index, valve in itertools.product([q for q in range(1, a + 1)], [q for q in range(1, a + 1)]):\n",
    "    if r > 0:\n",
    "        q += str(index * valve) + \" \"\n",
    "    else:\n",
    "        r = a\n",
    "        print(q)\n",
    "        q = \"\"\n",
    "        q += str(index * valve) + \" \"\n",
    "    r -= 1\n",
    "print(q)"
   ]
  },
  {
   "cell_type": "code",
   "execution_count": null,
   "metadata": {},
   "outputs": [],
   "source": [
    "from itertools import product\n",
    "\n",
    "a = int(input())\n",
    "print(\"А Б В\")\n",
    "for index, valve in product([q for q in range(1, a + 1)], [z for z in range(1, a + 1)]):\n",
    "    c = a - index - valve\n",
    "    print(index, valve, c)"
   ]
  },
  {
   "cell_type": "code",
   "execution_count": null,
   "metadata": {},
   "outputs": [],
   "source": [
    "from itertools import combinations_with_replacement\n",
    "\n",
    "values = list(combinations_with_replacement(\"123\", 2))\n",
    "print(values)"
   ]
  },
  {
   "cell_type": "code",
   "execution_count": null,
   "metadata": {},
   "outputs": [],
   "source": [
    "from itertools import combinations\n",
    "\n",
    "valves = list(combinations(\"123\", 2))\n",
    "print(valves)"
   ]
  },
  {
   "cell_type": "code",
   "execution_count": null,
   "metadata": {},
   "outputs": [],
   "source": [
    "from itertools import permutations\n",
    "\n",
    "valves = list(permutations(\"123\", r = 2))\n",
    "print(valves)"
   ]
  },
  {
   "cell_type": "code",
   "execution_count": null,
   "metadata": {},
   "outputs": [],
   "source": [
    "# J Решена\n",
    "from itertools import product\n",
    "\n",
    "a = int(input())\n",
    "print(\"А Б В\")\n",
    "kes = [q for q in range(1, a - 1)]\n",
    "valves = list(product(kes, kes, kes, repeat=1))\n",
    "for i1, i2, i3 in valves:\n",
    "    if i1 + i2 + i3 == a:\n",
    "        print(i1, i2, i3)"
   ]
  },
  {
   "cell_type": "code",
   "execution_count": null,
   "metadata": {},
   "outputs": [],
   "source": [
    "# k решена\n",
    "from itertools import product\n",
    "\n",
    "a = int(input())\n",
    "b = int(input())\n",
    "k = []\n",
    "for index, valve in product([q for q in range(0, b * a, b)], [w for w in range(1, b + 1)], repeat=1):\n",
    "    k.append(str(index + valve))\n",
    "for d in range(len(k)):\n",
    "    if len(k[d]) < len(k[-1]):\n",
    "        while len(k[d]) != len(k[-1]):\n",
    "            k[d] = \" \" + k[d]\n",
    "    if (d + 1) % b == 0:\n",
    "        pass\n",
    "    else:\n",
    "        k[d] = k[d] + \" \"\n",
    "p = []\n",
    "for inde, valv in list(zip(k, [t for t in range(0, b)] * a)):\n",
    "    if valv != b - 1:\n",
    "        p.append(inde)\n",
    "    else:\n",
    "        p.append(inde)\n",
    "        print(\"\".join(p))\n",
    "        p = []\n",
    "\n",
    "# 2-й вариант\n",
    "\n",
    "from itertools import product\n",
    "\n",
    "a = int(input())\n",
    "b = int(input())\n",
    "k = []\n",
    "for index, valve in product([q for q in range(0, b * a, b)], [w for w in range(1, b + 1)], repeat=1):\n",
    "    k.append(str(index + valve))\n",
    "for d in range(len(k)):\n",
    "    if len(k[d]) < len(k[-1]):\n",
    "        while len(k[d]) != len(k[-1]):\n",
    "            k[d] = \" \" + k[d]\n",
    "p = []\n",
    "for inde, valv in list(zip(k, [t for t in range(0, b)] * a)):\n",
    "    if valv != b - 1:\n",
    "        p.append(inde)\n",
    "    else:\n",
    "        p.append(inde)\n",
    "        print(\" \".join(p))\n",
    "        p = []"
   ]
  },
  {
   "cell_type": "code",
   "execution_count": null,
   "metadata": {},
   "outputs": [],
   "source": []
  },
  {
   "cell_type": "code",
   "execution_count": null,
   "metadata": {},
   "outputs": [],
   "source": [
    "# L Решена\n",
    "from itertools import chain\n",
    "\n",
    "a = int(input())\n",
    "kes = [w.split(\", \") for w in [input() for q in range(1, a + 1)]]\n",
    "for index, valve in enumerate(sorted(chain.from_iterable(kes)), 1):\n",
    "    print(str(index) + \".\", valve)"
   ]
  },
  {
   "cell_type": "code",
   "execution_count": null,
   "metadata": {},
   "outputs": [],
   "source": [
    "# M Решена\n",
    "\n",
    "from itertools import permutations\n",
    "\n",
    "a = int(input())\n",
    "kes = sorted([input() for q in range(1, a + 1)])\n",
    "valves = list(permutations(kes))\n",
    "for i in valves:\n",
    "    print(\", \".join(i))"
   ]
  },
  {
   "cell_type": "code",
   "execution_count": null,
   "metadata": {},
   "outputs": [],
   "source": [
    "# N Решена\n",
    "\n",
    "from itertools import permutations\n",
    "\n",
    "a = int(input())\n",
    "kes = sorted([input() for q in range(1, a + 1)])\n",
    "valves = list(permutations(kes, 3))\n",
    "for i in valves:\n",
    "    print(\", \".join(i))\n"
   ]
  },
  {
   "cell_type": "code",
   "execution_count": null,
   "metadata": {},
   "outputs": [],
   "source": [
    "# O Решена\n",
    "\n",
    "from itertools import permutations, chain\n",
    "\n",
    "a = int(input())\n",
    "kes = sorted(chain.from_iterable([input().split(\", \") for q in range(1, a + 1)]))\n",
    "valves = list(permutations(kes, 3))\n",
    "for i in valves:\n",
    "    print(\" \".join(i))"
   ]
  },
  {
   "cell_type": "code",
   "execution_count": 3,
   "metadata": {},
   "outputs": [
    {
     "name": "stdout",
     "output_type": "stream",
     "text": [
      "2 бубен, 2 пик, 2 треф\n",
      "2 бубен, 2 пик, 2 червей\n",
      "2 бубен, 2 пик, 3 бубен\n",
      "2 бубен, 2 пик, 3 пик\n",
      "2 бубен, 2 пик, 3 треф\n",
      "2 бубен, 2 пик, 3 червей\n",
      "2 бубен, 2 пик, 4 бубен\n",
      "2 бубен, 2 пик, 4 пик\n",
      "2 бубен, 2 пик, 4 треф\n",
      "2 бубен, 2 пик, 4 червей\n"
     ]
    }
   ],
   "source": [
    "# P Решена\n",
    "\n",
    "from itertools import combinations, product\n",
    "\n",
    "a = str(input())\n",
    "e = str()\n",
    "if a == \"буби\":\n",
    "    e = \"бубен\"\n",
    "elif a == \"пики\":\n",
    "    e = \"пик\"\n",
    "elif a == \"трефы\":\n",
    "    e = \"треф\"\n",
    "elif a == \"черви\":\n",
    "    e = \"червей\"\n",
    "b = input()\n",
    "d = sorted(['10', '2', '3', '4', '5', '6', '7', '8', '9', 'валет', 'дама', 'король', 'туз'])\n",
    "d.remove(b)\n",
    "c = sorted([\"бубен\", \"пик\", \"треф\", \"червей\"])\n",
    "z = list(product(d, c, repeat=1))\n",
    "k = list(combinations(z, 3))\n",
    "p = 0\n",
    "for index, valve, valves in k:\n",
    "    if p != 10:\n",
    "        if [q for q in [index, valve, valves] if q[1] == e] != []:\n",
    "            print(\" \".join(index) + \",\", \" \".join(valve) + \",\", \" \".join(valves))\n",
    "            p += 1"
   ]
  },
  {
   "cell_type": "code",
   "execution_count": 2,
   "metadata": {},
   "outputs": [],
   "source": [
    "# Q Решена\n",
    "\n",
    "from itertools import combinations, product\n",
    "\n",
    "a = str(input())\n",
    "e = str()\n",
    "if a == \"буби\":\n",
    "    e = \"бубен\"\n",
    "elif a == \"пики\":\n",
    "    e = \"пик\"\n",
    "elif a == \"трефы\":\n",
    "    e = \"треф\"\n",
    "elif a == \"черви\":\n",
    "    e = \"червей\"\n",
    "b = input()\n",
    "d = sorted(['10', '2', '3', '4', '5', '6', '7', '8', '9', 'валет', 'дама', 'король', 'туз'])\n",
    "d.remove(b)\n",
    "c = sorted([\"бубен\", \"пик\", \"треф\", \"червей\"])\n",
    "word = tuple(tuple(q.split()) for q in tuple(str(input()).split(\", \")))\n",
    "z = list(product(d, c, repeat=1))\n",
    "k = list(combinations(z, 3))\n",
    "z = 0\n",
    "for index, valve, valves in k:\n",
    "    if [q for q in [index, valve, valves] if q[1] == e] != []:\n",
    "        if z == 1:\n",
    "            print(\" \".join(index) + \",\", \" \".join(valve) + \",\", \" \".join(valves))\n",
    "            z += 1\n",
    "        if (index, valve, valves) == word:\n",
    "            z += 1"
   ]
  },
  {
   "cell_type": "code",
   "execution_count": 28,
   "metadata": {},
   "outputs": [
    {
     "name": "stdout",
     "output_type": "stream",
     "text": [
      "[(1, 0, 0), (1, 0, 0), (1, 0, 0), (0, 0, 0)]\n"
     ]
    }
   ],
   "source": [
    "from itertools import product, combinations\n",
    "a = [1, 0, 0, 0]\n",
    "b = [1]\n",
    "z = list(combinations(a, 3))\n",
    "print(z)"
   ]
  },
  {
   "cell_type": "code",
   "execution_count": 4,
   "metadata": {},
   "outputs": [
    {
     "name": "stdout",
     "output_type": "stream",
     "text": [
      "True\n"
     ]
    }
   ],
   "source": [
    "a = 0\n",
    "b = 0\n",
    "c = 0\n",
    "f = eval(\"not a or b and c\")\n",
    "print(f)"
   ]
  },
  {
   "cell_type": "code",
   "execution_count": 3,
   "metadata": {},
   "outputs": [
    {
     "name": "stdout",
     "output_type": "stream",
     "text": [
      "А Б В\n",
      "1 1 2\n",
      "1 2 1\n",
      "1 1 2\n",
      "1 2 1\n"
     ]
    }
   ],
   "source": [
    "# R "
   ]
  },
  {
   "cell_type": "code",
   "execution_count": 14,
   "metadata": {},
   "outputs": [
    {
     "name": "stdout",
     "output_type": "stream",
     "text": [
      "Этот ключ: a равен этому значению 1\n",
      "Этот ключ: b равен этому значению 2\n",
      "Этот ключ: c равен этому значению 3\n"
     ]
    }
   ],
   "source": [
    "dicti = {\"a\": 1,\n",
    "         \"b\": 2,\n",
    "         \"c\": 3\n",
    "        }\n",
    "for key in dicti:\n",
    "    print(\"Этот ключ:\", key, \"равен этому значению\", dicti[key])"
   ]
  },
  {
   "cell_type": "code",
   "execution_count": 19,
   "metadata": {},
   "outputs": [
    {
     "name": "stdout",
     "output_type": "stream",
     "text": [
      "<class 'set'>\n"
     ]
    }
   ],
   "source": [
    "friends =  {\n",
    "    'Серёга': 'Оренбург',\n",
    "    'Соня': 'Москва',\n",
    "    'Миша': 'Москва',\n",
    "    'Дима': 'Челябинск',\n",
    "    'Алина': 'Красноярск',\n",
    "    'Егор': 'Пермь',\n",
    "    'Коля': 'Красноярск'\n",
    "}\n",
    "\n",
    "# Здесь ваш код\n",
    "unique_city = set(friends.values())\n",
    "print(type(unique_city))"
   ]
  },
  {
   "cell_type": "code",
   "execution_count": 24,
   "metadata": {},
   "outputs": [
    {
     "name": "stdout",
     "output_type": "stream",
     "text": [
      "В городе Хабаровск живёт Серёга. Обязательно зайду в гости!\n",
      "В городе Москва у меня есть друг, но мне туда не надо.\n",
      "В городе Челябинск у меня есть друг, но мне туда не надо.\n",
      "В городе Хабаровск живёт Алина. Обязательно зайду в гости!\n",
      "В городе Пермь у меня есть друг, но мне туда не надо.\n"
     ]
    }
   ],
   "source": [
    "friends = {\n",
    "    'Серёга': \"Хабаровск\", \n",
    "    'Соня': 'Москва', \n",
    "    'Дима': 'Челябинск', \n",
    "    'Алина': 'Хабаровск', \n",
    "    'Егор': 'Пермь'\n",
    "}\n",
    "\n",
    "def is_anyone_in(collection, city):\n",
    "    for key in collection:\n",
    "        if friends[key] == city:\n",
    "            print(\"В городе\", city, \"живёт\", key + \".\", \"Обязательно зайду в гости!\" )\n",
    "        else:\n",
    "            print(\"В городе\", friends[key], \"у меня есть друг, но мне туда не надо.\")\n",
    "    \n",
    "is_anyone_in(friends, 'Хабаровск')"
   ]
  },
  {
   "cell_type": "code",
   "execution_count": 42,
   "metadata": {},
   "outputs": [
    {
     "name": "stdout",
     "output_type": "stream",
     "text": [
      "околбя\n"
     ]
    }
   ],
   "source": [
    "a = (\"\").join(list(reversed(\"яблоко\")))\n",
    "print(a)"
   ]
  },
  {
   "cell_type": "code",
   "execution_count": 45,
   "metadata": {},
   "outputs": [
    {
     "name": "stdout",
     "output_type": "stream",
     "text": [
      "Привет, я Анфиса!\n",
      "У тебя 7 друзей.\n",
      "Омск, Москва, Москва, Челябинск, Красноярск, Пермь, Красноярск\n",
      "Твои друзья: \n",
      "Твои друзья в городах: Омск Красноярск Пермь Челябинск Москва \n"
     ]
    }
   ],
   "source": [
    "DATABASE = {\n",
    "    'Серёга': 'Омск',\n",
    "    'Соня': 'Москва',\n",
    "    'Миша': 'Москва',\n",
    "    'Дима': 'Челябинск',\n",
    "    'Алина': 'Красноярск',\n",
    "    'Егор': 'Пермь',\n",
    "    'Коля': 'Красноярск'\n",
    "}\n",
    "\n",
    "def process_anfisa(query):\n",
    "    if query == 'Сколько у меня друзей?':\n",
    "        count = len(DATABASE)\n",
    "        \n",
    "        return 'У тебя ' + str(count) + ' друзей.'\n",
    "    elif query == 'Кто все мои друзья?':\n",
    "        # Из словаря DATABASE создайте строку с помощью join();\n",
    "        # имена друзей разделите запятой и пробелом.\n",
    "        # Запишите эту строку в переменную friends_string (вместо пустых кавычек).\n",
    "        k = \", \".join(list(DATABASE.values()))\n",
    "        print(k)\n",
    "        friends_string = ''\n",
    "\n",
    "\n",
    "        return 'Твои друзья: ' + friends_string\n",
    "    elif query == 'Где все мои друзья?':\n",
    "        unique_cities = set(DATABASE.values())\n",
    "        # Из сета unique_cities создайте строку с помощью join();\n",
    "        # названия городов разделите запятой и пробелом.\n",
    "        # Запишите эту строку в переменную cities_string (вместо пустых кавычек).\n",
    "        cities_string = ''\n",
    "\n",
    "        # Этот цикл больше не понадобится, удалите его\n",
    "        for city in unique_cities:\n",
    "            cities_string += city + ' '\n",
    "\n",
    "        return 'Твои друзья в городах: ' + cities_string\n",
    "    else:\n",
    "        return '<неизвестный запрос>'\n",
    "\n",
    "\n",
    "print('Привет, я Анфиса!')\n",
    "print(process_anfisa('Сколько у меня друзей?'))\n",
    "print(process_anfisa('Кто все мои друзья?'))\n",
    "print(process_anfisa('Где все мои друзья?'))"
   ]
  },
  {
   "cell_type": "code",
   "execution_count": 13,
   "metadata": {},
   "outputs": [
    {
     "name": "stdout",
     "output_type": "stream",
     "text": [
      "200\n"
     ]
    }
   ],
   "source": [
    "import requests\n",
    "\n",
    "search_parameters = {\n",
    "    \"text\": \"что такое backend\",\n",
    "    \"lr\": 213\n",
    "}\n",
    "url = \"https://yandex.ru/search/\"\n",
    "\n",
    "response = requests.get(url, params=search_parameters)\n",
    "print(response.status_code)"
   ]
  },
  {
   "cell_type": "code",
   "execution_count": 8,
   "metadata": {},
   "outputs": [
    {
     "ename": "TypeError",
     "evalue": "'module' object is not callable",
     "output_type": "error",
     "traceback": [
      "\u001b[1;31m---------------------------------------------------------------------------\u001b[0m",
      "\u001b[1;31mTypeError\u001b[0m                                 Traceback (most recent call last)",
      "Cell \u001b[1;32mIn[8], line 1\u001b[0m\n\u001b[1;32m----> 1\u001b[0m requests\u001b[39m.\u001b[39;49mstatus_codes()\n",
      "\u001b[1;31mTypeError\u001b[0m: 'module' object is not callable"
     ]
    }
   ],
   "source": [
    "requests.status_codes()"
   ]
  },
  {
   "cell_type": "code",
   "execution_count": 17,
   "metadata": {},
   "outputs": [
    {
     "name": "stdout",
     "output_type": "stream",
     "text": [
      "Анфиса, сколько у меня друзей? - У тебя 10 друзей.\n",
      "Анфиса, кто все мои друзья? - Твои друзья: Антон, София, Мама, Миша, Дима, Алина, Егор, Коля, Артём, Петя\n",
      "Анфиса, где все мои друзья? - Твои друзья в городах: Пермь, Михайловка, Уфа, Владивосток, Красноярск, Тюмень\n",
      "Анфиса, кто виноват? - <неизвестный запрос>\n",
      "Антон, ты где? - Антон в городе Уфа\n",
      "София, что делать? - <неизвестный запрос>\n",
      "София, ты где? - София в городе Тюмень\n",
      "Миша, который час? - Там сейчас 09:25\n",
      "Антон, который час? - Там сейчас 09:25\n",
      "Антон, который час? - Там сейчас 09:25\n",
      "Петя, который час? - <не могу определить время в городе Михайловка>\n",
      "София, как погода? - ☀️   🌡️+15°C 🌬️↓1.1m/s\n",
      "\n",
      "Миша, как погода? - ☀️   🌡️+15°C 🌬️↓1.1m/s\n",
      "\n",
      "Антон, как погода? - ☀️   🌡️+17°C 🌬️↓1.1m/s\n",
      "\n"
     ]
    }
   ],
   "source": [
    "import datetime as dt\n",
    "import requests\n",
    "\n",
    "DATABASE = {\n",
    "    'Антон': 'Уфа',\n",
    "    'София': 'Тюмень',\n",
    "    'Мама': 'Тюмень',\n",
    "    'Миша': 'Тюмень',\n",
    "    'Дима': 'Тюмень',\n",
    "    'Алина': 'Красноярск',\n",
    "    'Егор': 'Пермь',\n",
    "    'Коля': 'Красноярск',\n",
    "    'Артём': 'Владивосток',\n",
    "    'Петя': 'Михайловка'\n",
    "}\n",
    "\n",
    "UTC_OFFSET = {\n",
    "    'Москва': 3,\n",
    "    'Санкт-Петербург': 3,\n",
    "    'Новосибирск': 7,\n",
    "    'Екатеринбург': 5,\n",
    "    'Нижний Новгород': 3,\n",
    "    'Казань': 3,\n",
    "    'Челябинск': 5,\n",
    "    'Омск': 6,\n",
    "    'Самара': 4,\n",
    "    'Ростов-на-Дону': 3,\n",
    "    'Уфа': 5,\n",
    "    'Красноярск': 7,\n",
    "    'Воронеж': 3,\n",
    "    'Пермь': 5,\n",
    "    'Волгоград': 3,\n",
    "    'Краснодар': 3,\n",
    "    'Калининград': 2,\n",
    "    'Владивосток': 10,\n",
    "    \"Тюмень\": 5\n",
    "}\n",
    "\n",
    "\n",
    "def format_count_friends(count_friends):\n",
    "    if count_friends == 1:\n",
    "        return '1 друг'\n",
    "    elif 2 <= count_friends <= 4:\n",
    "        return f'{count_friends} друга'\n",
    "    else:\n",
    "        return f'{count_friends} друзей'\n",
    "\n",
    "\n",
    "def what_time(city):\n",
    "    offset = UTC_OFFSET[city]\n",
    "    city_time = dt.datetime.utcnow() + dt.timedelta(hours=offset)\n",
    "    f_time = city_time.strftime(\"%H:%M\")\n",
    "    return f_time\n",
    "\n",
    "\n",
    "def what_weather(city):\n",
    "    url = f'http://wttr.in/{city}'\n",
    "    weather_parameters = {\n",
    "        'format': 2,\n",
    "        'M': ''\n",
    "    }\n",
    "    try:\n",
    "        response = requests.get(url, params=weather_parameters)\n",
    "    except requests.ConnectionError:\n",
    "        return '<сетевая ошибка>'\n",
    "    if response.status_code == 200:\n",
    "        return response.text\n",
    "    else:\n",
    "        return '<ошибка на сервере погоды>'\n",
    "\n",
    "\n",
    "def process_anfisa(query):\n",
    "    if query == 'сколько у меня друзей?':\n",
    "        count = len(DATABASE)\n",
    "        return f'У тебя {format_count_friends(count)}.'\n",
    "    elif query == 'кто все мои друзья?':\n",
    "        friends_string = ', '.join(DATABASE)\n",
    "        return f'Твои друзья: {friends_string}'\n",
    "    elif query == 'где все мои друзья?':\n",
    "        unique_cities = set(DATABASE.values())\n",
    "        cities_string = ', '.join(unique_cities)\n",
    "        return f'Твои друзья в городах: {cities_string}'\n",
    "    else:\n",
    "        return '<неизвестный запрос>'\n",
    "\n",
    "\n",
    "def process_friend(name, query):\n",
    "    if name in DATABASE:\n",
    "        city = DATABASE[name]\n",
    "        if query == 'ты где?':\n",
    "            return f'{name} в городе {city}'\n",
    "        elif query == 'который час?':\n",
    "            if city not in UTC_OFFSET:\n",
    "                return f'<не могу определить время в городе {city}>'\n",
    "            time = what_time(city)\n",
    "            return f'Там сейчас {time}'\n",
    "        elif query == \"как погода?\":\n",
    "            return what_weather(city)\n",
    "        else:\n",
    "            return '<неизвестный запрос>'\n",
    "    else:\n",
    "        return f'У тебя нет друга по имени {name}'\n",
    "\n",
    "\n",
    "def process_query(query):\n",
    "    elements = query.split(', ')\n",
    "    if elements[0] == 'Анфиса':\n",
    "        return process_anfisa(elements[1])\n",
    "    else:\n",
    "        return process_friend(elements[0], elements[1])\n",
    "\n",
    "\n",
    "def runner():\n",
    "    queries = [\n",
    "        'Анфиса, сколько у меня друзей?',\n",
    "        'Анфиса, кто все мои друзья?',\n",
    "        'Анфиса, где все мои друзья?',\n",
    "        'Анфиса, кто виноват?',\n",
    "        'Антон, ты где?',\n",
    "        'София, что делать?',\n",
    "        'София, ты где?',\n",
    "        'Миша, который час?',\n",
    "        'Антон, который час?',\n",
    "        'Антон, который час?',\n",
    "        'Петя, который час?',\n",
    "        'София, как погода?',\n",
    "        'Миша, как погода?',\n",
    "        'Антон, как погода?'\n",
    "    ]\n",
    "    for query in queries:\n",
    "        print(query, '-', process_query(query))\n",
    "\n",
    "runner()"
   ]
  },
  {
   "cell_type": "code",
   "execution_count": null,
   "metadata": {},
   "outputs": [],
   "source": []
  }
 ],
 "metadata": {
  "kernelspec": {
   "display_name": "Python 3",
   "language": "python",
   "name": "python3"
  },
  "language_info": {
   "codemirror_mode": {
    "name": "ipython",
    "version": 3
   },
   "file_extension": ".py",
   "mimetype": "text/x-python",
   "name": "python",
   "nbconvert_exporter": "python",
   "pygments_lexer": "ipython3",
   "version": "3.10.9"
  },
  "orig_nbformat": 4
 },
 "nbformat": 4,
 "nbformat_minor": 2
}
