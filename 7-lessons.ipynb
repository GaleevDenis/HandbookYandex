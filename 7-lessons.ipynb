{
 "cells": [
  {
   "cell_type": "markdown",
   "metadata": {},
   "source": [
    "numbers = []\n",
    "for i in range(5):\n",
    "    numbers.append(int(input()))\n",
    "print(numbers)"
   ]
  },
  {
   "cell_type": "code",
   "execution_count": null,
   "metadata": {},
   "outputs": [],
   "source": [
    "numbers = [int(input()) for i in range(5)]\n",
    "print(numbers)"
   ]
  },
  {
   "cell_type": "code",
   "execution_count": null,
   "metadata": {},
   "outputs": [],
   "source": [
    "numbers = [int(input()) for i in range(5)]\n",
    "avg = sum(numbers) // len(numbers)\n",
    "numbers = [element for element in numbers if element > avg]\n",
    "print(numbers)"
   ]
  },
  {
   "cell_type": "code",
   "execution_count": 2,
   "metadata": {},
   "outputs": [
    {
     "name": "stdout",
     "output_type": "stream",
     "text": [
      "[1, 2, 3]\n",
      "[True, True, True]\n"
     ]
    }
   ],
   "source": [
    "from copy import deepcopy\n",
    "\n",
    "numbers = [[1, 2, 3], [2, 3, 4], [3, 4, 5]]\n",
    "print(numbers[0])\n",
    "numbers_copy = numbers.copy()\n",
    "print([numbers_copy[i] is numbers[i] for i in range(len(numbers))])"
   ]
  },
  {
   "cell_type": "code",
   "execution_count": 1,
   "metadata": {},
   "outputs": [
    {
     "name": "stdout",
     "output_type": "stream",
     "text": [
      "[True, True]\n",
      "[[1, 3, 4], [2, 3, 4]]\n",
      "[[1, 3, 4], [2, 3, 4]]\n"
     ]
    }
   ],
   "source": [
    "from copy import deepcopy\n",
    "numbers = [[1, 2, 4], [2,3,4]]\n",
    "a = numbers[:]\n",
    "print([a[i] is numbers[i] for i in range(len(numbers))])\n",
    "numbers[0][1] = 3\n",
    "print(numbers)\n",
    "print(a)"
   ]
  },
  {
   "cell_type": "code",
   "execution_count": null,
   "metadata": {},
   "outputs": [],
   "source": [
    "numbers = [int(input()) for i in range(5)]\n",
    "print(numbers)"
   ]
  },
  {
   "cell_type": "code",
   "execution_count": null,
   "metadata": {},
   "outputs": [],
   "source": [
    "numbers = [int(input()) for i in range(5)]\n",
    "avg = sum(numbers) // len(numbers)\n",
    "numbers = [element for element in numbers if element > avg]\n",
    "print(numbers)"
   ]
  },
  {
   "cell_type": "code",
   "execution_count": 5,
   "metadata": {},
   "outputs": [
    {
     "name": "stdout",
     "output_type": "stream",
     "text": [
      "[[10, 20, 30], [123, 1231231, 4], [124, 141], [23], [3]]\n"
     ]
    }
   ],
   "source": [
    "matrix = [[int(x) for x in input().split()] for i in range(5)]\n",
    "print(matrix)"
   ]
  },
  {
   "cell_type": "code",
   "execution_count": 6,
   "metadata": {},
   "outputs": [
    {
     "name": "stdout",
     "output_type": "stream",
     "text": [
      "[[0, 0, 0, 0, 0], [0, 0, 0, 0, 0], [0, 0, 0, 0, 0], [0, 0, 0, 0, 0], [0, 0, 0, 0, 0]]\n",
      "[[1, 0, 0, 0, 0], [1, 0, 0, 0, 0], [1, 0, 0, 0, 0], [1, 0, 0, 0, 0], [1, 0, 0, 0, 0]]\n"
     ]
    }
   ],
   "source": [
    "zeros = [[0] * 5] * 5\n",
    "print(zeros)\n",
    "zeros[0][0] = 1\n",
    "print(zeros)"
   ]
  },
  {
   "cell_type": "code",
   "execution_count": 3,
   "metadata": {},
   "outputs": [
    {
     "name": "stdout",
     "output_type": "stream",
     "text": [
      "[[0, 0, 0, 0, 0], [0, 0, 0, 0, 0], [0, 0, 0, 0, 0], [0, 0, 0, 0, 0], [0, 0, 0, 0, 0]]\n",
      "[[1, 0, 0, 0, 0], [0, 0, 0, 0, 0], [0, 0, 0, 0, 0], [0, 0, 0, 0, 0], [0, 0, 0, 0, 0]]\n"
     ]
    }
   ],
   "source": [
    "zeros = [[0] * 5 for i in range(5)]\n",
    "print(zeros)\n",
    "zeros[0][0] = 1\n",
    "print(zeros)"
   ]
  },
  {
   "cell_type": "code",
   "execution_count": 7,
   "metadata": {},
   "outputs": [
    {
     "name": "stdout",
     "output_type": "stream",
     "text": [
      "[1057, 1090, 1088, 1086, 1082, 1072, 32, 1089, 1080, 1084, 1074, 1086, 1083, 1086, 1074]\n"
     ]
    }
   ],
   "source": [
    "text = \"Строка символов\"\n",
    "codes = [ord(i) for i in text]\n",
    "print(codes)\n"
   ]
  },
  {
   "cell_type": "code",
   "execution_count": null,
   "metadata": {},
   "outputs": [],
   "source": [
    "countries = {\"Россия\": [\"русский\"],\n",
    "             \"Беларусь\": [\"белорусский\", \"русский\"],\n",
    "             \"Бельгия\": [\"немецкий\", \"французский\", \"нидерландский\"],\n",
    "             \"Вьетнам\": [\"вьетнамский\"]}\n",
    "multi = [country for (country, language) in countries.items() if len(language) > 1]\n",
    "print(multi)"
   ]
  },
  {
   "cell_type": "code",
   "execution_count": 9,
   "metadata": {},
   "outputs": [
    {
     "name": "stdout",
     "output_type": "stream",
     "text": [
      "{'Россия': 'Москва', 'Беларусь': 'Минск', 'Сербия': 'Белград'}\n"
     ]
    }
   ],
   "source": [
    "countries = {country: capital for country, capital in [(\"Россия\", \"Москва\"),\n",
    "              (\"Беларусь\", \"Минск\"),\n",
    "              (\"Сербия\", \"Белград\")]}\n",
    "print(countries)"
   ]
  },
  {
   "cell_type": "code",
   "execution_count": 8,
   "metadata": {},
   "outputs": [
    {
     "name": "stdout",
     "output_type": "stream",
     "text": [
      "Итератор занимает 112 байт.\n",
      "Список занимает 8000056 байт.\n"
     ]
    }
   ],
   "source": [
    "from sys import getsizeof\n",
    "numbers_iter = (i for i in range(10 ** 6))\n",
    "print(f\"Итератор занимает {getsizeof(numbers_iter)} байт.\")\n",
    "number_list = list(range(10 ** 6))\n",
    "print(f\"Список занимает {getsizeof(number_list)} байт.\")"
   ]
  },
  {
   "cell_type": "code",
   "execution_count": null,
   "metadata": {},
   "outputs": [],
   "source": [
    "x = 16\n",
    "print(id(x))\n",
    "y = x\n",
    "print(id(y))\n",
    "y = 15\n",
    "print(id(x))\n",
    "print(id(y))\n"
   ]
  },
  {
   "cell_type": "code",
   "execution_count": null,
   "metadata": {},
   "outputs": [],
   "source": [
    "a = 5\n",
    "b = 5.4\n",
    "c = \"asd\"\n",
    "d = (1, 2, \"ads\")\n",
    "e = (a, b, c, d)\n",
    "x = [id(x) for x in e]\n",
    "print(x)"
   ]
  },
  {
   "cell_type": "code",
   "execution_count": null,
   "metadata": {},
   "outputs": [],
   "source": [
    "a = 5\n",
    "print(id(a))\n",
    "a = a\n",
    "print(id(a))"
   ]
  },
  {
   "cell_type": "code",
   "execution_count": null,
   "metadata": {},
   "outputs": [],
   "source": [
    "a = [3, 5, 7]\n",
    "print(id(a))\n",
    "a += [4]\n",
    "print(id(a))"
   ]
  },
  {
   "cell_type": "code",
   "execution_count": null,
   "metadata": {},
   "outputs": [],
   "source": [
    "a = [3, 5, 7]\n",
    "print(id(a))\n",
    "k = a\n",
    "print(id(k))\n",
    "a = a + [4]\n",
    "print(id(a))\n",
    "print(id(k))\n",
    "print(k)\n",
    "print(a)"
   ]
  },
  {
   "cell_type": "code",
   "execution_count": 10,
   "metadata": {},
   "outputs": [
    {
     "name": "stdout",
     "output_type": "stream",
     "text": [
      "[25, 16, 9, 4, 1, 0, 1, 4, 9, 16, 25]\n"
     ]
    }
   ],
   "source": [
    "# a решена\n",
    "a = -5\n",
    "b = 5\n",
    "print([x ** 2 for x in range(a, b + 1)])"
   ]
  },
  {
   "cell_type": "code",
   "execution_count": 13,
   "metadata": {},
   "outputs": [
    {
     "name": "stdout",
     "output_type": "stream",
     "text": [
      "[[1, 2, 3], [2, 4, 6], [3, 6, 9]]\n"
     ]
    }
   ],
   "source": [
    "# b решена\n",
    "n = 3\n",
    "print([[i * z for z in range(1, n + 1)] for i in range(1, n + 1)])"
   ]
  },
  {
   "cell_type": "code",
   "execution_count": 12,
   "metadata": {},
   "outputs": [
    {
     "name": "stdout",
     "output_type": "stream",
     "text": [
      "[4, 4, 4]\n"
     ]
    }
   ],
   "source": [
    "# c решена\n",
    "sentence = \"Мама мыла раму\"\n",
    "print([len(x) for x in sentence.split()])"
   ]
  },
  {
   "cell_type": "code",
   "execution_count": 14,
   "metadata": {},
   "outputs": [
    {
     "name": "stdout",
     "output_type": "stream",
     "text": [
      "{1, 3, 5}\n"
     ]
    }
   ],
   "source": [
    "# d решена\n",
    "numbers = [1, 2, 3, 4, 5]\n",
    "print({x for x in numbers if x % 2 != 0})"
   ]
  },
  {
   "cell_type": "code",
   "execution_count": 15,
   "metadata": {},
   "outputs": [
    {
     "name": "stdout",
     "output_type": "stream",
     "text": [
      "{16, 64, 36}\n"
     ]
    }
   ],
   "source": [
    "# e решено\n",
    "numbers = [number for number in range(16, 100, 4)]\n",
    "print({x for x in numbers if x ** 0.5 == int(x ** 0.5)})"
   ]
  },
  {
   "cell_type": "code",
   "execution_count": 16,
   "metadata": {},
   "outputs": [
    {
     "name": "stdout",
     "output_type": "stream",
     "text": [
      "{'т': 1, 'о': 3, 'и': 5, 'а': 6, 'м': 3, 'х': 1, 'е': 7, 'н': 3, 'к': 1, 'с': 1, 'р': 1, 'п': 2, 'з': 2, 'л': 2, 'д': 5, 'ё': 1, 'в': 2}\n"
     ]
    }
   ],
   "source": [
    "# F решено\n",
    "text = '''Ехали медведи\n",
    "На велосипеде.\n",
    "\n",
    "А за ними кот\n",
    "Задом наперёд.'''\n",
    "print({word: text.lower().count(word) for word in {tuk for tuk in list(text.lower()) if str(tuk).isalpha()}})"
   ]
  },
  {
   "cell_type": "code",
   "execution_count": 20,
   "metadata": {},
   "outputs": [
    {
     "name": "stdout",
     "output_type": "stream",
     "text": [
      "[[1, 7, 49], [1, 2, 3, 4, 6, 9, 12, 18, 36], [1, 3, 5, 15]]\n"
     ]
    }
   ],
   "source": [
    "numbers = {15,49, 36}\n",
    "print([[qwe for qwe in range(1, delit + 1) if delit / qwe == int(delit / qwe)] for delit in numbers])"
   ]
  },
  {
   "cell_type": "code",
   "execution_count": 21,
   "metadata": {},
   "outputs": [
    {
     "name": "stdout",
     "output_type": "stream",
     "text": [
      "[49, 36, 15]\n"
     ]
    }
   ],
   "source": [
    "numbers = {15,49, 36}\n",
    "print([delit for delit in {number for number in numbers}])"
   ]
  },
  {
   "cell_type": "code",
   "execution_count": 22,
   "metadata": {},
   "outputs": [
    {
     "ename": "NameError",
     "evalue": "name 'delit' is not defined",
     "output_type": "error",
     "traceback": [
      "\u001b[1;31m---------------------------------------------------------------------------\u001b[0m",
      "\u001b[1;31mNameError\u001b[0m                                 Traceback (most recent call last)",
      "Cell \u001b[1;32mIn[22], line 2\u001b[0m\n\u001b[0;32m      1\u001b[0m numbers \u001b[39m=\u001b[39m {\u001b[39m15\u001b[39m,\u001b[39m49\u001b[39m, \u001b[39m36\u001b[39m}\n\u001b[1;32m----> 2\u001b[0m \u001b[39mprint\u001b[39m({num: delit \u001b[39mfor\u001b[39;00m delit \u001b[39min\u001b[39;00m [qwe \u001b[39mfor\u001b[39;00m qwe \u001b[39min\u001b[39;00m \u001b[39mrange\u001b[39m(\u001b[39m1\u001b[39m, delit \u001b[39m+\u001b[39m \u001b[39m1\u001b[39m) \u001b[39mif\u001b[39;00m delit \u001b[39m/\u001b[39m qwe \u001b[39m==\u001b[39m \u001b[39mint\u001b[39m(delit \u001b[39m/\u001b[39m qwe)] \u001b[39mfor\u001b[39;00m delit \u001b[39min\u001b[39;00m {number \u001b[39mfor\u001b[39;00m number \u001b[39min\u001b[39;00m numbers}})\n",
      "\u001b[1;31mNameError\u001b[0m: name 'delit' is not defined"
     ]
    }
   ],
   "source": [
    "numbers = {15,49, 36}\n",
    "print({num: delit for delit in [qwe for qwe in range(1, delit + 1) if delit / qwe == int(delit / qwe)] for delit in {number for number in numbers}})"
   ]
  },
  {
   "cell_type": "code",
   "execution_count": 23,
   "metadata": {},
   "outputs": [
    {
     "name": "stdout",
     "output_type": "stream",
     "text": [
      "[3, 6, 9, 12, 15]\n"
     ]
    }
   ],
   "source": [
    "d = [t * 3 for t in range(1,6)]\n",
    "print(d)"
   ]
  },
  {
   "cell_type": "code",
   "execution_count": 24,
   "metadata": {},
   "outputs": [
    {
     "name": "stdout",
     "output_type": "stream",
     "text": [
      "[1, 4, 3]\n"
     ]
    }
   ],
   "source": [
    "a = [1, 10, 12, 4, 3, 20, 55]\n",
    "a_filtered = []\n",
    "for num in a:\n",
    "    if num < 10:\n",
    "        a_filtered.append(num)\n",
    "print(a_filtered)"
   ]
  },
  {
   "cell_type": "code",
   "execution_count": 25,
   "metadata": {},
   "outputs": [
    {
     "name": "stdout",
     "output_type": "stream",
     "text": [
      "[1, 16, 9]\n"
     ]
    }
   ],
   "source": [
    "a_filtered = [num ** 2 for num in a if num < 10]\n",
    "print(a_filtered)"
   ]
  },
  {
   "cell_type": "code",
   "execution_count": 26,
   "metadata": {},
   "outputs": [
    {
     "name": "stdout",
     "output_type": "stream",
     "text": [
      "['hello', 'hey', 'piano']\n"
     ]
    }
   ],
   "source": [
    "words = [\"hello\", \"hey\", \"goodbye\", \"guitar\", \"piano\"]\n",
    "words_filtered = [word for word in words if len(word) < 6]\n",
    "print(words_filtered)"
   ]
  },
  {
   "cell_type": "code",
   "execution_count": null,
   "metadata": {},
   "outputs": [],
   "source": [
    "tu = [word * 2 for word in range(10, 1, -1) if word % 2 == 0]\n",
    "print(tu)"
   ]
  },
  {
   "cell_type": "code",
   "execution_count": null,
   "metadata": {},
   "outputs": [],
   "source": [
    "words = [\"hello\", \"hey\", \"goodbye\", \"guitar\", \"piano\"]\n",
    "new = [ni + \".\" for ni in words if len(ni) > 5]\n",
    "print(new)"
   ]
  },
  {
   "cell_type": "code",
   "execution_count": null,
   "metadata": {},
   "outputs": [],
   "source": [
    "# G решена\n",
    "numbers = {1, 2, 3, 4, 5}\n",
    "res = {chi: [delit for delit in range(1, chi + 1) if chi / delit == int(chi / delit)] for chi in numbers}\n",
    "print(res)"
   ]
  },
  {
   "cell_type": "code",
   "execution_count": null,
   "metadata": {},
   "outputs": [],
   "source": [
    "# H решена\n",
    "string = 'открытое акционерное общество'\n",
    "kes = \"\".join([rf[0].upper() for rf in string.split()])\n",
    "print(kes)"
   ]
  },
  {
   "cell_type": "code",
   "execution_count": 28,
   "metadata": {},
   "outputs": [
    {
     "name": "stdout",
     "output_type": "stream",
     "text": [
      "1 - 2 - 3 - 12 - 14 - 43 - 99 - 123 - 1534\n",
      "1 - 2 - 3 - 12 - 14 - 43 - 99 - 123 - 1534\n"
     ]
    }
   ],
   "source": [
    "# i Решена\n",
    "numbers = [3, 1, 2, 3, 2, 2, 99, 123, 43, 12, 14, 1534, 12, 43]\n",
    "kl = \" - \".join([str(q) for q in sorted({qw for qw in numbers})])\n",
    "print(kl)\n",
    "\n",
    "numbers = [3, 1, 2, 3, 2, 2, 99, 123, 43, 12, 14, 1534, 12, 43]\n",
    "kl = \" - \".join([str(q) for q in sorted([qw for qw in set(numbers)])])\n",
    "print(kl)"
   ]
  },
  {
   "cell_type": "code",
   "execution_count": 27,
   "metadata": {},
   "outputs": [
    {
     "name": "stdout",
     "output_type": "stream",
     "text": [
      "aabbbc\n"
     ]
    }
   ],
   "source": [
    "# j Решена\n",
    "rle = [('a', 2), ('b', 3), ('c', 1)]\n",
    "ki = \"\".join([fa * da for (fa, da) in rle])\n",
    "print(ki)"
   ]
  },
  {
   "cell_type": "code",
   "execution_count": null,
   "metadata": {},
   "outputs": [],
   "source": []
  },
  {
   "cell_type": "code",
   "execution_count": null,
   "metadata": {},
   "outputs": [],
   "source": []
  }
 ],
 "metadata": {
  "kernelspec": {
   "display_name": "Python 3",
   "language": "python",
   "name": "python3"
  },
  "language_info": {
   "codemirror_mode": {
    "name": "ipython",
    "version": 3
   },
   "file_extension": ".py",
   "mimetype": "text/x-python",
   "name": "python",
   "nbconvert_exporter": "python",
   "pygments_lexer": "ipython3",
   "version": "3.9.13"
  },
  "orig_nbformat": 4
 },
 "nbformat": 4,
 "nbformat_minor": 2
}
