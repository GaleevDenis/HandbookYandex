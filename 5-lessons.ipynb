{
 "cells": [
  {
   "cell_type": "markdown",
   "metadata": {},
   "source": [
    "Другими словами, строка — упорядоченная последовательность (коллекция) символов.\n",
    "\n",
    "Слово «коллекция» в Python применяется не только к строкам. Коллекциями в Python также называют типы данных, в которых можно хранить сразу несколько значений.\n",
    "\n",
    "В упорядоченных коллекциях, к которым относится строка, каждое значение автоматически имеет свой номер — индекс. Индексация в коллекциях Python начинается со значения 0. При этом пробел, запятая, управляющие символы \\n, \\t и прочие тоже получают свой индекс в строке. Для доступа к определённому символу строки по индексу нужно указать его в квадратных скобках сразу после имени переменной.\n",
    "\n",
    "Давайте создадим программу, которая выводит первый символ строки, введённой пользователем:"
   ]
  },
  {
   "cell_type": "code",
   "execution_count": null,
   "metadata": {},
   "outputs": [],
   "source": [
    "text = input()\n",
    "print(text[0])"
   ]
  },
  {
   "cell_type": "markdown",
   "metadata": {},
   "source": [
    "Если пользователь введёт пустую строку, то наша программа выдаст ошибку:"
   ]
  },
  {
   "cell_type": "code",
   "execution_count": null,
   "metadata": {},
   "outputs": [],
   "source": [
    "text = input()\n",
    "print(text[0])"
   ]
  },
  {
   "cell_type": "markdown",
   "metadata": {},
   "source": [
    "В пустой строке нет символов, и программа вышла за пределы строки. Таким образом, нельзя получить значение по индексу, который за пределами строки. Перед обращением к символу строки по индексу можно проверять, не выходит ли он за пределы строки, используя известную нам функцию len следующим образом:"
   ]
  },
  {
   "cell_type": "code",
   "execution_count": null,
   "metadata": {},
   "outputs": [],
   "source": [
    "text = input(\"Введите строку: \")\n",
    "i = int(input(\"Введите индекс символа: \"))\n",
    "if i < len(text):\n",
    "    print(text[i])\n",
    "else:\n",
    "    print(\"Индекс выходит за пределы строки\")"
   ]
  },
  {
   "cell_type": "markdown",
   "metadata": {},
   "source": [
    "Давайте подумаем, как можно взять последний символ строки? Для этого нам потребуется воспользоваться функцией len:\n",
    "\n",
    "Однако в Python можно упростить эту запись, убрав из неё функцию len. И тогда в качестве индекса просто будет использоваться отрицательное число:"
   ]
  },
  {
   "cell_type": "code",
   "execution_count": null,
   "metadata": {},
   "outputs": [],
   "source": [
    "text = input()\n",
    "print(text[-1])"
   ]
  },
  {
   "cell_type": "markdown",
   "metadata": {},
   "source": [
    "Так как строка — упорядоченная коллекция, то можно пройти по этой коллекции в цикле, указав в качестве индекса итерируемую переменную цикла. Например, вывести на строке каждый символ введённой пользователем строки:"
   ]
  },
  {
   "cell_type": "code",
   "execution_count": null,
   "metadata": {},
   "outputs": [],
   "source": [
    "text = input()\n",
    "for i in range(len(text)):\n",
    "    print(text[i])"
   ]
  },
  {
   "cell_type": "markdown",
   "metadata": {},
   "source": [
    "Существует и другой способ пройти по символам строки в цикле. Если не требуется на каждой итерации цикла знать индекс текущего символа, то цикл можно оформить следующим образом:\n",
    "\n",
    "При такой записи цикла программа проходит не по индексам строки, а непосредственно по её символам. Так, переменная letter на каждой итерации цикла принимает значение очередного символа строки text."
   ]
  },
  {
   "cell_type": "code",
   "execution_count": null,
   "metadata": {},
   "outputs": [],
   "source": [
    "text = input()\n",
    "for letter in text:\n",
    "    print(letter)"
   ]
  },
  {
   "cell_type": "markdown",
   "metadata": {},
   "source": [
    "Если требуется совместить проход непосредственно по символам строки с определением индекса итерации, то можно воспользоваться функцией enumerate. Она возвращает пары значений — номер элемента коллекции и сам этот элемент. Эта функция удобна, когда нужно пройти именно по элементам коллекции, но при этом ещё и знать индекс каждого элемента."
   ]
  },
  {
   "cell_type": "code",
   "execution_count": null,
   "metadata": {},
   "outputs": [],
   "source": [
    "text = input()\n",
    "for i, letter in enumerate(text):\n",
    "    print(f\"{i}. {letter}\")"
   ]
  },
  {
   "cell_type": "markdown",
   "metadata": {},
   "source": [
    "Для строк в Python существует ещё одна полезная операция — срез (slice).\n",
    "\n",
    "Срез позволяет взять часть строки, указав начальный и конечный индексы (конечный индекс не включается в диапазон). Также можно указать шаг, с которым срез будет взят (по умолчанию шаг 1).\n",
    "\n",
    "Кроме того, в срезах можно использовать отрицательную индексацию. А если срез выходит за пределы строки, то программа не упадёт с ошибкой, а просто вернёт существующую часть строки."
   ]
  },
  {
   "cell_type": "code",
   "execution_count": null,
   "metadata": {},
   "outputs": [],
   "source": [
    "text = \"Привет, мир!\"\n",
    "print(text[8:11])\n",
    "print(text[:6])\n",
    "print(text[8:])\n",
    "print(text[:])\n",
    "print(text[::2])"
   ]
  },
  {
   "cell_type": "markdown",
   "metadata": {},
   "source": [
    "Обратите внимание: строка является неизменяемой коллекцией. Это означает, что изменить отдельный символ строки нельзя."
   ]
  },
  {
   "cell_type": "code",
   "execution_count": null,
   "metadata": {},
   "outputs": [],
   "source": [
    "word = \"мир\"\n",
    "word[0] = \"п\""
   ]
  },
  {
   "cell_type": "markdown",
   "metadata": {},
   "source": [
    "Например, у строк есть метод islower(), который проверяет, что в строке не встречаются большие буквы, и возвращает в таком случае значение True, иначе — False:"
   ]
  },
  {
   "cell_type": "code",
   "execution_count": null,
   "metadata": {},
   "outputs": [],
   "source": [
    "print(\"а\".islower())\n",
    "print(\"A\".islower())"
   ]
  },
  {
   "cell_type": "markdown",
   "metadata": {},
   "source": [
    "В следующей таблице перечислены часто используемые методы строк и примеры их работы. \n",
    "\n",
    "\n",
    "Важный момент: методы строк не меняют исходную строку, а возвращают новое значение, которое можно сохранить в переменной."
   ]
  },
  {
   "cell_type": "markdown",
   "metadata": {},
   "source": [
    "str.capitalize()\n",
    "\n",
    "Возвращает копию строки, у которой первая буква заглавная, а остальные приведены к строчным"
   ]
  },
  {
   "cell_type": "code",
   "execution_count": null,
   "metadata": {},
   "outputs": [],
   "source": [
    "s = \"hello, World!\"\n",
    "print(s.capitalize())\n",
    "print(s)"
   ]
  },
  {
   "cell_type": "markdown",
   "metadata": {},
   "source": [
    "str.count(sub)\n",
    "\n",
    "Возвращает количество неперекрывающихся вхождений подстроки sub. К примеру, если искать в строке «ААААА» неперекрывающиеся значения «АА», то первое вхождение будет «AAAAA». Второе — «AAAAA». Больше неперекрывающихся вхождений нет. Так, поиск последующих вхождений подстроки происходит с индекса, который следует за последним найденным вхождением"
   ]
  },
  {
   "cell_type": "code",
   "execution_count": null,
   "metadata": {},
   "outputs": [],
   "source": [
    "s = \"Hello, world!\"\n",
    "s.count(\"l\")"
   ]
  },
  {
   "cell_type": "markdown",
   "metadata": {},
   "source": [
    "str.endswith(suffix)\n",
    "\n",
    "Возвращает True, если строка оканчивается на подстроку suffix. Иначе возвращает False. suffix может быть кортежем проверяемых окончаний строки"
   ]
  },
  {
   "cell_type": "code",
   "execution_count": null,
   "metadata": {},
   "outputs": [],
   "source": [
    "s = \"Hello, world!\"\n",
    "c = (\"d\", \"w\", \"q\")\n",
    "print(s.endswith(c))\n",
    "print(s.endswith(\"world!\"))"
   ]
  },
  {
   "cell_type": "markdown",
   "metadata": {},
   "source": [
    "str.find(sub)\n",
    "\n",
    "Возвращает индекс первого вхождения подстроки sub. Если подстрока не найдена, то возвращает -1"
   ]
  },
  {
   "cell_type": "code",
   "execution_count": null,
   "metadata": {},
   "outputs": [],
   "source": [
    "s = \"Hello, world!\"\n",
    "s.find(\"o\")"
   ]
  },
  {
   "cell_type": "markdown",
   "metadata": {},
   "source": [
    "str.index(sub)\n",
    "\n",
    "Возвращает индекс первого вхождения подстроки sub. Вызывает исключение ValueError, если подстрока не найдена. Тема ошибок (исключений) будет разбираться на одном из следующих параграфов"
   ]
  },
  {
   "cell_type": "code",
   "execution_count": null,
   "metadata": {},
   "outputs": [],
   "source": [
    "s = \"Hello, world!\"\n",
    "s.index(\"o\")"
   ]
  },
  {
   "cell_type": "markdown",
   "metadata": {},
   "source": [
    "str.isalnum()\n",
    "\n",
    "Возвращает True, если все символы строки являются буквами и цифрами и в строке есть хотя бы один символ(цифра или буква). Иначе возвращает False"
   ]
  },
  {
   "cell_type": "code",
   "execution_count": null,
   "metadata": {},
   "outputs": [],
   "source": [
    "s = \"abc123\"\n",
    "s.isalnum()"
   ]
  },
  {
   "cell_type": "markdown",
   "metadata": {},
   "source": [
    "str.isalpha()\n",
    "\n",
    "Возвращает True, если все символы строки являются буквами и в строке есть хотя бы один символ. Иначе возвращает False"
   ]
  },
  {
   "cell_type": "code",
   "execution_count": null,
   "metadata": {},
   "outputs": [],
   "source": [
    "s = \"Letters\"\n",
    "s.isalpha()"
   ]
  },
  {
   "cell_type": "markdown",
   "metadata": {},
   "source": [
    "str.isdigit()\n",
    "\n",
    "Возвращает True, если все символы строки являются цифрами и в строке есть хотя бы одна цифра. Иначе возвращает False"
   ]
  },
  {
   "cell_type": "code",
   "execution_count": null,
   "metadata": {},
   "outputs": [],
   "source": [
    "s = \"123фыв\"\n",
    "s.isdigit()"
   ]
  },
  {
   "cell_type": "markdown",
   "metadata": {},
   "source": [
    "str.islower()\n",
    "\n",
    "Возвращает True, если все буквы в строке маленькие или в строке есть хотя бы одна маленькая буква. Иначе возвращает False"
   ]
  },
  {
   "cell_type": "code",
   "execution_count": null,
   "metadata": {},
   "outputs": [],
   "source": [
    "s = \"word123-----\"\n",
    "s.islower()"
   ]
  },
  {
   "cell_type": "markdown",
   "metadata": {},
   "source": [
    "str.isupper()\n",
    "\n",
    "Возвращает True, если все буквы в строке большие или в строке есть хотя бы одна большая буква. Иначе возвращает False"
   ]
  },
  {
   "cell_type": "code",
   "execution_count": null,
   "metadata": {},
   "outputs": [],
   "source": [
    "s = \"WORD123----\"\n",
    "s.isupper()"
   ]
  },
  {
   "cell_type": "markdown",
   "metadata": {},
   "source": [
    "str.join(str_col)\n",
    "\n",
    "Возвращает строку, полученную конкатенацией (сложением) строк — элементов коллекции str_col (обозначение коллекции с элементами типа данных «строка»). Разделителем является строка, для которой вызван метод"
   ]
  },
  {
   "cell_type": "code",
   "execution_count": null,
   "metadata": {},
   "outputs": [],
   "source": [
    "a = [\"1\", \"2\", \"3\"]\n",
    "\"; \".join(a)"
   ]
  },
  {
   "cell_type": "markdown",
   "metadata": {},
   "source": [
    "str.ljust(width, fillchar)\n",
    "\n",
    "Возвращает строку длиной width с выравниванием по левому краю. Строка дополняется справа символами fillchar до требуемой длины. По умолчанию значение fillchar — пробел"
   ]
  },
  {
   "cell_type": "code",
   "execution_count": null,
   "metadata": {},
   "outputs": [],
   "source": [
    "s = \"text\"\n",
    "s.ljust(10, \"=\")"
   ]
  },
  {
   "cell_type": "markdown",
   "metadata": {},
   "source": [
    "str.rstrip(chars)\n",
    "\n",
    "Возвращает строку, у которой в конце удалены символы, встречающиеся в строке chars. Если значение chars не задано, то пробельные символы удаляются"
   ]
  },
  {
   "cell_type": "code",
   "execution_count": null,
   "metadata": {},
   "outputs": [],
   "source": [
    "s = \"stringBCCA\"\n",
    "s.rstrip(\"ABC\")"
   ]
  },
  {
   "cell_type": "markdown",
   "metadata": {},
   "source": [
    "str.split(sep) \n",
    "\n",
    "Возвращает список строк по разделителю sep. По умолчанию sep — любое количество пробельных символов"
   ]
  },
  {
   "cell_type": "code",
   "execution_count": null,
   "metadata": {},
   "outputs": [],
   "source": [
    "s = \"one, two, three\"\n",
    "s.split(\", \")"
   ]
  },
  {
   "cell_type": "markdown",
   "metadata": {},
   "source": [
    "str.startswith(prefix)\n",
    "\n",
    "Возвращает True, если строка начинается на подстроку prefix, иначе возвращает False. prefix может быть кортежем проверяемых префиксов строки. Под кортежами подразумевается неизменяемая последовательность элементов"
   ]
  },
  {
   "cell_type": "code",
   "execution_count": null,
   "metadata": {},
   "outputs": [],
   "source": [
    "s = \"Hello, world!\"\n",
    "s.startswith(\"Hello\")"
   ]
  },
  {
   "cell_type": "markdown",
   "metadata": {},
   "source": [
    "str.strip(chars)\n",
    "\n",
    "Возвращает строку, у которой в начале и в конце удалены символы, встречающиеся в строке chars. Если значение chars не задано, то пробельные символы удаляются"
   ]
  },
  {
   "cell_type": "code",
   "execution_count": null,
   "metadata": {},
   "outputs": [],
   "source": [
    "s = \"abc Hello, world! cba\"\n",
    "s.strip(\" abc\")"
   ]
  },
  {
   "cell_type": "markdown",
   "metadata": {},
   "source": [
    "str.title()\n",
    "\n",
    "Возвращает строку, в которой каждое отдельное слово начинается с буквы в верхнем регистре, а остальные буквы идут в нижнем"
   ]
  },
  {
   "cell_type": "code",
   "execution_count": null,
   "metadata": {},
   "outputs": [],
   "source": [
    "s = \"hello, world!\"\n",
    "s.title()"
   ]
  },
  {
   "cell_type": "markdown",
   "metadata": {},
   "source": [
    "str.upper()\n",
    "\n",
    "Возвращает копию строки, у которой все буквы приведены к верхнему регистру"
   ]
  },
  {
   "cell_type": "code",
   "execution_count": null,
   "metadata": {},
   "outputs": [],
   "source": [
    "s = \"Hello, world!\"\n",
    "s.upper()"
   ]
  },
  {
   "cell_type": "markdown",
   "metadata": {},
   "source": [
    "str.zfill(width)\n",
    "\n",
    "Возвращает строку, дополненную слева символами «0» до длины width"
   ]
  },
  {
   "cell_type": "code",
   "execution_count": null,
   "metadata": {},
   "outputs": [],
   "source": [
    "s = \"123\"\n",
    "s.zfill(5)"
   ]
  },
  {
   "cell_type": "markdown",
   "metadata": {},
   "source": [
    "Рассмотрим ещё одну коллекцию в Python — список (list). Этот тип данных является упорядоченной коллекцией, которая может в качестве элементов иметь значения любого типа данных.\n",
    "\n",
    "Один из способов создания списков — перечислить его элементы в квадратных скобках и присвоить это значение переменной, которая и станет в итоге списком в программе:"
   ]
  },
  {
   "cell_type": "code",
   "execution_count": null,
   "metadata": {},
   "outputs": [],
   "source": [
    "numbers = [10, 20, 30]"
   ]
  },
  {
   "cell_type": "markdown",
   "metadata": {},
   "source": [
    "Список может хранить значения любого типа, поэтому можно создать список со следующими элементами:"
   ]
  },
  {
   "cell_type": "code",
   "execution_count": null,
   "metadata": {},
   "outputs": [],
   "source": [
    "mixed_list = [10, 20.55, \"text\"]"
   ]
  },
  {
   "cell_type": "markdown",
   "metadata": {},
   "source": [
    "Индексация в списках работает так же, как и в строках, — начальный индекс 0. Можно использовать отрицательные индексы, а также доступны срезы:"
   ]
  },
  {
   "cell_type": "code",
   "execution_count": null,
   "metadata": {},
   "outputs": [],
   "source": [
    "numbers = [10, 20, 30, 40, 50]\n",
    "print(numbers[0])\n",
    "print(numbers[-1])\n",
    "print(numbers[1:3])\n",
    "print(numbers[::-1])"
   ]
  },
  {
   "cell_type": "markdown",
   "metadata": {},
   "source": [
    "В отличие от строки, список относится к изменяемой коллекции. У списка можно изменить отдельный элемент, добавить новые или удалить существующие. Для изменения существующего элемента нужно указать его в левой части операции присваивания, а в правой указать новое значение этого элемента:"
   ]
  },
  {
   "cell_type": "code",
   "execution_count": null,
   "metadata": {},
   "outputs": [],
   "source": [
    "numbers = [10, 20, 50]\n",
    "numbers[2] = 30\n",
    "print(numbers)"
   ]
  },
  {
   "cell_type": "markdown",
   "metadata": {},
   "source": [
    "Если требуется добавить элемент в конец списка, то можно использовать метод append().\n",
    "\n",
    "Например, напишем программу, в которой список последовательно заполняется 10 целочисленными значениями с клавиатуры:"
   ]
  },
  {
   "cell_type": "code",
   "execution_count": null,
   "metadata": {},
   "outputs": [],
   "source": [
    "numbers = []\n",
    "for i in range(10):\n",
    "    numbers.append(int(input()))\n",
    "print(numbers)"
   ]
  },
  {
   "cell_type": "markdown",
   "metadata": {},
   "source": [
    "Для удаления элемента из списка применяется операция del. Нужно указать индекс элемента, который требуется удалить:"
   ]
  },
  {
   "cell_type": "code",
   "execution_count": null,
   "metadata": {},
   "outputs": [],
   "source": [
    "numbers = [10, 20, 50]\n",
    "del numbers[-1]\n",
    "print(numbers)"
   ]
  },
  {
   "cell_type": "markdown",
   "metadata": {},
   "source": [
    "С помощью del можно удалить несколько элементов списка. Для этого вместо одного элемента указываем срез:"
   ]
  },
  {
   "cell_type": "code",
   "execution_count": null,
   "metadata": {},
   "outputs": [],
   "source": [
    "numbers = [1, 2, 3, 4, 5]\n",
    "del numbers[::2]\n",
    "print(numbers)"
   ]
  },
  {
   "cell_type": "markdown",
   "metadata": {},
   "source": [
    "!!!  Полезные методы и функции списков и примеры их работы приведены в следующей таблице.  !!!"
   ]
  },
  {
   "cell_type": "markdown",
   "metadata": {},
   "source": [
    "x in s \n",
    "\n",
    "Возвращает True, если в списке s есть элемент x. Иначе False"
   ]
  },
  {
   "cell_type": "code",
   "execution_count": null,
   "metadata": {},
   "outputs": [],
   "source": [
    "print(1 in [1, 2, 3])"
   ]
  },
  {
   "cell_type": "markdown",
   "metadata": {},
   "source": [
    "x not in s\n",
    "\n",
    "Возвращает False, если в списке s есть элемент x. Иначе True"
   ]
  },
  {
   "cell_type": "code",
   "execution_count": null,
   "metadata": {},
   "outputs": [],
   "source": [
    "print(4 not in [1, 2, 3])"
   ]
  },
  {
   "cell_type": "markdown",
   "metadata": {},
   "source": [
    "s + t\n",
    "\n",
    "Возвращает список, полученный конкатенацией списков s и t"
   ]
  },
  {
   "cell_type": "code",
   "execution_count": null,
   "metadata": {},
   "outputs": [],
   "source": [
    "print([1, 2] + [3, 4, 5])"
   ]
  },
  {
   "cell_type": "markdown",
   "metadata": {},
   "source": [
    "s * n (n * s)\n",
    "\n",
    "Возвращает список, полученный дублированием n раз списка s"
   ]
  },
  {
   "cell_type": "code",
   "execution_count": null,
   "metadata": {},
   "outputs": [],
   "source": [
    "print([1, 2, 3] * 3)"
   ]
  },
  {
   "cell_type": "markdown",
   "metadata": {},
   "source": [
    "len(s)\n",
    "\n",
    "\n",
    "min(s)\n",
    "\n",
    "\n",
    "max(s)\n",
    "\n",
    "\n",
    "Возвращает длину списка s\n",
    "\n",
    "\n",
    "Возвращает минимальный элемент списка\n",
    "\n",
    "\n",
    "Возвращает максимальный элемент списка\n",
    "\n"
   ]
  },
  {
   "cell_type": "code",
   "execution_count": null,
   "metadata": {},
   "outputs": [],
   "source": [
    "print(len([1, 2, 3]))\n",
    "print(min([1, 2, 3]))\n",
    "print(max([1, 2, 3]))"
   ]
  },
  {
   "cell_type": "markdown",
   "metadata": {},
   "source": [
    "s.index(x)\n",
    "\n",
    "Возвращает индекс первого найденного элемента x. Вызывается исключение ValueError, если элемент не найден"
   ]
  },
  {
   "cell_type": "code",
   "execution_count": null,
   "metadata": {},
   "outputs": [],
   "source": [
    "print([1, 2, 3, 2, 1].index(2))"
   ]
  },
  {
   "cell_type": "markdown",
   "metadata": {},
   "source": [
    "s.count(x)\n",
    "\n",
    "Возвращает количество элементов x"
   ]
  },
  {
   "cell_type": "code",
   "execution_count": null,
   "metadata": {},
   "outputs": [],
   "source": [
    "print([1, 1, 1, 2, 3, 1].count(1))"
   ]
  },
  {
   "cell_type": "markdown",
   "metadata": {},
   "source": [
    "s.append(x)\n",
    "\n",
    "Добавляет элемент x в конец списка\n",
    "\n",
    "s.clear()\n",
    "\n",
    "Удаляет все элементы списка\n",
    "\n",
    "s.copy()\n",
    "\n",
    "Возвращает копию списка"
   ]
  },
  {
   "cell_type": "code",
   "execution_count": null,
   "metadata": {},
   "outputs": [],
   "source": [
    "s = [1, 2]\n",
    "s.append(3)\n",
    "print(s)\n",
    "\n",
    "s = [1, 2, 3]\n",
    "s.clear()\n",
    "print(s)\n",
    "\n",
    "print([1, 2, 3].copy())"
   ]
  },
  {
   "cell_type": "markdown",
   "metadata": {},
   "source": [
    "s.extend(t) или s += t \n",
    "\n",
    "Расширяет список s элементами списка t"
   ]
  },
  {
   "cell_type": "code",
   "execution_count": null,
   "metadata": {},
   "outputs": [],
   "source": [
    "s = [1, 2, 3]\n",
    "s.extend([4, 5])\n",
    "print(s)"
   ]
  },
  {
   "cell_type": "markdown",
   "metadata": {},
   "source": [
    "s.insert(i, x)\n",
    "\n",
    "Вставляет элемент x в список по индексу i"
   ]
  },
  {
   "cell_type": "code",
   "execution_count": null,
   "metadata": {},
   "outputs": [],
   "source": [
    "s = [1, 3, 4]\n",
    "s.insert(1, 2)\n",
    "print(s)"
   ]
  },
  {
   "cell_type": "markdown",
   "metadata": {},
   "source": [
    "s.pop(i)\n",
    "\n",
    "Возвращает и удаляет элемент с индексом i. Если i не указан, то возвращается и удаляется последний элемент\n",
    "\n",
    "s.remove(x)\n",
    "\n",
    "Удаляет первый элемент со значением x"
   ]
  },
  {
   "cell_type": "code",
   "execution_count": null,
   "metadata": {},
   "outputs": [],
   "source": [
    "s = [1, 2, 3]\n",
    "x = s.pop()\n",
    "print(x)\n",
    "print(s)\n",
    "\n",
    "s = [1, 2, 3, 2, 1]\n",
    "s.remove(2)\n",
    "print(s)"
   ]
  },
  {
   "cell_type": "markdown",
   "metadata": {},
   "source": [
    "s.reverse()\n",
    "\n",
    "Меняет порядок элементов списка на противоположный (переворачивает список)"
   ]
  },
  {
   "cell_type": "code",
   "execution_count": null,
   "metadata": {},
   "outputs": [],
   "source": [
    "s = [1, 2, 3]\n",
    "s.reverse()\n",
    "print(s)"
   ]
  },
  {
   "cell_type": "markdown",
   "metadata": {},
   "source": [
    "s.sort()\n",
    "\n",
    "Сортирует список по возрастанию, меняя исходный список. Для сортировки по убыванию используется дополнительный аргумент reverse=True\n",
    "\n",
    "sorted(s)\n",
    "\n",
    "Возвращает отсортированный по возрастанию список, не меняя исходный. Для сортировки по убыванию используется дополнительный аргумент reverse=True"
   ]
  },
  {
   "cell_type": "code",
   "execution_count": null,
   "metadata": {},
   "outputs": [],
   "source": [
    "s = [2, 3, 1]\n",
    "s.sort()\n",
    "print(s)\n",
    "\n",
    "s = [2, 3, 1]\n",
    "new_s = sorted(s, reverse=True)\n",
    "print(new_s)"
   ]
  },
  {
   "cell_type": "markdown",
   "metadata": {},
   "source": [
    "\n",
    "\n",
    "\n",
    "\n",
    "\n",
    "Ещё одной коллекцией в Python является кортеж (tuple). Кортеж является неизменяемой упорядоченной коллекцией. В кортеже нельзя заменить значение элемента, добавить или удалить элемент. Простыми словами, кортеж — неизменяемый список. Свойство неизменяемости используется для защиты от случайных или намеренных изменений.\n",
    "\n",
    "Задать кортеж можно следующим образом:"
   ]
  },
  {
   "cell_type": "code",
   "execution_count": null,
   "metadata": {},
   "outputs": [],
   "source": [
    "numbers = (1, 2, 3, 4, 5)"
   ]
  },
  {
   "cell_type": "markdown",
   "metadata": {},
   "source": [
    "Если нужно создать кортеж из одного элемента, то запись будет такой:"
   ]
  },
  {
   "cell_type": "code",
   "execution_count": null,
   "metadata": {},
   "outputs": [],
   "source": [
    "one_number = (1, )"
   ]
  },
  {
   "cell_type": "markdown",
   "metadata": {},
   "source": [
    "Запятая в примере показывает, что в скобках не совершается операция, а идёт перечисление элементов кортежа.\n",
    "\n",
    "Для кортежей доступны те операции и методы списков, которые не изменяют исходный кортеж."
   ]
  },
  {
   "cell_type": "markdown",
   "metadata": {},
   "source": [
    "Между коллекциями можно производить преобразования. Покажем их на примере преобразования строки в список и кортеж (элементы строки, символы становятся элементами списка и кортежа соответственно):"
   ]
  },
  {
   "cell_type": "code",
   "execution_count": null,
   "metadata": {},
   "outputs": [],
   "source": [
    "text = \"Привет, мир!\"\n",
    "list_symbols = list(text)\n",
    "tuple_symbols = tuple(text)\n",
    "text_from_list = str(list_symbols)\n",
    "print(list_symbols)\n",
    "print(tuple_symbols)\n",
    "print(text_from_list)"
   ]
  },
  {
   "cell_type": "markdown",
   "metadata": {},
   "source": [
    "Напишите программу, которая проверяет, что первая буква во всех словах — А, Б или В\n",
    "\n",
    "\n",
    "Формат ввода\n",
    "\n",
    "Вводится натуральное число a — количество слов, названных детьми.\n",
    "В каждой из последующих a строк записано по одному слову строчными буквами(b).\n",
    "\n",
    "Формат вывода\n",
    "\n",
    "YES — если все слова начинаются с нужной буквы.\n",
    "NO — если хотя бы одно слово начинается не с нужной буквы."
   ]
  },
  {
   "cell_type": "code",
   "execution_count": null,
   "metadata": {},
   "outputs": [],
   "source": [
    "# a решена\n",
    "a = int(input())\n",
    "k = 0\n",
    "for i in range(a):\n",
    "    b = str(input())\n",
    "    c = b.startswith((\"а\", \"б\", \"в\"))\n",
    "    if c is True:\n",
    "        k += 1\n",
    "if k == a:\n",
    "    print(\"YES\")\n",
    "else:\n",
    "    print(\"NO\")"
   ]
  },
  {
   "cell_type": "markdown",
   "metadata": {},
   "source": [
    "Программа, которая преобразует введённую строку из горизонтальной записи в вертикальную.\n",
    "\n",
    "\n",
    "Формат ввода\n",
    "\n",
    "Одна строка.\n",
    "\n",
    "Формат вывода\n",
    "\n",
    "Вертикальное представление введённой строки."
   ]
  },
  {
   "cell_type": "code",
   "execution_count": null,
   "metadata": {},
   "outputs": [],
   "source": [
    "# b решена\n",
    "a = str(input())\n",
    "for letter in a:\n",
    "    print(letter)"
   ]
  },
  {
   "cell_type": "markdown",
   "metadata": {},
   "source": [
    "Напишите программу, которая сокращает длинные заголовки до требуемой длины и завершает их многоточием ... при необходимости.\n",
    "\n",
    "Формат ввода\n",
    "\n",
    "Вводится натуральное число A — необходимая длина заголовка.\n",
    "Вводится натуральное число B — количество заголовков, которые требуется сократить.\n",
    "В каждой из последующих B строк записано по одному заголовку.\n",
    "\n",
    "Формат вывода\n",
    "\n",
    "Сокращённые заголовки."
   ]
  },
  {
   "cell_type": "code",
   "execution_count": null,
   "metadata": {},
   "outputs": [],
   "source": [
    "# С Решена\n",
    "a = int(input())\n",
    "b = int(input())\n",
    "for i in range(b):\n",
    "    c = str(input())\n",
    "    if len(c) > a:\n",
    "        c = c[:a - 3]\n",
    "        d = c.ljust(a, \".\")\n",
    "        print(d)\n",
    "    else:\n",
    "        print(c)"
   ]
  },
  {
   "cell_type": "markdown",
   "metadata": {},
   "source": [
    "Напишите программу, которая избавляется от:\n",
    "\n",
    "Двух символов # в начале информационных сообщений;\n",
    "Строк, заканчивающихся тремя символами @\n",
    "\n",
    "Формат ввода\n",
    "\n",
    "\n",
    "Вводятся строки отчёта. Признаком завершения ввода считается пустая строка.\n",
    "\n",
    "Формат вывода\n",
    "\n",
    "\n",
    "Очищенные данные."
   ]
  },
  {
   "cell_type": "code",
   "execution_count": null,
   "metadata": {},
   "outputs": [],
   "source": [
    "# D Решена\n",
    "while (a := str(input())) != \"\":\n",
    "    if a.endswith(\"@@@\") is True:\n",
    "        pass\n",
    "    elif a.startswith(\"##\") is True:\n",
    "        print(a[2:])\n",
    "    else:\n",
    "        print(a)"
   ]
  },
  {
   "cell_type": "markdown",
   "metadata": {},
   "source": [
    "Напишите программу, которая определяет, относится ли введённая строка к палиндромам.\n",
    "\n",
    "Формат ввода\n",
    "Вводится строка.\n",
    "\n",
    "\n",
    "Формат вывода\n",
    "Требуется вывести YES — если введенная строка является палиндромом, иначе – NO."
   ]
  },
  {
   "cell_type": "code",
   "execution_count": null,
   "metadata": {},
   "outputs": [],
   "source": [
    "# E Решена\n",
    "a = str(input())\n",
    "b = []\n",
    "c = []\n",
    "for letter in a:\n",
    "    b = b + [letter]\n",
    "c = b.copy()\n",
    "c.reverse()\n",
    "k = 0\n",
    "for i in range(len(b)):\n",
    "    if c[i] == b[i]:\n",
    "        k += 1\n",
    "    else:\n",
    "        pass\n",
    "if k == len(b):\n",
    "    print(\"YES\")\n",
    "else:\n",
    "    print(\"NO\")"
   ]
  },
  {
   "cell_type": "markdown",
   "metadata": {},
   "source": [
    "Давайте поиграем и найдём заек.\n",
    "\n",
    "Формат ввода\n",
    "В первой строке записано натуральное число \n",
    "a — количество выделенных придорожных местностей.\n",
    "В каждой из a последующих строк записано описание придорожной местности.\n",
    "\n",
    "\n",
    "Формат вывода\n",
    "Количество заек."
   ]
  },
  {
   "cell_type": "code",
   "execution_count": null,
   "metadata": {},
   "outputs": [],
   "source": [
    "# F Рещена\n",
    "a = int(input())\n",
    "k = int(0)\n",
    "for i in range(a):\n",
    "    if (b := str(input()).count(\"зайка\")) != 0:\n",
    "        k = k + b\n",
    "    else:\n",
    "        pass\n",
    "print(k)"
   ]
  },
  {
   "cell_type": "markdown",
   "metadata": {},
   "source": [
    "Формат ввода\n",
    "Два целых числа, разделённые пробелом.\n",
    "\n",
    "\n",
    "Формат вывода\n",
    "Одно целое число — сумма переданных чисел."
   ]
  },
  {
   "cell_type": "code",
   "execution_count": null,
   "metadata": {},
   "outputs": [],
   "source": [
    "# G Решена\n",
    "a = input()\n",
    "a = a.split()\n",
    "a = int(a[0]) + int(a[1])\n",
    "print(a)"
   ]
  },
  {
   "cell_type": "markdown",
   "metadata": {},
   "source": [
    "Формат ввода\n",
    "\n",
    "В первой строке записано натуральное число a — количество выделенных придорожных местностей.\n",
    "В каждой из a последующих строк записано описание придорожной местности.\n",
    "\n",
    "\n",
    "Формат вывода\n",
    "\n",
    "Для каждой строки нужно найти положение первого зайки.\n",
    "Если в строке нет заек, то об этом нужно непременно сообщить.\n",
    "\n",
    "\n",
    "Примечание\n",
    "\n",
    "Для символов в строках используйте нумерацию с 1."
   ]
  },
  {
   "cell_type": "code",
   "execution_count": null,
   "metadata": {},
   "outputs": [],
   "source": [
    "# H решена\n",
    "a = int(input())\n",
    "for i in range(a):\n",
    "    b = str(input())\n",
    "    if b.find(\"зайка\") != -1:\n",
    "        print(b.find('зайка') + 1)\n",
    "    else:\n",
    "        print(\"Заек нет =(\")"
   ]
  },
  {
   "cell_type": "markdown",
   "metadata": {},
   "source": [
    "Интерпретатор удаляет комменатрии перед тем, как выполнить код. \n",
    "Напишите программу, которая выполняет данную функцию за интерпретатор.\n",
    "\n",
    "\n",
    "Формат ввода\n",
    "\n",
    "Вводятся строки программы.\n",
    "Признаком остановки является пустая строка.\n",
    "\n",
    "\n",
    "Формат вывода\n",
    "\n",
    "Каждую строку нужно очистить от комментариев.\n",
    "А если комментарий — вся строка, то выводить её не надо."
   ]
  },
  {
   "cell_type": "code",
   "execution_count": null,
   "metadata": {},
   "outputs": [],
   "source": [
    "# i решена\n",
    "while (a := str(input())) != \"\":\n",
    "    if a.startswith(\"#\"):\n",
    "        pass\n",
    "    elif a.find(\"#\") != -1:\n",
    "        while a.find(\"#\") != -1:\n",
    "            b = a.find(\"#\")\n",
    "            a = a[:b]\n",
    "        print(a)\n",
    "    else:\n",
    "        print(a)"
   ]
  },
  {
   "cell_type": "markdown",
   "metadata": {},
   "source": [
    "Выполним простой частотный анализ: выясним, какой символ встречается в тексте чаще всего.\n",
    "\n",
    "\n",
    "Формат ввода\n",
    "\n",
    "Вводятся строки, пока не будет введена строка «ФИНИШ».\n",
    "\n",
    "\n",
    "Формат вывода\n",
    "\n",
    "\n",
    "Выводится один символ в нижнем регистре — наиболее часто встречающийся.\n",
    "\n",
    "\n",
    "Примечания\n",
    "\n",
    "Пробелы в анализе не участвуют.\n",
    "Если в результате анализа получено несколько ответов, следует вывести первый по алфавиту."
   ]
  },
  {
   "cell_type": "code",
   "execution_count": null,
   "metadata": {},
   "outputs": [],
   "source": [
    "# J Решена\n",
    "b = \"\"\n",
    "c = []\n",
    "k = 0\n",
    "z = 0\n",
    "znach = \"\"\n",
    "while (a := str(input())) != \"ФИНИШ\":\n",
    "    a = a.lower() #все буквы в словах переводятся в нижний регистр и там уже сравниваются\n",
    "    while a.find(\" \") != -1: # убираются пробелы в строках\n",
    "        a = a[:a.find(\" \")] + a[a.find(\" \") + 1:]\n",
    "    b = b + a\n",
    "c = list(b)\n",
    "for i in range(len(c)):\n",
    "    k = c.count(c[i]) # ищится число каждой буквы в словах \n",
    "    if  k > z:\n",
    "        z = k\n",
    "        znach = c[i]\n",
    "    elif k == z:\n",
    "        if znach > c[i]:\n",
    "            znach = c[i]\n",
    "print(znach)"
   ]
  },
  {
   "cell_type": "markdown",
   "metadata": {},
   "source": [
    "Формат ввода\n",
    "\n",
    "\n",
    "Вводится натуральное число a — количество страниц, среди которых требуется произвести поиск.\n",
    "В каждой из последующих a строк записаны заголовки страниц.\n",
    "В последней строке записан поисковый запрос.\n",
    "\n",
    "\n",
    "Формат вывода\n",
    "\n",
    "\n",
    "\n",
    "Вывести все заголовки страниц, в которых присутствует поисковый запрос (регистр не имеет значения).\n",
    "Порядок заголовков должен сохраниться."
   ]
  },
  {
   "cell_type": "code",
   "execution_count": null,
   "metadata": {},
   "outputs": [],
   "source": [
    "# k Решена\n",
    "a = int(input())\n",
    "b = []\n",
    "for i in range(a):\n",
    "    c = str(input())\n",
    "    b.append(c)\n",
    "c = str(input()).lower()\n",
    "for q in range(len(b)):\n",
    "    d = str(b[q]).lower()\n",
    "    if d.find(c) != -1:\n",
    "        print(b[q])\n",
    "    else:\n",
    "        pass"
   ]
  },
  {
   "cell_type": "markdown",
   "metadata": {},
   "source": [
    "В детском саду ежедневно подают новую кашу на завтрак.\n",
    "Каши чередуются в следующем порядке:\n",
    "\n",
    "Манная;\n",
    "Гречневая;\n",
    "Пшённая;\n",
    "Овсяная;\n",
    "Рисовая.\n",
    "Напишите программу, которая строит расписание каш на ближайшие дни\n",
    "\n",
    "\n",
    "Формат ввода\n",
    "\n",
    "Вводится натуральное число a — количество дней.\n",
    "\n",
    "\n",
    "Формат вывода\n",
    "\n",
    "Вывести список каш в порядке подачи."
   ]
  },
  {
   "cell_type": "code",
   "execution_count": null,
   "metadata": {},
   "outputs": [],
   "source": [
    "# L Решена\n",
    "a = [\"Манная\", \"Гречневая\", \"Пшённая\", \"Овсяная\", \"Рисовая\"]\n",
    "b = int(input())\n",
    "c = 0\n",
    "while b != 0:\n",
    "    print(a[c])\n",
    "    c += 1\n",
    "    b -= 1\n",
    "    if c == len(a):\n",
    "        c = 0"
   ]
  },
  {
   "cell_type": "markdown",
   "metadata": {},
   "source": [
    "Напишите программу, которая возводит в заданную степень все числа, что передали пользователи.\n",
    "\n",
    "\n",
    "Формат ввода\n",
    "\n",
    "Вводится натуральное число a — количество чисел.\n",
    "В каждой из последующих a строк записано по одному числу.\n",
    "В последней строке записано натуральное число c — степень, в которую требуется возвести числа.\n",
    "\n",
    "\n",
    "Формат вывода\n",
    "\n",
    "Последовательность чисел, являющихся ответом."
   ]
  },
  {
   "cell_type": "code",
   "execution_count": null,
   "metadata": {},
   "outputs": [],
   "source": [
    "# M решена\n",
    "a = int(input())\n",
    "b = []\n",
    "for i in range(a):\n",
    "    b.append(int(input()))\n",
    "c = int(input())\n",
    "for d in range(len(b)):\n",
    "    print(b[d] ** c)"
   ]
  },
  {
   "cell_type": "markdown",
   "metadata": {},
   "source": [
    "Создадим новую программу, которая возводит в заданную степень все числа, переданные пользователем.\n",
    "\n",
    "Формат ввода\n",
    "\n",
    "В первой строке записана последовательность натуральных чисел, разделённых пробелами (a)\n",
    "Во второй строке записано натуральное число c — степень, в которую требуется возвести числа.\n",
    "\n",
    "Формат вывода\n",
    "\n",
    "Последовательность чисел, являющихся ответом.\n",
    "Числа вывести в одну строку через пробел."
   ]
  },
  {
   "cell_type": "code",
   "execution_count": null,
   "metadata": {},
   "outputs": [],
   "source": [
    "# N Решена\n",
    "a = str(input())\n",
    "a = a.split()\n",
    "b = ''\n",
    "c = int(input())\n",
    "for i in range(len(a)):\n",
    "    b = b + \" \" + str(int(a[i]) ** c)\n",
    "print(b[1:])"
   ]
  },
  {
   "cell_type": "markdown",
   "metadata": {},
   "source": [
    "Формат ввода\n",
    "\n",
    "В единственной строке записывается последовательность натуральных чисел, разделённых пробелами.\n",
    "\n",
    "Формат вывода\n",
    "\n",
    "Требуется вывести одно натуральное число — НОД всех данных чисел.\n",
    "\n",
    "Примечание\n",
    "\n",
    "Самый распространенный способ поиска НОД — Алгоритм Эвклида."
   ]
  },
  {
   "cell_type": "code",
   "execution_count": null,
   "metadata": {},
   "outputs": [],
   "source": [
    "# O Решена\n",
    "chislo = str(input())\n",
    "chislo = chislo.split()\n",
    "z = len(chislo)\n",
    "a = int(chislo[0])\n",
    "k = 0\n",
    "for i in range(z - 1):\n",
    "    b = int(chislo[i + 1])\n",
    "    if a > b:\n",
    "        while a % b != 0:\n",
    "            k = b\n",
    "            b = a % b\n",
    "            a = k\n",
    "        a = b\n",
    "    else:\n",
    "        while b % a != 0:\n",
    "            k = a\n",
    "            a = b % a\n",
    "            b = k\n",
    "        a = a\n",
    "print(a)"
   ]
  },
  {
   "cell_type": "markdown",
   "metadata": {},
   "source": [
    "Формат ввода\n",
    "\n",
    "Вводится натуральное число a — необходимая длина заголовка.\n",
    "Вводится натуральное число b — количество строк в заголовке новости.\n",
    "В каждой из последующих N строк записано по одной строке заголовка.(d)\n",
    "\n",
    "Формат вывода\n",
    "\n",
    "Сокращённый заголовок.\n",
    "\n",
    "Примечание\n",
    "\n",
    "Многоточие учитывается при подсчёте длины заголовка.\n",
    "Символ перевода строки при подсчёте длины не учитывается."
   ]
  },
  {
   "cell_type": "code",
   "execution_count": null,
   "metadata": {},
   "outputs": [],
   "source": [
    "# P решена\n",
    "a = int(input())\n",
    "b = int(input())\n",
    "c = []\n",
    "for i in range(b):\n",
    "    d = str(input())\n",
    "    if a > len(d) + 3:\n",
    "        c.append(d)\n",
    "        a = a - len(d)\n",
    "    elif a == 0:\n",
    "        pass\n",
    "    else:\n",
    "        d = d[:a - 3] + \"...\"\n",
    "        a = 0\n",
    "        c.append(d)\n",
    "for e in range(len(c)):\n",
    "    print(c[e])"
   ]
  },
  {
   "cell_type": "markdown",
   "metadata": {},
   "source": [
    "И снова напишем программу, которая определяет, палиндромом перед нами или нет.\n",
    "\n",
    "Формат ввода\n",
    "\n",
    "Вводится строка.\n",
    "\n",
    "Формат вывода\n",
    "\n",
    "Если введённая строка относится к палиндрому, то вывести YES, а иначе — NO.\n",
    "\n",
    "Примечание\n",
    "\n",
    "При проверке не обращайте внимания на регистр и пробелы."
   ]
  },
  {
   "cell_type": "code",
   "execution_count": null,
   "metadata": {},
   "outputs": [],
   "source": [
    "# Q Решена\n",
    "a = str(input())\n",
    "a = a.lower()\n",
    "a = a.split()\n",
    "b = \"\"\n",
    "c = \"\"\n",
    "k = -1\n",
    "for i in range(len(a)):\n",
    "    b = b + str(a[i])\n",
    "for e in range(len(b)):\n",
    "    c = c + str(b[k])\n",
    "    k += -1\n",
    "if b == c:\n",
    "    print(\"YES\")\n",
    "else:\n",
    "    print(\"NO\")"
   ]
  },
  {
   "cell_type": "markdown",
   "metadata": {},
   "source": [
    "RLE\n",
    "При нём для подряд идущей группы одинаковых цифр (run) записываются сама эта цифра и длина этой группы (run length). Таким образом, 99999 превратится в 9 5 («девять пять раз») и так далее.\n",
    "Напишите программу, которая кодирует строку цифр в RLE.\n",
    "\n",
    "Формат ввода\n",
    "\n",
    "Строка цифр длиной не меньше 1.\n",
    "\n",
    "Формат вывода\n",
    "\n",
    "Пары: сама цифра и количество повторений цифры подряд во введённой строке, как описано в условии и показано в примере."
   ]
  },
  {
   "cell_type": "code",
   "execution_count": null,
   "metadata": {},
   "outputs": [],
   "source": [
    "# R Решено\n",
    "a = str(input())\n",
    "b = a[0]\n",
    "k = 0\n",
    "for i in range(len(a)):\n",
    "    if b == a[i]:\n",
    "        k += 1\n",
    "    else:\n",
    "        print(f\"{b} {k}\")\n",
    "        k = 1\n",
    "        b = a[i]\n",
    "print(f\"{b} {k}\")"
   ]
  },
  {
   "cell_type": "markdown",
   "metadata": {},
   "source": [
    "Напишите программу, которая производит вычисление выражения, записанного в обратной польской нотации (ОПН).\n",
    "\n",
    "В ОПН нет ни скобок, ни приоритета операторов («умножение раньше сложения»).\n",
    "\n",
    "Чтобы прочитать выражение, записанное в таком формате, нужно просматривать выражение строго последовательно. Вводимые значения последовательно добавляются в стек. Когда встречается символ операции, то из стека извлекаются последние положенные туда значения, с ними проделывается эта операция и результат возвращается в стек.\n",
    "\n",
    "Если для операции важен порядок значений, с которыми она производится, то первым идёт число, лежавшее в стеке глубже. В частности, если операция — вычитание, то из предпоследнего числа в стеке вычитается последнее, а не наоборот.\n",
    "Изначально стек пустой, в результате полного вычисления выражения в нём должно остаться одно значение — результат вычислений.\n",
    "\n",
    "Первый пример следует читать так: в стек последовательно добавляются значения 7 2 3, а затем встречаем знак операции *. Тогда значения 2 и 3 извлекаются, перемножаются, результат 6 кладётся обратно в стек. Следующий знак извлекает из стека два оставшихся в нём значения 7 и 6, вычитает одно из другого и кладёт результат снова в стек. Выражение закончилось, в стеке одно число — 1, это и есть результат вычисления.\n",
    "\n",
    "Формат ввода\n",
    "\n",
    "Вводится одна строка, содержащая разделённые пробелами целые числа и знаки операций +, -, *, которые вместе составляют корректное выражение в обратной польской нотации.\n",
    "\n",
    "Формат вывода\n",
    "\n",
    "Выводится одно целое число — результат вычисления выражения."
   ]
  },
  {
   "cell_type": "code",
   "execution_count": null,
   "metadata": {},
   "outputs": [],
   "source": [
    "# S Решена\n",
    "a = str(input())\n",
    "a = a.split()\n",
    "b = 0\n",
    "while len(a) != 1:\n",
    "    if a[b] == \"*\":\n",
    "        a[b] = str(int(a[b - 2]) * int(a[b - 1]))\n",
    "        del a[b - 2:b]\n",
    "        b = 0\n",
    "    elif a[b] == \"-\":\n",
    "        a[b] = str(int(a[b - 2]) - int(a[b - 1]))\n",
    "        del a[b - 2:b]\n",
    "        b = 0\n",
    "    elif a[b] == \"+\":\n",
    "        a[b] = str(int(a[b - 2]) + int(a[b - 1]))\n",
    "        del a[b - 2:b]\n",
    "        b = 0\n",
    "    else:\n",
    "        b += 1\n",
    "print(a[0])\n"
   ]
  },
  {
   "cell_type": "code",
   "execution_count": null,
   "metadata": {},
   "outputs": [],
   "source": [
    "# T не решена\n",
    "a = str(input())\n",
    "a = a.split()\n",
    "b = 0\n",
    "\n",
    "\n",
    "def fac(n):\n",
    "    if n == 0:\n",
    "        return 1\n",
    "    return fac(n - 1) * n\n",
    "\n",
    "\n",
    "while len(a) != 1:\n",
    "    if a[b] == \"*\":\n",
    "        a[b] = str(int(a[b - 2]) * int(a[b - 1]))\n",
    "        del a[b - 2:b]\n",
    "        b = 0\n",
    "    elif a[b] == \"-\":\n",
    "        a[b] = str(int(a[b - 2]) - int(a[b - 1]))\n",
    "        del a[b - 2:b]\n",
    "        b = 0\n",
    "    elif a[b] == \"+\":\n",
    "        a[b] = str(int(a[b - 2]) + int(a[b - 1]))\n",
    "        del a[b - 2:b]\n",
    "        b = 0\n",
    "    elif a[b] == \"/\":\n",
    "        a[b] = str(int(a[b - 2]) // int(a[b - 1]))\n",
    "        del a[b - 2:b]\n",
    "        b = 0\n",
    "    elif a[b] == \"~\":\n",
    "        a[b - 1] = str(int(\"-\" + a[b - 1]))\n",
    "        del a[b]\n",
    "        b = 0\n",
    "    elif a[b] == \"!\":\n",
    "        z = fac(int(a[b - 1]))\n",
    "        a[b - 1] = str(z)\n",
    "        del a[b]\n",
    "        b = 0\n",
    "    elif a[b] == \"#\":\n",
    "        a[b] = str(a[b - 1])\n",
    "        b = 0\n",
    "    elif a[b] == \"@\":\n",
    "        m = a[b - 1]\n",
    "        a[b - 1] = a[b - 3]\n",
    "        a[b - 3] = a[b - 2]\n",
    "        a[b - 2] = m\n",
    "        del a[b]\n",
    "        b = 0\n",
    "    else:\n",
    "        b += 1\n",
    "print(int(a[0]))"
   ]
  },
  {
   "cell_type": "code",
   "execution_count": null,
   "metadata": {},
   "outputs": [],
   "source": [
    "a = \"01234\"\n",
    "for i in range(1, 9):\n",
    "    print(i)"
   ]
  },
  {
   "cell_type": "code",
   "execution_count": null,
   "metadata": {},
   "outputs": [],
   "source": [
    "polskiu = []\n",
    " \n",
    " \n",
    "def fac(n):\n",
    "    if n == 0:\n",
    "        return 1\n",
    "    return fac(n - 1) * n\n",
    " \n",
    " \n",
    "s = input().split()\n",
    "for x in s:\n",
    "    if x == '+':\n",
    "        g = polskiu.pop()\n",
    "        z = polskiu.pop()\n",
    "        polskiu.append(g + z)\n",
    "    elif x == '-':\n",
    "        g = polskiu.pop()\n",
    "        z = polskiu.pop()\n",
    "        polskiu.append(z - g)\n",
    "    elif x == '*':\n",
    "        g = polskiu.pop()\n",
    "        z = polskiu.pop()\n",
    "        polskiu.append(g * z)\n",
    "    elif x == '#':\n",
    "        polskiu.append(polskiu[-1])\n",
    "    elif x == '@':\n",
    "        polskiu.append(polskiu[-2])\n",
    "        polskiu.append(polskiu[-2])\n",
    "        polskiu.append(polskiu[-5])\n",
    "        del polskiu[-4]\n",
    "        del polskiu[-4]\n",
    "        del polskiu[-4]\n",
    "    elif x == '/':\n",
    "        g = polskiu.pop()\n",
    "        z = polskiu.pop()\n",
    "        polskiu.append(z // g)\n",
    "    elif x == '~':\n",
    "        g = polskiu.pop()\n",
    "        polskiu.append(-g)\n",
    "    elif x == '!':\n",
    "        g = polskiu.pop()\n",
    "        polskiu.append(fac(g))\n",
    "    else:\n",
    "        polskiu.append(int(x))\n",
    "print(polskiu[0])"
   ]
  },
  {
   "cell_type": "code",
   "execution_count": null,
   "metadata": {},
   "outputs": [],
   "source": [
    "s = [1, 2, 3]\n",
    "c = s.copy()\n",
    "print(c)"
   ]
  },
  {
   "cell_type": "code",
   "execution_count": null,
   "metadata": {},
   "outputs": [],
   "source": [
    "\n",
    "text = input()\n",
    "for i, letter in enumerate(text):\n",
    "    print(i, letter)"
   ]
  },
  {
   "cell_type": "code",
   "execution_count": null,
   "metadata": {},
   "outputs": [],
   "source": [
    "text = \"Привет, мир!\"\n",
    "print(text[:-2:-1])\n",
    "print(text[:6])\n",
    "print(text[8:])\n",
    "print(text[:])\n",
    "print(text[::2])"
   ]
  },
  {
   "cell_type": "code",
   "execution_count": null,
   "metadata": {},
   "outputs": [],
   "source": [
    "word = \"мир\"\n",
    "word[0] = \"п\""
   ]
  },
  {
   "cell_type": "code",
   "execution_count": null,
   "metadata": {},
   "outputs": [],
   "source": [
    "text = 'приЫФВФЫВФЫВФЫВ'\n",
    "text = list(text)\n",
    "print(text)"
   ]
  },
  {
   "cell_type": "code",
   "execution_count": null,
   "metadata": {},
   "outputs": [],
   "source": [
    "a = [\"1\", \"2\", \"3\"]\n",
    "b = \"1, 2, 3, 4, 5\"\n",
    "c = ('1', '2', '3')\n",
    "a.append(\"123\")\n",
    "print(\"1\" not in a)"
   ]
  },
  {
   "cell_type": "code",
   "execution_count": null,
   "metadata": {},
   "outputs": [],
   "source": [
    "text = \"Привет, мир!\"\n",
    "list_symbols = list(text)\n",
    "tuple_symbols = tuple(text)\n",
    "text_from_list = str(list_symbols)\n",
    "print(list_symbols)\n",
    "print(tuple_symbols)\n",
    "print(text_from_list)"
   ]
  },
  {
   "cell_type": "code",
   "execution_count": null,
   "metadata": {},
   "outputs": [],
   "source": [
    "text = [1, 2, 3]\n",
    "for i, letter in enumerate(text):\n",
    "    print(i, letter)"
   ]
  },
  {
   "cell_type": "code",
   "execution_count": null,
   "metadata": {},
   "outputs": [],
   "source": [
    "# A решена\n",
    "\n",
    "for i in range(int(input())):\n",
    "    if str(input()).startswith(('а', 'б', 'в')):\n",
    "        pass\n",
    "    else:\n",
    "        print('NO')\n",
    "        break\n",
    "else:\n",
    "    print(\"YES\")"
   ]
  },
  {
   "cell_type": "code",
   "execution_count": null,
   "metadata": {},
   "outputs": [],
   "source": [
    "# B решена\n",
    "\n",
    "for i in str(input()):\n",
    "    print(i)"
   ]
  },
  {
   "cell_type": "code",
   "execution_count": null,
   "metadata": {},
   "outputs": [],
   "source": [
    "# C решена\n",
    "\n",
    "length = int(input())\n",
    "for i in range(int(input())):\n",
    "    text = str(input())\n",
    "    if len(text) > length:\n",
    "        text = text[:length - 3] + \"...\"\n",
    "    print(text)"
   ]
  },
  {
   "cell_type": "code",
   "execution_count": null,
   "metadata": {},
   "outputs": [],
   "source": [
    "# D решена\n",
    "\n",
    "while (text := str(input())) != '':\n",
    "    if not text.endswith('@@@'):\n",
    "        print(text.lstrip('#'))"
   ]
  },
  {
   "cell_type": "code",
   "execution_count": null,
   "metadata": {},
   "outputs": [],
   "source": [
    "# E решена\n",
    "\n",
    "if (text := str(input())) == text[::-1]:\n",
    "    print('YES')\n",
    "else:\n",
    "    print('NO')"
   ]
  },
  {
   "cell_type": "code",
   "execution_count": null,
   "metadata": {},
   "outputs": [],
   "source": [
    "# F решена\n",
    "\n",
    "counted = 0\n",
    "for i in range(int(input())):\n",
    "    counted += str(input()).count('зайка')\n",
    "print(counted)    "
   ]
  },
  {
   "cell_type": "code",
   "execution_count": null,
   "metadata": {},
   "outputs": [],
   "source": [
    "# G решена\n",
    "\n",
    "print(sum([int(q) for q in (str(input())).split()]))"
   ]
  },
  {
   "cell_type": "code",
   "execution_count": null,
   "metadata": {},
   "outputs": [],
   "source": [
    "# H решена\n",
    "\n",
    "for i in range(int(input())):\n",
    "    if (text := str(input())).find('зайка') == -1:\n",
    "        print('Заек нет =(')\n",
    "    else:\n",
    "        print(text.find('зайка') + 1)"
   ]
  },
  {
   "cell_type": "code",
   "execution_count": null,
   "metadata": {},
   "outputs": [],
   "source": [
    "# I решена\n",
    "\n",
    "while (text := str(input())) != '':\n",
    "    if not text.split('#')[0] == '':\n",
    "        if not text.split('#')[0].strip() == '':\n",
    "            print(text.split('#')[0])"
   ]
  },
  {
   "cell_type": "code",
   "execution_count": null,
   "metadata": {},
   "outputs": [],
   "source": [
    "# J решена\n",
    "\n",
    "group = {}\n",
    "all_list = []\n",
    "words = []\n",
    "while (text := str(input())) != \"ФИНИШ\":\n",
    "    all_list += text.lower().split()\n",
    "for i in all_list:\n",
    "    for j in i:\n",
    "        words.append(j)\n",
    "group = set(words)\n",
    "counted = 0\n",
    "word = ''\n",
    "for i in group:\n",
    "    if words.count(i) > counted:\n",
    "        counted = words.count(i)\n",
    "        word = i\n",
    "print(word)"
   ]
  },
  {
   "cell_type": "code",
   "execution_count": null,
   "metadata": {},
   "outputs": [],
   "source": [
    "# K решена\n",
    "\n",
    "listing = []\n",
    "for i in range(int(input())):\n",
    "    listing.append(str(input()))\n",
    "text = str(input())\n",
    "for j in listing:\n",
    "    if (j.lower()).find(text.lower()) != -1:\n",
    "        print(j)"
   ]
  },
  {
   "cell_type": "code",
   "execution_count": null,
   "metadata": {},
   "outputs": [],
   "source": [
    "# L решена\n",
    "\n",
    "listing = [\"Манная\", \"Гречневая\", \"Пшённая\", \"Овсяная\", \"Рисовая\"]\n",
    "k = 0\n",
    "number = int(input())\n",
    "while number != k:\n",
    "    for j in listing:\n",
    "        if k == number:\n",
    "            break\n",
    "        else:\n",
    "            if j != listing[-1]:\n",
    "                print(j)\n",
    "                k += 1\n",
    "            else:\n",
    "                print(j)\n",
    "                k += 1\n",
    "                break"
   ]
  },
  {
   "cell_type": "code",
   "execution_count": null,
   "metadata": {},
   "outputs": [],
   "source": [
    "# M решена\n",
    "\n",
    "listing = []\n",
    "for i in range(int(input())):\n",
    "    listing.append(int(input()))\n",
    "degree = int(input())\n",
    "for j in listing:\n",
    "    print(j ** degree)"
   ]
  },
  {
   "cell_type": "code",
   "execution_count": null,
   "metadata": {},
   "outputs": [],
   "source": [
    "# N решена\n",
    "\n",
    "listing = [int(q) for q in str(input()).split()]\n",
    "degree = int(input())\n",
    "print(\" \".join([str(q ** degree) for q in listing]))"
   ]
  },
  {
   "cell_type": "code",
   "execution_count": null,
   "metadata": {},
   "outputs": [],
   "source": [
    "# O решена\n",
    "\n",
    "number = [int(q) for q in str(input()).split()]\n",
    "z = len(number)\n",
    "a = number[0]\n",
    "k = 0\n",
    "for i in range(z - 1):\n",
    "    b = number[i + 1]\n",
    "    if a > b:\n",
    "        while a % b != 0:\n",
    "            k = b\n",
    "            b = a % b\n",
    "            a = k\n",
    "        a = b\n",
    "    else:\n",
    "        while b % a != 0:\n",
    "            k = a\n",
    "            a = b % a\n",
    "            b = k\n",
    "        a = a\n",
    "print(a)"
   ]
  },
  {
   "cell_type": "code",
   "execution_count": 70,
   "metadata": {},
   "outputs": [
    {
     "name": "stdout",
     "output_type": "stream",
     "text": [
      "Приветандр\n"
     ]
    }
   ],
   "source": [
    "# P решена\n",
    "\n",
    "length = int(input())\n",
    "strings = int(input())\n",
    "listing = []\n",
    "flag = False\n",
    "for j in range(strings):\n",
    "    listing.append(str(input()))\n",
    "for i in range(strings):\n",
    "    if flag is not True:\n",
    "        if len(listing[i] + '...') < length:\n",
    "            print(listing[i])\n",
    "            length = length - len(listing[i])\n",
    "        else:\n",
    "            if flag is False:\n",
    "                print(listing[i][:length - 3] + \"...\")\n",
    "                flag = True\n",
    "            else:\n",
    "                continue\n",
    "    else:\n",
    "        continue"
   ]
  },
  {
   "cell_type": "code",
   "execution_count": 53,
   "metadata": {},
   "outputs": [
    {
     "name": "stdout",
     "output_type": "stream",
     "text": [
      "97\n",
      "47\n",
      "45\n",
      "47\n",
      "___\n",
      "97\n",
      "45\n",
      "24\n",
      "21\n"
     ]
    }
   ],
   "source": [
    "print(len('Энтузиаст написал программу для управления громкостью с помощью жестов, чтоб не вставать с дивана'))\n",
    "print(len('Благодаря ей он может регулировать громкость...'))\n",
    "print(len('Благодаря ей он может регулировать громкость,'))\n",
    "\n",
    "print(144-97)\n",
    "print('___')\n",
    "\n",
    "print(len('Энтузиаст написал программу для управления громкостью с помощью жестов, чтоб не вставать с дивана'))\n",
    "print(len('Благодаря ей он может регулировать громкость,'))\n",
    "print(len('Благодаря ей он может...'))\n",
    "print(len('Благодаря ей он может'))"
   ]
  },
  {
   "cell_type": "code",
   "execution_count": 75,
   "metadata": {},
   "outputs": [
    {
     "name": "stdout",
     "output_type": "stream",
     "text": [
      "Привета...\n"
     ]
    }
   ],
   "source": []
  },
  {
   "cell_type": "code",
   "execution_count": null,
   "metadata": {},
   "outputs": [],
   "source": []
  }
 ],
 "metadata": {
  "kernelspec": {
   "display_name": "Python 3",
   "language": "python",
   "name": "python3"
  },
  "language_info": {
   "codemirror_mode": {
    "name": "ipython",
    "version": 3
   },
   "file_extension": ".py",
   "mimetype": "text/x-python",
   "name": "python",
   "nbconvert_exporter": "python",
   "pygments_lexer": "ipython3",
   "version": "3.11.9"
  },
  "orig_nbformat": 4
 },
 "nbformat": 4,
 "nbformat_minor": 2
}
