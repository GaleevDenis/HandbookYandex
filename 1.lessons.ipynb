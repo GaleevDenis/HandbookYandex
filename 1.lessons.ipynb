{
 "cells": [
  {
   "cell_type": "code",
   "execution_count": 1,
   "metadata": {},
   "outputs": [
    {
     "name": "stdout",
     "output_type": "stream",
     "text": [
      "Привет, мир!\n",
      "Привет, мир!\n",
      "Привет, мир!\n",
      "Программа выводит фразу 'Привет, мир!'\n"
     ]
    }
   ],
   "source": [
    "print('Привет, мир!')\n",
    "print(\"Привет, мир!\")\n",
    "print(\"\"\"Привет, мир!\"\"\")\n",
    "print(\"Программа выводит фразу 'Привет, мир!'\")"
   ]
  },
  {
   "cell_type": "code",
   "execution_count": null,
   "metadata": {},
   "outputs": [],
   "source": [
    "phrase = input(\"Введите имя: \")\n",
    "print(f\"Добрый день,{phrase}.\")"
   ]
  },
  {
   "cell_type": "code",
   "execution_count": null,
   "metadata": {},
   "outputs": [],
   "source": [
    "print(\"\\\\\")\n",
    "print(\"Сложно\" + \"подчиненный\")\n",
    "print(\"-\" * 10)"
   ]
  },
  {
   "cell_type": "code",
   "execution_count": null,
   "metadata": {},
   "outputs": [],
   "source": [
    "n = 10\n",
    "pi = 3.10\n",
    "int_number = int(input())\n",
    "float_number = float(input())\n"
   ]
  },
  {
   "cell_type": "code",
   "execution_count": null,
   "metadata": {},
   "outputs": [],
   "source": [
    "print(1234 % 10)"
   ]
  },
  {
   "cell_type": "code",
   "execution_count": null,
   "metadata": {},
   "outputs": [],
   "source": [
    "user_name = input()\n",
    "print(\"Как Вас зовут?\\nПривет,\", user_name)"
   ]
  },
  {
   "cell_type": "code",
   "execution_count": null,
   "metadata": {},
   "outputs": [],
   "source": [
    "a = str(input())\n",
    "print(f\"{a}\\n\"*2,a, sep= \"\")"
   ]
  },
  {
   "cell_type": "code",
   "execution_count": null,
   "metadata": {},
   "outputs": [],
   "source": [
    "\n",
    "a = int(input())\n",
    "if a >=100:\n",
    "    print(int(a-(2.5*38)))"
   ]
  },
  {
   "cell_type": "code",
   "execution_count": null,
   "metadata": {},
   "outputs": [],
   "source": [
    "a = int(input())\n",
    "print(a - (2.5 * 38))"
   ]
  },
  {
   "cell_type": "code",
   "execution_count": null,
   "metadata": {},
   "outputs": [],
   "source": [
    "a = int(input())\n",
    "b = int(input())\n",
    "c = int(input())\n",
    "print(c - (a * b))"
   ]
  },
  {
   "cell_type": "code",
   "execution_count": null,
   "metadata": {},
   "outputs": [],
   "source": [
    "a = input()\n",
    "b = int(input())\n",
    "c = int(input())\n",
    "d = int(input())\n",
    "print(f\"Чек\\n\", f\"{a} - {c}кг - {b}руб/кг\\n\", f\"Итого: {b * c}руб\\n\", f\"Внесено: {d}руб\", sep=\"\")\n",
    "print(f\"Сдача: {d - (b * c)}руб\", sep=\"\")"
   ]
  },
  {
   "cell_type": "code",
   "execution_count": null,
   "metadata": {},
   "outputs": [],
   "source": [
    "a = int(input())\n",
    "print(\"Купи слона!\\n\" * (a - 1), \"Купи слона!\", sep=\"\")"
   ]
  },
  {
   "cell_type": "code",
   "execution_count": null,
   "metadata": {},
   "outputs": [],
   "source": [
    "n = int(input())\n",
    "m = int(input())\n",
    "k1 = int(input())\n",
    "k2 = int(input())\n"
   ]
  },
  {
   "cell_type": "code",
   "execution_count": null,
   "metadata": {},
   "outputs": [],
   "source": [
    "n = int(input())\n",
    "a = input()\n",
    "print(f'Я больше никогда не буду писать \"{a}\"!{end=\"\\n\"}' * n)"
   ]
  },
  {
   "cell_type": "code",
   "execution_count": null,
   "metadata": {},
   "outputs": [],
   "source": [
    "min = int(input())\n",
    "children = int(input())\n",
    "print(int((min / 2)*children))\n"
   ]
  },
  {
   "cell_type": "code",
   "execution_count": null,
   "metadata": {},
   "outputs": [],
   "source": [
    "name = input()\n",
    "number = str(input())\n",
    "print(f\"Группа №{number[0]}.\\n\", f\"{number[2]}. {name}.\\n\", f\"Шкафчик: {number}.\\n\", f\"Кроватка: {number[1]}.\\n\", sep=\"\")"
   ]
  },
  {
   "cell_type": "code",
   "execution_count": null,
   "metadata": {},
   "outputs": [],
   "source": [
    "a = str(input())\n",
    "print(f\"{a[1]}{a[0]}{a[3]}{a[2]}\")"
   ]
  },
  {
   "cell_type": "code",
   "execution_count": null,
   "metadata": {},
   "outputs": [],
   "source": [
    "a = str(input())\n",
    "b = str(input())\n",
    "k = \"\"\n",
    "if len(a) > len(b):\n",
    "    while len(a) != len(b):\n",
    "        b = \"0\" + b\n",
    "elif len(b) > len(a):\n",
    "    while len(a) != len(b):\n",
    "        a = \"0\" + a\n",
    "if len(a) == len(b):\n",
    "    for i in range(len(a)):\n",
    "        k = k + f\"{(int(a[i]) + int(b[i]))%10}\"\n",
    "    print(k)"
   ]
  },
  {
   "cell_type": "code",
   "execution_count": null,
   "metadata": {},
   "outputs": [],
   "source": [
    "a = int(input())\n",
    "b = int(input())\n",
    "print(b // a)\n",
    "print(b % a)"
   ]
  },
  {
   "cell_type": "code",
   "execution_count": null,
   "metadata": {},
   "outputs": [],
   "source": [
    "a = int(input())\n",
    "b = int(input())\n",
    "c = int(input())\n",
    "print((a + b + c) - (b - 1))"
   ]
  },
  {
   "cell_type": "code",
   "execution_count": null,
   "metadata": {},
   "outputs": [],
   "source": [
    "n = int(input()) # часы\n",
    "m = int(input()) # минуты\n",
    "t = int(input()) # минут на доставку\n",
    "d = 0\n",
    "k = 0\n",
    "d = (m + t) // 60\n",
    "k = (n + d) // 24\n",
    "n = (n + d) - (k * 24)\n",
    "d = (m + t) - (d * 60)\n",
    "n = str(n)\n",
    "d = str(d)\n",
    "if len(n) < 2:\n",
    "    n = \"0\" + n\n",
    "if len(d) < 2:\n",
    "    d = \"0\" + d\n",
    "print(f\"{n}:{d}\") # через сколько принесут еду"
   ]
  },
  {
   "cell_type": "code",
   "execution_count": null,
   "metadata": {},
   "outputs": [],
   "source": [
    "a = float(input())\n",
    "b = float(input())\n",
    "c = float(input())\n",
    "d = (b - a) / c\n",
    "d = str(d)\n",
    "k = d.find(\".\")\n",
    "k = d[k:]\n",
    "if len(k) < 3:\n",
    "    d = d + \"0\"     \n",
    "print(d)"
   ]
  },
  {
   "cell_type": "code",
   "execution_count": 27,
   "metadata": {},
   "outputs": [
    {
     "name": "stdout",
     "output_type": "stream",
     "text": [
      "136\n"
     ]
    }
   ],
   "source": [
    "a = int(input())\n",
    "b = int(input())\n",
    "c = str(b)\n",
    "d = 0\n",
    "for i in range(len(c)):\n",
    "    d = d + int(c[i]) * (2 ** (len(c) - 1 - i))\n",
    "print(a + d)"
   ]
  },
  {
   "cell_type": "code",
   "execution_count": null,
   "metadata": {},
   "outputs": [],
   "source": [
    "a = int(input()) # цена покупки, двоичное число\n",
    "b = int(input()) # номин купюры, десятичное число\n",
    "c = str(a)\n",
    "d = 0\n",
    "for i in range(len(c)):\n",
    "    d = d + int(c[i]) * (2 ** (len(c) - 1 - i))\n",
    "print(b - d)"
   ]
  },
  {
   "cell_type": "code",
   "execution_count": null,
   "metadata": {},
   "outputs": [],
   "source": [
    "a = input() # Название товара\n",
    "b = int(input()) # Цена товара\n",
    "c = int(input()) # Вес товара\n",
    "d = int(input()) # Кол-во денег у пользователя\n",
    "f = \" \"\n",
    "e = f\"Товар:{a}\"\n",
    "h = f\"Цена:{c}кг * {b}руб/кг\"\n",
    "h2 = f\"Итого:{c * b}руб\"\n",
    "h3 = f\"Внесено:{d}руб\"\n",
    "h4 = f\"Сдача:{d - (b * c)}руб\"\n",
    "print(\"================Чек================\")\n",
    "while len(e) != 35:\n",
    "    f = f + \" \"\n",
    "    e = f\"Товар:{f}{a}\"\n",
    "else:\n",
    "    f = \" \"\n",
    "while len(h) != 35:\n",
    "    f = f + \" \"\n",
    "    h = f\"Цена:{f}{c}кг * {b}руб/кг\"\n",
    "else:\n",
    "    f = \" \"\n",
    "while len(h2) != 35:\n",
    "    f = f + \" \"\n",
    "    h2 = f\"Итого:{f}{c * b}руб\"\n",
    "else:\n",
    "    f = \" \"\n",
    "while len(h3) != 35:\n",
    "    f = f + \" \"\n",
    "    h3 = f\"Внесено:{f}{d}руб\"\n",
    "else:\n",
    "    f = \" \"\n",
    "while len(h4) != 35:\n",
    "    f = f + \" \"\n",
    "    h4 = f\"Сдача:{f}{d - (b * c)}руб\"\n",
    "else:\n",
    "    f = \" \"\n",
    "print(e, h, h2, h3, h4, sep=\"\\n\")\n",
    "print(\"===================================\")"
   ]
  },
  {
   "cell_type": "code",
   "execution_count": 9,
   "metadata": {},
   "outputs": [
    {
     "name": "stdout",
     "output_type": "stream",
     "text": [
      "24 8\n"
     ]
    }
   ],
   "source": [
    "n = int(input()) # Общий вес котлет, в кг\n",
    "m = int(input()) # Цена за n кг\n",
    "x1 = int(input())  # Цена за первый вид котлет за кг\n",
    "x2 = int(input()) # Цена за второй вид котлет за кг\n",
    "r1 = 0\n",
    "r1 = int(((n * m) - (x2 * n)) / (x1 - x2))\n",
    "r2 = int(((x1 * n) - (n * m)) / (x1 - x2))\n",
    "print(r1, r2)"
   ]
  },
  {
   "cell_type": "code",
   "execution_count": 35,
   "metadata": {},
   "outputs": [
    {
     "name": "stdout",
     "output_type": "stream",
     "text": [
      "Число пи    3.141592653589793\n",
      "----------\n"
     ]
    }
   ],
   "source": [
    "import math\n",
    "\n",
    "print(f'Число пи {math.pi:20}')\n",
    "print(\"-\" * 10)"
   ]
  },
  {
   "cell_type": "code",
   "execution_count": 48,
   "metadata": {},
   "outputs": [
    {
     "name": "stdout",
     "output_type": "stream",
     "text": [
      "['3']\n"
     ]
    }
   ],
   "source": [
    "a = 3\n",
    "print(list(str(a)))"
   ]
  },
  {
   "cell_type": "code",
   "execution_count": 63,
   "metadata": {},
   "outputs": [
    {
     "name": "stdout",
     "output_type": "stream",
     "text": [
      "3\n"
     ]
    }
   ],
   "source": [
    "penultimate_digit = 1234 // 10 % 10\n",
    "print(penultimate_digit)"
   ]
  },
  {
   "cell_type": "code",
   "execution_count": 66,
   "metadata": {},
   "outputs": [
    {
     "name": "stdout",
     "output_type": "stream",
     "text": [
      "0xc\n"
     ]
    }
   ],
   "source": [
    "a = hex(12)\n",
    "print(a)"
   ]
  },
  {
   "cell_type": "code",
   "execution_count": 67,
   "metadata": {},
   "outputs": [
    {
     "name": "stdout",
     "output_type": "stream",
     "text": [
      "Привет, Яндекс!\n"
     ]
    }
   ],
   "source": [
    "# A решена\n",
    "\n",
    "print('Привет, Яндекс!')"
   ]
  },
  {
   "cell_type": "code",
   "execution_count": 69,
   "metadata": {},
   "outputs": [
    {
     "name": "stdout",
     "output_type": "stream",
     "text": [
      "Как вас зовут?\n",
      "Привет, Денис\n"
     ]
    }
   ],
   "source": [
    "# B решена\n",
    "\n",
    "print('Как вас зовут?')\n",
    "name = input()\n",
    "print('Привет,', name)"
   ]
  },
  {
   "cell_type": "code",
   "execution_count": 78,
   "metadata": {},
   "outputs": [
    {
     "name": "stdout",
     "output_type": "stream",
     "text": [
      "123\n",
      "123\n",
      "123\n",
      "\n"
     ]
    }
   ],
   "source": [
    "# C не решена\n",
    "\n",
    "string = input()\n",
    "print((string + '\\n') * 3)"
   ]
  },
  {
   "cell_type": "code",
   "execution_count": 80,
   "metadata": {},
   "outputs": [
    {
     "name": "stdout",
     "output_type": "stream",
     "text": [
      "5\n"
     ]
    }
   ],
   "source": [
    "# D решена\n",
    "\n",
    "price = int(38)\n",
    "weight = float(2.5)\n",
    "money = int(input())\n",
    "print(int(money - (weight * price)))"
   ]
  },
  {
   "cell_type": "code",
   "execution_count": 81,
   "metadata": {},
   "outputs": [
    {
     "name": "stdout",
     "output_type": "stream",
     "text": [
      "55\n"
     ]
    }
   ],
   "source": [
    "# E решена\n",
    "\n",
    "price = int(input())\n",
    "weight = int(input())\n",
    "money = int(input())\n",
    "\n",
    "print(money - (weight * price))"
   ]
  },
  {
   "cell_type": "code",
   "execution_count": 85,
   "metadata": {},
   "outputs": [
    {
     "name": "stdout",
     "output_type": "stream",
     "text": [
      "Чек\n",
      "черешня - 3кг - 2руб/кг\n",
      "Итого: 6руб\n",
      "Внесено: 10\n",
      "Сдача: 4руб\n"
     ]
    }
   ],
   "source": [
    "# F решена\n",
    "\n",
    "name = str(input())\n",
    "price = int(input())\n",
    "weight = int(input())\n",
    "money = int(input())\n",
    "print(\n",
    "    \"Чек\",\n",
    "    f\"{name} - {weight}кг - {price}руб/кг\",\n",
    "    f\"Итого: {price * weight}руб\",\n",
    "    f\"Внесено: {money}руб\",\n",
    "    f\"Сдача: {money - (price * weight)}руб\",\n",
    "    sep=\"\\n\",\n",
    ")"
   ]
  },
  {
   "cell_type": "code",
   "execution_count": 86,
   "metadata": {},
   "outputs": [
    {
     "name": "stdout",
     "output_type": "stream",
     "text": [
      "Купи слона!\n",
      "Купи слона!\n",
      "\n"
     ]
    }
   ],
   "source": [
    "# G решена\n",
    "\n",
    "number = int(input())\n",
    "print((\"Купи слона!\" + '\\n') * number)"
   ]
  },
  {
   "cell_type": "code",
   "execution_count": 89,
   "metadata": {},
   "outputs": [
    {
     "name": "stdout",
     "output_type": "stream",
     "text": [
      "Я больше никогда не буду писать \"алолол\"\n",
      "Я больше никогда не буду писать \"алолол\"\n",
      "\n"
     ]
    }
   ],
   "source": [
    "# H решена\n",
    "\n",
    "number = int(input())\n",
    "punishment = str(input())\n",
    "print(f'Я больше никогда не буду писать \"{punishment}\"!\\n' * number)"
   ]
  },
  {
   "cell_type": "code",
   "execution_count": 91,
   "metadata": {},
   "outputs": [
    {
     "name": "stdout",
     "output_type": "stream",
     "text": [
      "50\n"
     ]
    }
   ],
   "source": [
    "# I решена\n",
    "\n",
    "minute = int(input())\n",
    "children = int(input())\n",
    "print(int((minute * children) / 2))"
   ]
  },
  {
   "cell_type": "code",
   "execution_count": 95,
   "metadata": {},
   "outputs": [
    {
     "name": "stdout",
     "output_type": "stream",
     "text": [
      "Группа №8.\n",
      "2. Ванечка\n",
      "Шкафчик: 832.\n",
      "Кроватка: 3.\n"
     ]
    }
   ],
   "source": [
    "# J решена\n",
    "\n",
    "name = str(input())\n",
    "number = int(input())\n",
    "print(f'Группа №{number // 100}.')\n",
    "print(f'{number % 10}. {name}.')\n",
    "print(f'Шкафчик: {number}.')\n",
    "print(f'Кроватка: {number // 10 % 10}.')"
   ]
  },
  {
   "cell_type": "code",
   "execution_count": 96,
   "metadata": {},
   "outputs": [
    {
     "name": "stdout",
     "output_type": "stream",
     "text": [
      "2143\n"
     ]
    }
   ],
   "source": [
    "# K выполнено\n",
    "\n",
    "number = str(input())\n",
    "print(number[1], number[0], number[3], number[2], sep='')"
   ]
  },
  {
   "cell_type": "code",
   "execution_count": 122,
   "metadata": {},
   "outputs": [
    {
     "name": "stdout",
     "output_type": "stream",
     "text": [
      "002\n"
     ]
    }
   ],
   "source": [
    "# L решена\n",
    "\n",
    "number_1 = f'{str(input()):0>3}'\n",
    "number_2 = f'{str(input()):0>3}'\n",
    "sum_number = \"\"\n",
    "for i in range(3):\n",
    "    sum_number = sum_number + str((int(number_1[i]) + int(number_2[i])) % 10)\n",
    "print(sum_number)"
   ]
  },
  {
   "cell_type": "code",
   "execution_count": 3,
   "metadata": {},
   "outputs": [
    {
     "name": "stdout",
     "output_type": "stream",
     "text": [
      "25\n",
      "0\n"
     ]
    }
   ],
   "source": [
    "# М решена\n",
    "\n",
    "children = int(input())\n",
    "candies = int(input())\n",
    "print(candies // children)\n",
    "print(candies % children)"
   ]
  },
  {
   "cell_type": "code",
   "execution_count": 5,
   "metadata": {},
   "outputs": [
    {
     "name": "stdout",
     "output_type": "stream",
     "text": [
      "5\n"
     ]
    }
   ],
   "source": [
    "# N решена\n",
    "\n",
    "ball_1 = int(input())\n",
    "ball_2 = int(input())\n",
    "ball_3 = int(input())\n",
    "print(ball_1 + ball_3 + 1)"
   ]
  },
  {
   "cell_type": "code",
   "execution_count": 12,
   "metadata": {},
   "outputs": [
    {
     "name": "stdout",
     "output_type": "stream",
     "text": [
      "08:07\n"
     ]
    }
   ],
   "source": [
    "# O решена\n",
    "\n",
    "hour = int(input())\n",
    "minute = int(input())\n",
    "time_minute = int(input())\n",
    "print(f'{(hour * 60 + minute + time_minute) // 60 % 24:0>2}:{(hour * 60 + minute + time_minute) % 60:0>2}')"
   ]
  },
  {
   "cell_type": "code",
   "execution_count": 94,
   "metadata": {},
   "outputs": [
    {
     "name": "stdout",
     "output_type": "stream",
     "text": [
      "1.00\n"
     ]
    }
   ],
   "source": [
    "# P решена\n",
    "\n",
    "warehouse = int(input())\n",
    "store = int(input())\n",
    "speed = int(input())\n",
    "print(f\"{(store - warehouse) / speed:.2f}\")"
   ]
  },
  {
   "cell_type": "code",
   "execution_count": 26,
   "metadata": {},
   "outputs": [
    {
     "name": "stdout",
     "output_type": "stream",
     "text": [
      "136\n"
     ]
    }
   ],
   "source": [
    "# Q решена\n",
    "\n",
    "ten = str(input())\n",
    "two = str(input())\n",
    "print(int(ten, 10) + int(two, 2))"
   ]
  },
  {
   "cell_type": "code",
   "execution_count": 28,
   "metadata": {},
   "outputs": [
    {
     "name": "stdout",
     "output_type": "stream",
     "text": [
      "27\n"
     ]
    }
   ],
   "source": [
    "# R решена\n",
    "\n",
    "two = int(input(), 2)\n",
    "ten = int(input(), 10)\n",
    "print(ten - two)"
   ]
  },
  {
   "cell_type": "code",
   "execution_count": 95,
   "metadata": {},
   "outputs": [
    {
     "name": "stdout",
     "output_type": "stream",
     "text": [
      "================Чек================\n",
      "Товар:                        Манго\n",
      "Цена:                10кг * 5руб/кг\n",
      "Итого:                        50руб\n",
      "Внесено:                     100руб\n",
      "Сдача:                        50руб\n",
      "===================================\n"
     ]
    }
   ],
   "source": [
    "# S решена\n",
    "\n",
    "product = input()\n",
    "price = int(input())\n",
    "weight = int(input())\n",
    "money = int(input())\n",
    "print(f\"{'Чек':=^35}\")\n",
    "print(f\"{'Товар:': <{35 - len(product)}}\", product, sep=\"\")\n",
    "print(\n",
    "    f\"{'Цена:': <{35 - len(str(weight) + 'кг * ' + str(price) + 'руб/кг')}}\",\n",
    "    f\"{weight}кг * {price}руб/кг\",\n",
    "    sep=\"\",\n",
    ")\n",
    "print(\n",
    "    f\"{'Итого:': <{35 - len(str(weight * price) + 'руб')}}\",\n",
    "    str(weight * price) + \"руб\",\n",
    "    sep=\"\",\n",
    ")\n",
    "print(f\"{'Внесено:': <{35 - len(str(money) + 'руб')}}\", str(money) + \"руб\", sep=\"\")\n",
    "print(\n",
    "    f\"{'Сдача:': <{35 - len(str(money - (weight * price)) + 'руб')}}\",\n",
    "    str(money - (weight * price)) + \"руб\",\n",
    "    sep=\"\",\n",
    ")\n",
    "print(\"=\" * 35)"
   ]
  },
  {
   "cell_type": "code",
   "execution_count": 3,
   "metadata": {},
   "outputs": [
    {
     "name": "stdout",
     "output_type": "stream",
     "text": [
      "24 8\n"
     ]
    }
   ],
   "source": [
    "# T решена\n",
    "\n",
    "sum_weight = int(input())\n",
    "sum_price = int(input())\n",
    "price_cutlet_1 = int(input())\n",
    "price_cutlet_2 = int(input())\n",
    "find_y = price_cutlet_1 - price_cutlet_2\n",
    "weight_cutlet_2 = ((price_cutlet_1 * sum_weight) - (sum_weight * sum_price)) / find_y\n",
    "weight_cutlet_1 = sum_weight - weight_cutlet_2\n",
    "print(int(weight_cutlet_1), int(weight_cutlet_2))"
   ]
  },
  {
   "cell_type": "code",
   "execution_count": 102,
   "metadata": {},
   "outputs": [
    {
     "name": "stdout",
     "output_type": "stream",
     "text": [
      "[5, 4, 3, 2, 1]\n"
     ]
    }
   ],
   "source": []
  },
  {
   "cell_type": "code",
   "execution_count": 73,
   "metadata": {},
   "outputs": [
    {
     "name": "stdout",
     "output_type": "stream",
     "text": [
      "Цена:             3кг * 2руб/кг\n"
     ]
    }
   ],
   "source": []
  },
  {
   "cell_type": "code",
   "execution_count": 76,
   "metadata": {},
   "outputs": [
    {
     "name": "stdout",
     "output_type": "stream",
     "text": [
      "9\n"
     ]
    }
   ],
   "source": []
  },
  {
   "cell_type": "code",
   "execution_count": 84,
   "metadata": {},
   "outputs": [
    {
     "name": "stdout",
     "output_type": "stream",
     "text": [
      "Цена:    \n"
     ]
    }
   ],
   "source": []
  },
  {
   "cell_type": "code",
   "execution_count": 89,
   "metadata": {},
   "outputs": [
    {
     "name": "stdout",
     "output_type": "stream",
     "text": [
      "17\n",
      "18\n"
     ]
    }
   ],
   "source": []
  },
  {
   "cell_type": "code",
   "execution_count": null,
   "metadata": {},
   "outputs": [],
   "source": []
  }
 ],
 "metadata": {
  "kernelspec": {
   "display_name": "base",
   "language": "python",
   "name": "python3"
  },
  "language_info": {
   "codemirror_mode": {
    "name": "ipython",
    "version": 3
   },
   "file_extension": ".py",
   "mimetype": "text/x-python",
   "name": "python",
   "nbconvert_exporter": "python",
   "pygments_lexer": "ipython3",
   "version": "3.11.9"
  },
  "orig_nbformat": 4
 },
 "nbformat": 4,
 "nbformat_minor": 2
}
