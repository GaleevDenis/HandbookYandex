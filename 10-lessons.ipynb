{
 "cells": [
  {
   "cell_type": "code",
   "execution_count": null,
   "metadata": {},
   "outputs": [],
   "source": [
    "# A Решено\n",
    "\n",
    "def print_hello(name):\n",
    "    print(\"Hello, \" + name + \"!\")"
   ]
  },
  {
   "cell_type": "code",
   "execution_count": 2,
   "metadata": {},
   "outputs": [
    {
     "name": "stdout",
     "output_type": "stream",
     "text": [
      "0\n"
     ]
    }
   ],
   "source": [
    "# B не решена \n",
    "\n",
    "def gcd(one, two):\n",
    "    if one > two:\n",
    "        a = one % two\n",
    "    else:\n",
    "        a = two % one\n",
    "    while a != 0:\n",
    "        if one > two:\n",
    "            two = a\n",
    "            a = two % a\n",
    "        else:\n",
    "            one = a\n",
    "            a = one % a\n",
    "    return a\n",
    "\n",
    "b = gcd(140, 96)\n",
    "print(b)"
   ]
  },
  {
   "cell_type": "code",
   "execution_count": null,
   "metadata": {},
   "outputs": [],
   "source": [
    "# C Решена\n",
    "\n",
    "def number_length(chislo):\n",
    "    return len(str(abs(int(chislo))))"
   ]
  },
  {
   "cell_type": "code",
   "execution_count": 5,
   "metadata": {},
   "outputs": [
    {
     "data": {
      "text/plain": [
       "'January'"
      ]
     },
     "execution_count": 5,
     "metadata": {},
     "output_type": "execute_result"
    }
   ],
   "source": [
    "# D решена\n",
    "\n",
    "def month(num, lang):\n",
    "    dic = {\"en\": [\"January\", \"February\", \"March\", \"April\", \"May\", \"June\", \"July\", \"August\",\n",
    "           \"September\", \"October\", \"November\", \"December\"],\n",
    "           \"ru\": [\"Январь\", \"Февраль\", \"Март\", \"Апрель\", \"Май\", \"Июнь\", \"Июль\", \"Август\", \"Сентябрь\",\n",
    "                  \"Октябрь\", \"Ноябрь\", \"Декабрь\"]\n",
    "           }\n",
    "    return dic[lang][num - 1]\n",
    "month(1,\"en\")"
   ]
  },
  {
   "cell_type": "code",
   "execution_count": null,
   "metadata": {},
   "outputs": [],
   "source": [
    "# E Решена\n",
    "\n",
    "def split_numbers(stri):\n",
    "    return tuple([int(q) for q in stri.split()])"
   ]
  },
  {
   "cell_type": "code",
   "execution_count": 7,
   "metadata": {},
   "outputs": [
    {
     "name": "stdout",
     "output_type": "stream",
     "text": [
      "Hello!\n",
      "How do you do?\n"
     ]
    }
   ],
   "source": [
    "# F Решена\n",
    "\n",
    "def modern_print(stri):\n",
    "    if stri not in x:\n",
    "        x.append(stri)\n",
    "        return print(stri)\n",
    "    else:\n",
    "        pass\n",
    "\n",
    "\n",
    "x = []"
   ]
  },
  {
   "cell_type": "code",
   "execution_count": null,
   "metadata": {},
   "outputs": [],
   "source": [
    "# G Решена\n",
    "\n",
    "def can_eat(kon, fig):\n",
    "    if kon[0] - fig[0] in [1, 2, -1, -2]:\n",
    "        if kon[1] - fig[1] in [1, 2, -1, -2]:\n",
    "            if (kon[0] - fig[0] == -1) and (kon[1] - fig[1] == -1):\n",
    "                return False\n",
    "            else:\n",
    "                return True\n",
    "    return False"
   ]
  },
  {
   "cell_type": "code",
   "execution_count": 32,
   "metadata": {},
   "outputs": [
    {
     "data": {
      "text/plain": [
       "True"
      ]
     },
     "execution_count": 32,
     "metadata": {},
     "output_type": "execute_result"
    }
   ],
   "source": [
    "# H решена\n",
    "\n",
    "def is_palindrome(znak):\n",
    "    if type(znak) in (int, str):\n",
    "        if str(znak) == str(znak)[-1::-1]:\n",
    "            return True\n",
    "        else:\n",
    "            return False\n",
    "    else:\n",
    "        if list(znak) == [znak[q] for q in range(-1, -(len(znak)) - 1, -1)]:\n",
    "            return True\n",
    "        else:\n",
    "            return False\n",
    "\n",
    "is_palindrome(121)"
   ]
  },
  {
   "cell_type": "code",
   "execution_count": 21,
   "metadata": {},
   "outputs": [
    {
     "name": "stdout",
     "output_type": "stream",
     "text": [
      "(1, 2, -1, 2, 1)\n"
     ]
    }
   ],
   "source": [
    "a = (1, 2, -1, 2, 1)\n",
    "c = [a[q] for q in range(-1, -(len(a)) - 1, -1)]\n",
    "print(tuple(c))"
   ]
  },
  {
   "cell_type": "code",
   "execution_count": 10,
   "metadata": {},
   "outputs": [
    {
     "data": {
      "text/plain": [
       "True"
      ]
     },
     "execution_count": 10,
     "metadata": {},
     "output_type": "execute_result"
    }
   ],
   "source": [
    "# I Решена\n",
    "\n",
    "def is_prime(n):\n",
    "    d = 2\n",
    "    while d * d <= n and n % d != 0:\n",
    "        d += 1\n",
    "    return d * d > n\n",
    "\n",
    "is_prime(2)"
   ]
  },
  {
   "cell_type": "code",
   "execution_count": 8,
   "metadata": {},
   "outputs": [
    {
     "name": "stdout",
     "output_type": "stream",
     "text": [
      "[7, 1, 12, 9, 50]\n",
      "[7, 1, 9, 12, 50]\n",
      "[1, 7, 9, 12, 50]\n",
      "(1, 7, 9, 12, 50)\n"
     ]
    }
   ],
   "source": [
    "# j Решена\n",
    "\n",
    "def merge(tuple_one, tuple_two):\n",
    "    tuple_three = list(tuple_one) + list(tuple_two)\n",
    "    k = 1\n",
    "    while k != 0:\n",
    "        num = 0\n",
    "        for i in range(len(tuple_three)):\n",
    "            if i != 0:\n",
    "                if tuple_three[i] < tuple_three[i - 1]:\n",
    "                    tuple_three[i], tuple_three[i - 1] = tuple_three[i - 1], tuple_three[i]\n",
    "                    num += 1\n",
    "                    print(tuple_three)\n",
    "        if num == 0:\n",
    "            k = 0\n",
    "    return tuple(tuple_three)\n",
    "\n",
    "\n",
    "result = merge((7, 12), (1, 9, 50))"
   ]
  },
  {
   "cell_type": "code",
   "execution_count": 26,
   "metadata": {},
   "outputs": [
    {
     "name": "stdout",
     "output_type": "stream",
     "text": [
      "0\\т1\\т4\\т9\\т16\n"
     ]
    }
   ],
   "source": [
    "def square(x):\n",
    "    return x ** 2\n",
    "\n",
    "    \n",
    "result = map(square, range(5))\n",
    "print(\"\\т\".join(str(x) for x in result))"
   ]
  },
  {
   "cell_type": "code",
   "execution_count": 25,
   "metadata": {},
   "outputs": [
    {
     "name": "stdout",
     "output_type": "stream",
     "text": [
      "abcd\n",
      "efgh\n",
      "ijkl\n"
     ]
    }
   ],
   "source": [
    "result = map(str.lower, [\"abCD\", \"EFGh\", \"IJkl\"])\n",
    "print(\"\\n\".join(result))"
   ]
  },
  {
   "cell_type": "code",
   "execution_count": 31,
   "metadata": {},
   "outputs": [
    {
     "ename": "ValueError",
     "evalue": "invalid literal for int() with base 10: '1321,13'",
     "output_type": "error",
     "traceback": [
      "\u001b[1;31m---------------------------------------------------------------------------\u001b[0m",
      "\u001b[1;31mValueError\u001b[0m                                Traceback (most recent call last)",
      "\u001b[1;32mc:\\Users\\user\\YandexDisk\\Хендбук от яндекс\\10-lessons.ipynb Ячейка 14\u001b[0m line \u001b[0;36m1\n\u001b[1;32m----> <a href='vscode-notebook-cell:/c%3A/Users/user/YandexDisk/%D0%A5%D0%B5%D0%BD%D0%B4%D0%B1%D1%83%D0%BA%20%D0%BE%D1%82%20%D1%8F%D0%BD%D0%B4%D0%B5%D0%BA%D1%81/10-lessons.ipynb#X16sZmlsZQ%3D%3D?line=0'>1</a>\u001b[0m numbers \u001b[39m=\u001b[39m \u001b[39mlist\u001b[39;49m(\u001b[39mmap\u001b[39;49m(\u001b[39mint\u001b[39;49m, \u001b[39minput\u001b[39;49m()\u001b[39m.\u001b[39;49msplit()))\n\u001b[0;32m      <a href='vscode-notebook-cell:/c%3A/Users/user/YandexDisk/%D0%A5%D0%B5%D0%BD%D0%B4%D0%B1%D1%83%D0%BA%20%D0%BE%D1%82%20%D1%8F%D0%BD%D0%B4%D0%B5%D0%BA%D1%81/10-lessons.ipynb#X16sZmlsZQ%3D%3D?line=1'>2</a>\u001b[0m \u001b[39mprint\u001b[39m(numbers)\n",
      "\u001b[1;31mValueError\u001b[0m: invalid literal for int() with base 10: '1321,13'"
     ]
    }
   ],
   "source": [
    "numbers = list(map(int, input().split()))\n",
    "print(numbers)"
   ]
  },
  {
   "cell_type": "code",
   "execution_count": 43,
   "metadata": {},
   "outputs": [
    {
     "name": "stdout",
     "output_type": "stream",
     "text": [
      "range(0, 5)\n"
     ]
    }
   ],
   "source": [
    "result = range(5)\n",
    "print(result)"
   ]
  },
  {
   "cell_type": "code",
   "execution_count": 54,
   "metadata": {},
   "outputs": [
    {
     "name": "stdout",
     "output_type": "stream",
     "text": [
      "['ab', 'abc', 'abcd', 'abcdef']\n"
     ]
    }
   ],
   "source": [
    "lines = [\"abcd\", \"ab\", \"abc\", \"abcdef\"]\n",
    "print(sorted(lines, key = lambda line: len(line)))"
   ]
  },
  {
   "cell_type": "code",
   "execution_count": null,
   "metadata": {},
   "outputs": [],
   "source": []
  }
 ],
 "metadata": {
  "kernelspec": {
   "display_name": "Python 3",
   "language": "python",
   "name": "python3"
  },
  "language_info": {
   "codemirror_mode": {
    "name": "ipython",
    "version": 3
   },
   "file_extension": ".py",
   "mimetype": "text/x-python",
   "name": "python",
   "nbconvert_exporter": "python",
   "pygments_lexer": "ipython3",
   "version": "3.9.13"
  },
  "orig_nbformat": 4
 },
 "nbformat": 4,
 "nbformat_minor": 2
}
